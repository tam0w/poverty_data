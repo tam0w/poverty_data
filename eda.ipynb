{
 "cells": [
  {
   "cell_type": "markdown",
   "source": [
    "# Examination of Poverty Dynamics through Data Visualization"
   ],
   "metadata": {
    "collapsed": false
   },
   "id": "90fe7e8e4f4c6cec"
  },
  {
   "cell_type": "code",
   "execution_count": 1,
   "outputs": [
    {
     "name": "stderr",
     "output_type": "stream",
     "text": [
      "D:\\PROJECTS\\poverty_data\\venv\\Lib\\site-packages\\fuzzywuzzy\\fuzz.py:11: UserWarning: Using slow pure-python SequenceMatcher. Install python-Levenshtein to remove this warning\n",
      "  warnings.warn('Using slow pure-python SequenceMatcher. Install python-Levenshtein to remove this warning')\n"
     ]
    }
   ],
   "source": [
    "import json\n",
    "import pprint\n",
    "import pandas as pd \n",
    "import numpy as np\n",
    "import matplotlib.pyplot as plt\n",
    "import seaborn as sns\n",
    "import os\n",
    "from fuzzywuzzy import fuzz"
   ],
   "metadata": {
    "collapsed": false,
    "ExecuteTime": {
     "end_time": "2023-12-19T10:58:59.396868200Z",
     "start_time": "2023-12-19T10:58:59.337702900Z"
    }
   },
   "id": "initial_id"
  },
  {
   "cell_type": "markdown",
   "source": [
    "## Reading the required datasets:"
   ],
   "metadata": {
    "collapsed": false
   },
   "id": "119059892506038b"
  },
  {
   "cell_type": "code",
   "execution_count": 2,
   "outputs": [],
   "source": [
    "dist_data = pd.read_csv(r'datasets/pca-total.csv')\n",
    "dist_data_columns = pd.read_csv(r'datasets/pca-colnames.csv')\n",
    "literacy = pd.read_csv(r'datasets/Literacy Data 2011.csv')\n",
    "crimes = pd.read_csv(r'datasets/01_District_wise_crimes_committed_IPC_2001_2012.csv')\n",
    "dist_data_other = pd.read_csv(r'datasets/india-districts-census-2011.csv')"
   ],
   "metadata": {
    "collapsed": false,
    "ExecuteTime": {
     "end_time": "2023-12-19T10:59:14.105911100Z",
     "start_time": "2023-12-19T10:59:13.988091300Z"
    }
   },
   "id": "5757af19f5b4b9b5"
  },
  {
   "cell_type": "markdown",
   "source": [
    "## Preprocessing the data:\n",
    "\n",
    "Merging the datasets into one dataset."
   ],
   "metadata": {
    "collapsed": false
   },
   "id": "b893af06b26535e0"
  },
  {
   "cell_type": "code",
   "execution_count": 3,
   "outputs": [
    {
     "data": {
      "text/plain": "    State  District     Level                       Name    TRU     TRU1  \\\n0       1         1  DISTRICT                    Kupwara  Total   2379.0   \n1       1         2  DISTRICT                     Badgam  Total   1361.0   \n2       1         3  DISTRICT                Leh(Ladakh)  Total  45110.0   \n3       1         4  DISTRICT                     Kargil  Total  14036.0   \n4       1         5  DISTRICT                      Punch  Total   1674.0   \n5       1         6  DISTRICT                    Rajouri  Total   2630.0   \n6       1         7  DISTRICT                     Kathua  Total   2502.0   \n7       1         8  DISTRICT                   Baramula  Total   4243.0   \n8       1         9  DISTRICT                  Bandipore  Total    345.0   \n9       1        10  DISTRICT                   Srinagar  Total   1979.0   \n10      1        11  DISTRICT                  Ganderbal  Total    259.0   \n11      1        12  DISTRICT                    Pulwama  Total   1086.0   \n12      1        13  DISTRICT                   Shupiyan  Total    312.0   \n13      1        14  DISTRICT                   Anantnag  Total   3574.0   \n14      1        15  DISTRICT                     Kulgam  Total    410.0   \n15      1        16  DISTRICT                       Doda  Total   8912.0   \n16      1        17  DISTRICT                     Ramban  Total   1329.0   \n17      1        18  DISTRICT                   Kishtwar  Total   1644.0   \n18      1        19  DISTRICT                   Udhampur  Total   2637.0   \n19      1        20  DISTRICT                      Reasi  Total   1719.0   \n20      1        21  DISTRICT                      Jammu  Total   2342.0   \n21      1        22  DISTRICT                      Samba  Total    904.0   \n22      2        23  DISTRICT                     Chamba  Total   6522.0   \n23      2        24  DISTRICT                     Kangra  Total   5739.0   \n24      2        25  DISTRICT              Lahul & Spiti  Total  13841.0   \n25      2        26  DISTRICT                      Kullu  Total   5503.0   \n26      2        27  DISTRICT                      Mandi  Total   3950.0   \n27      2        28  DISTRICT                   Hamirpur  Total   1118.0   \n28      2        29  DISTRICT                        Una  Total   1540.0   \n29      2        30  DISTRICT                   Bilaspur  Total   1167.0   \n30      2        31  DISTRICT                      Solan  Total   1936.0   \n31      2        32  DISTRICT                    Sirmaur  Total   2825.0   \n32      2        33  DISTRICT                     Shimla  Total   5131.0   \n33      2        34  DISTRICT                    Kinnaur  Total   6401.0   \n34      3        35  DISTRICT                  Gurdaspur  Total   3551.0   \n35      3        36  DISTRICT                 Kapurthala  Total   1633.0   \n36      3        37  DISTRICT                  Jalandhar  Total   2624.0   \n37      3        38  DISTRICT                 Hoshiarpur  Total   3386.0   \n38      3        39  DISTRICT  Shahid Bhagat Singh Nagar  Total   1282.0   \n39      3        40  DISTRICT            Fatehgarh Sahib  Total   1180.0   \n40      3        41  DISTRICT                   Ludhiana  Total   3578.0   \n41      3        42  DISTRICT                       Moga  Total   2242.0   \n42      3        43  DISTRICT                   Firozpur  Total   5305.0   \n43      3        44  DISTRICT                    Muktsar  Total   2593.0   \n44      3        45  DISTRICT                   Faridkot  Total   1458.0   \n45      3        46  DISTRICT                   Bathinda  Total   3353.0   \n46      3        47  DISTRICT                      Mansa  Total   2198.0   \n47      3        48  DISTRICT                    Patiala  Total   3325.0   \n48      3        49  DISTRICT                   Amritsar  Total   2683.0   \n49      3        50  DISTRICT                 Tarn Taran  Total   2414.0   \n\n     No_HH    TOT_P    TOT_M    TOT_F  ...  MARG_AL_0_3_F  MARG_HH_0_3_P  \\\n0   113929   870354   474190   396164  ...           1955           1216   \n1   103363   753745   398041   355704  ...           2035           3823   \n2    21909   133487    78971    54516  ...            106             65   \n3    18338   140802    77785    63017  ...            521            263   \n4    90261   476835   251899   224936  ...           2035            948   \n5   130401   642415   345351   297064  ...           2424            861   \n6   119583   616435   326109   290326  ...            887            325   \n7   152635  1008039   534733   473306  ...           3141           1701   \n8    58392   392232   207680   184552  ...           3773           2472   \n9   191678  1236829   651124   585705  ...            274           2070   \n10   45361   297446   158720   138726  ...           2517           1756   \n11   86241   560440   293064   267376  ...           3888           2641   \n12   44411   266215   136480   129735  ...            848            613   \n13  153640  1078692   559767   518925  ...          10293           4390   \n14   73728   424483   217620   206863  ...           2869           1062   \n15   79636   409936   213641   196295  ...            710            686   \n16   55490   283713   149132   134581  ...            579            195   \n17   45209   230696   120165   110531  ...           1901            227   \n18   99240   554985   296784   258201  ...           1384            409   \n19   56689   314667   166461   148206  ...            504             47   \n20  314199  1529958   813821   716137  ...           1664            724   \n21   65385   318898   169124   149774  ...            262             91   \n22  102460   519080   261320   257760  ...            763            795   \n23  338887  1510075   750591   759484  ...           5655           2229   \n24    6674    31564    16588    14976  ...             35              3   \n25   94807   437903   225452   212451  ...            889            423   \n26  219145   999777   498065   501712  ...           1625            761   \n27  105519   454768   217070   237698  ...            836            227   \n28  110332   521173   263692   257481  ...           1269            185   \n29   80485   381956   192764   189192  ...            222            253   \n30  122425   580320   308754   271566  ...            358            813   \n31   98208   529855   276289   253566  ...            569            722   \n32  184362   814010   425039   388971  ...            910           1080   \n33   19976    84121    46249    37872  ...             64            185   \n34  443666  2298323  1212617  1085706  ...           1493           2523   \n35  167989   815168   426311   388857  ...            692            309   \n36  461635  2193590  1145211  1048379  ...           1319           1113   \n37  336994  1586625   809057   777568  ...           1854            942   \n38  129500   612310   313291   299019  ...            573            310   \n39  118100   600163   320795   279368  ...            254            291   \n40  716826  3498739  1867816  1630923  ...           1176           3255   \n41  193256   995746   525920   469826  ...           1733           1384   \n42  385994  2029074  1071637   957437  ...          21339            921   \n43  174360   901896   475622   426274  ...           5488            252   \n44  120893   617508   326671   290837  ...           2279            477   \n45  273902  1388525   743197   645328  ...           6698            884   \n46  149630   769751   408732   361019  ...           7105           1125   \n47  372293  1895686  1002522   893164  ...           3585            984   \n48  488898  2490656  1318408  1172248  ...           3215           1828   \n49  203421  1119627   589369   530258  ...           1350           1094   \n\n    MARG_HH_0_3_M  MARG_HH_0_3_F  MARG_OT_0_3_P  MARG_OT_0_3_M  MARG_OT_0_3_F  \\\n0             597            619           7369           4727           2642   \n1            1148           2675           4674           2393           2281   \n2              17             48            633            416            217   \n3              93            170           3887           2920            967   \n4             243            705           6374           2762           3612   \n5             217            644          15078           4583          10495   \n6             161            164           4444           3410           1034   \n7             787            914           6955           4606           2349   \n8             664           1808           5579           2160           3419   \n9             305           1765           5706           3711           1995   \n10            387           1369           4687           3178           1509   \n11            387           2254           6449           2951           3498   \n12            112            501           1095            388            707   \n13            836           3554          11272           3893           7379   \n14            226            836           4297           1695           2602   \n15             78            608           3104           2159            945   \n16             39            156           1379            768            611   \n17             47            180            939            710            229   \n18            105            304           4299           1771           2528   \n19              5             42            856            412            444   \n20            257            467           7189           5562           1627   \n21             69             22           2192           1705            487   \n22            316            479           6033           3350           2683   \n23            853           1376          20993          11310           9683   \n24              1              2            458            296            162   \n25            199            224            918            498            420   \n26            317            444           9549           4308           5241   \n27            132             95           3517           1931           1586   \n28             75            110           2996           1921           1075   \n29             92            161           1776           1161            615   \n30            130            683           1645            988            657   \n31            287            435           2234           1491            743   \n32            468            612           2947           1633           1314   \n33             89             96            491            299            192   \n34           1160           1363          12108           8720           3388   \n35            178            131           2743           1960            783   \n36            470            643           9298           6225           3073   \n37            601            341          12472           8489           3983   \n38            147            163           3250           2453            797   \n39            144            147           3102           2264            838   \n40           1229           2026          13876           8319           5557   \n41            430            954           3922           2381           1541   \n42            288            633           9393           4654           4739   \n43             59            193           3375           1362           2013   \n44            135            342           2163           1260            903   \n45            231            653           7614           3267           4347   \n46            300            825           6749           1513           5236   \n47            572            412          10601           7353           3248   \n48            649           1179           9867           6300           3567   \n49            430            664           4955           3344           1611   \n\n    NON_WORK_P  NON_WORK_M  NON_WORK_F  \n0       641290      283291      357999  \n1       538879      235463      303416  \n2        58408       25706       32702  \n3        88929       37946       50983  \n4       315442      134222      181220  \n5       351503      160599      190904  \n6       416004      164561      251443  \n7       703839      285152      418687  \n8       242915      106300      136615  \n9       829641      317973      511668  \n10      196556       85415      111141  \n11      372020      154636      217384  \n12      178494       72549      105945  \n13      689008      315735      373273  \n14      264493      115303      149190  \n15      258024      112497      145527  \n16      196501       80656      115845  \n17      147722       63386       84336  \n18      311313      132939      178374  \n19      169900       77706       92194  \n20     1021336      396365      624971  \n21      226372       87172      139200  \n22      225045      102529      122516  \n23      834905      346835      488070  \n24       12269        5825        6444  \n25      168819       76623       92196  \n26      427106      200601      226505  \n27      212837       98346      114491  \n28      305827      122080      183747  \n29      176085       81221       94864  \n30      281583      118753      162830  \n31      249772      106890      142882  \n32      383084      166411      216673  \n33       27848       12386       15462  \n34     1541185      574965      966220  \n35      531003      190749      340254  \n36     1419118      505727      913391  \n37     1086803      396551      690252  \n38      407981      143039      264942  \n39      385380      138018      247362  \n40     2213917      814216     1399701  \n41      636574      233541      403033  \n42     1272379      475231      797148  \n43      566570      202923      363647  \n44      395953      141622      254331  \n45      838539      310209      528330  \n46      441239      177993      263246  \n47     1235419      452861      782558  \n48     1572800      583213      989587  \n49      738925      275730      463195  \n\n[50 rows x 91 columns]",
      "text/html": "<div>\n<style scoped>\n    .dataframe tbody tr th:only-of-type {\n        vertical-align: middle;\n    }\n\n    .dataframe tbody tr th {\n        vertical-align: top;\n    }\n\n    .dataframe thead th {\n        text-align: right;\n    }\n</style>\n<table border=\"1\" class=\"dataframe\">\n  <thead>\n    <tr style=\"text-align: right;\">\n      <th></th>\n      <th>State</th>\n      <th>District</th>\n      <th>Level</th>\n      <th>Name</th>\n      <th>TRU</th>\n      <th>TRU1</th>\n      <th>No_HH</th>\n      <th>TOT_P</th>\n      <th>TOT_M</th>\n      <th>TOT_F</th>\n      <th>...</th>\n      <th>MARG_AL_0_3_F</th>\n      <th>MARG_HH_0_3_P</th>\n      <th>MARG_HH_0_3_M</th>\n      <th>MARG_HH_0_3_F</th>\n      <th>MARG_OT_0_3_P</th>\n      <th>MARG_OT_0_3_M</th>\n      <th>MARG_OT_0_3_F</th>\n      <th>NON_WORK_P</th>\n      <th>NON_WORK_M</th>\n      <th>NON_WORK_F</th>\n    </tr>\n  </thead>\n  <tbody>\n    <tr>\n      <th>0</th>\n      <td>1</td>\n      <td>1</td>\n      <td>DISTRICT</td>\n      <td>Kupwara</td>\n      <td>Total</td>\n      <td>2379.0</td>\n      <td>113929</td>\n      <td>870354</td>\n      <td>474190</td>\n      <td>396164</td>\n      <td>...</td>\n      <td>1955</td>\n      <td>1216</td>\n      <td>597</td>\n      <td>619</td>\n      <td>7369</td>\n      <td>4727</td>\n      <td>2642</td>\n      <td>641290</td>\n      <td>283291</td>\n      <td>357999</td>\n    </tr>\n    <tr>\n      <th>1</th>\n      <td>1</td>\n      <td>2</td>\n      <td>DISTRICT</td>\n      <td>Badgam</td>\n      <td>Total</td>\n      <td>1361.0</td>\n      <td>103363</td>\n      <td>753745</td>\n      <td>398041</td>\n      <td>355704</td>\n      <td>...</td>\n      <td>2035</td>\n      <td>3823</td>\n      <td>1148</td>\n      <td>2675</td>\n      <td>4674</td>\n      <td>2393</td>\n      <td>2281</td>\n      <td>538879</td>\n      <td>235463</td>\n      <td>303416</td>\n    </tr>\n    <tr>\n      <th>2</th>\n      <td>1</td>\n      <td>3</td>\n      <td>DISTRICT</td>\n      <td>Leh(Ladakh)</td>\n      <td>Total</td>\n      <td>45110.0</td>\n      <td>21909</td>\n      <td>133487</td>\n      <td>78971</td>\n      <td>54516</td>\n      <td>...</td>\n      <td>106</td>\n      <td>65</td>\n      <td>17</td>\n      <td>48</td>\n      <td>633</td>\n      <td>416</td>\n      <td>217</td>\n      <td>58408</td>\n      <td>25706</td>\n      <td>32702</td>\n    </tr>\n    <tr>\n      <th>3</th>\n      <td>1</td>\n      <td>4</td>\n      <td>DISTRICT</td>\n      <td>Kargil</td>\n      <td>Total</td>\n      <td>14036.0</td>\n      <td>18338</td>\n      <td>140802</td>\n      <td>77785</td>\n      <td>63017</td>\n      <td>...</td>\n      <td>521</td>\n      <td>263</td>\n      <td>93</td>\n      <td>170</td>\n      <td>3887</td>\n      <td>2920</td>\n      <td>967</td>\n      <td>88929</td>\n      <td>37946</td>\n      <td>50983</td>\n    </tr>\n    <tr>\n      <th>4</th>\n      <td>1</td>\n      <td>5</td>\n      <td>DISTRICT</td>\n      <td>Punch</td>\n      <td>Total</td>\n      <td>1674.0</td>\n      <td>90261</td>\n      <td>476835</td>\n      <td>251899</td>\n      <td>224936</td>\n      <td>...</td>\n      <td>2035</td>\n      <td>948</td>\n      <td>243</td>\n      <td>705</td>\n      <td>6374</td>\n      <td>2762</td>\n      <td>3612</td>\n      <td>315442</td>\n      <td>134222</td>\n      <td>181220</td>\n    </tr>\n    <tr>\n      <th>5</th>\n      <td>1</td>\n      <td>6</td>\n      <td>DISTRICT</td>\n      <td>Rajouri</td>\n      <td>Total</td>\n      <td>2630.0</td>\n      <td>130401</td>\n      <td>642415</td>\n      <td>345351</td>\n      <td>297064</td>\n      <td>...</td>\n      <td>2424</td>\n      <td>861</td>\n      <td>217</td>\n      <td>644</td>\n      <td>15078</td>\n      <td>4583</td>\n      <td>10495</td>\n      <td>351503</td>\n      <td>160599</td>\n      <td>190904</td>\n    </tr>\n    <tr>\n      <th>6</th>\n      <td>1</td>\n      <td>7</td>\n      <td>DISTRICT</td>\n      <td>Kathua</td>\n      <td>Total</td>\n      <td>2502.0</td>\n      <td>119583</td>\n      <td>616435</td>\n      <td>326109</td>\n      <td>290326</td>\n      <td>...</td>\n      <td>887</td>\n      <td>325</td>\n      <td>161</td>\n      <td>164</td>\n      <td>4444</td>\n      <td>3410</td>\n      <td>1034</td>\n      <td>416004</td>\n      <td>164561</td>\n      <td>251443</td>\n    </tr>\n    <tr>\n      <th>7</th>\n      <td>1</td>\n      <td>8</td>\n      <td>DISTRICT</td>\n      <td>Baramula</td>\n      <td>Total</td>\n      <td>4243.0</td>\n      <td>152635</td>\n      <td>1008039</td>\n      <td>534733</td>\n      <td>473306</td>\n      <td>...</td>\n      <td>3141</td>\n      <td>1701</td>\n      <td>787</td>\n      <td>914</td>\n      <td>6955</td>\n      <td>4606</td>\n      <td>2349</td>\n      <td>703839</td>\n      <td>285152</td>\n      <td>418687</td>\n    </tr>\n    <tr>\n      <th>8</th>\n      <td>1</td>\n      <td>9</td>\n      <td>DISTRICT</td>\n      <td>Bandipore</td>\n      <td>Total</td>\n      <td>345.0</td>\n      <td>58392</td>\n      <td>392232</td>\n      <td>207680</td>\n      <td>184552</td>\n      <td>...</td>\n      <td>3773</td>\n      <td>2472</td>\n      <td>664</td>\n      <td>1808</td>\n      <td>5579</td>\n      <td>2160</td>\n      <td>3419</td>\n      <td>242915</td>\n      <td>106300</td>\n      <td>136615</td>\n    </tr>\n    <tr>\n      <th>9</th>\n      <td>1</td>\n      <td>10</td>\n      <td>DISTRICT</td>\n      <td>Srinagar</td>\n      <td>Total</td>\n      <td>1979.0</td>\n      <td>191678</td>\n      <td>1236829</td>\n      <td>651124</td>\n      <td>585705</td>\n      <td>...</td>\n      <td>274</td>\n      <td>2070</td>\n      <td>305</td>\n      <td>1765</td>\n      <td>5706</td>\n      <td>3711</td>\n      <td>1995</td>\n      <td>829641</td>\n      <td>317973</td>\n      <td>511668</td>\n    </tr>\n    <tr>\n      <th>10</th>\n      <td>1</td>\n      <td>11</td>\n      <td>DISTRICT</td>\n      <td>Ganderbal</td>\n      <td>Total</td>\n      <td>259.0</td>\n      <td>45361</td>\n      <td>297446</td>\n      <td>158720</td>\n      <td>138726</td>\n      <td>...</td>\n      <td>2517</td>\n      <td>1756</td>\n      <td>387</td>\n      <td>1369</td>\n      <td>4687</td>\n      <td>3178</td>\n      <td>1509</td>\n      <td>196556</td>\n      <td>85415</td>\n      <td>111141</td>\n    </tr>\n    <tr>\n      <th>11</th>\n      <td>1</td>\n      <td>12</td>\n      <td>DISTRICT</td>\n      <td>Pulwama</td>\n      <td>Total</td>\n      <td>1086.0</td>\n      <td>86241</td>\n      <td>560440</td>\n      <td>293064</td>\n      <td>267376</td>\n      <td>...</td>\n      <td>3888</td>\n      <td>2641</td>\n      <td>387</td>\n      <td>2254</td>\n      <td>6449</td>\n      <td>2951</td>\n      <td>3498</td>\n      <td>372020</td>\n      <td>154636</td>\n      <td>217384</td>\n    </tr>\n    <tr>\n      <th>12</th>\n      <td>1</td>\n      <td>13</td>\n      <td>DISTRICT</td>\n      <td>Shupiyan</td>\n      <td>Total</td>\n      <td>312.0</td>\n      <td>44411</td>\n      <td>266215</td>\n      <td>136480</td>\n      <td>129735</td>\n      <td>...</td>\n      <td>848</td>\n      <td>613</td>\n      <td>112</td>\n      <td>501</td>\n      <td>1095</td>\n      <td>388</td>\n      <td>707</td>\n      <td>178494</td>\n      <td>72549</td>\n      <td>105945</td>\n    </tr>\n    <tr>\n      <th>13</th>\n      <td>1</td>\n      <td>14</td>\n      <td>DISTRICT</td>\n      <td>Anantnag</td>\n      <td>Total</td>\n      <td>3574.0</td>\n      <td>153640</td>\n      <td>1078692</td>\n      <td>559767</td>\n      <td>518925</td>\n      <td>...</td>\n      <td>10293</td>\n      <td>4390</td>\n      <td>836</td>\n      <td>3554</td>\n      <td>11272</td>\n      <td>3893</td>\n      <td>7379</td>\n      <td>689008</td>\n      <td>315735</td>\n      <td>373273</td>\n    </tr>\n    <tr>\n      <th>14</th>\n      <td>1</td>\n      <td>15</td>\n      <td>DISTRICT</td>\n      <td>Kulgam</td>\n      <td>Total</td>\n      <td>410.0</td>\n      <td>73728</td>\n      <td>424483</td>\n      <td>217620</td>\n      <td>206863</td>\n      <td>...</td>\n      <td>2869</td>\n      <td>1062</td>\n      <td>226</td>\n      <td>836</td>\n      <td>4297</td>\n      <td>1695</td>\n      <td>2602</td>\n      <td>264493</td>\n      <td>115303</td>\n      <td>149190</td>\n    </tr>\n    <tr>\n      <th>15</th>\n      <td>1</td>\n      <td>16</td>\n      <td>DISTRICT</td>\n      <td>Doda</td>\n      <td>Total</td>\n      <td>8912.0</td>\n      <td>79636</td>\n      <td>409936</td>\n      <td>213641</td>\n      <td>196295</td>\n      <td>...</td>\n      <td>710</td>\n      <td>686</td>\n      <td>78</td>\n      <td>608</td>\n      <td>3104</td>\n      <td>2159</td>\n      <td>945</td>\n      <td>258024</td>\n      <td>112497</td>\n      <td>145527</td>\n    </tr>\n    <tr>\n      <th>16</th>\n      <td>1</td>\n      <td>17</td>\n      <td>DISTRICT</td>\n      <td>Ramban</td>\n      <td>Total</td>\n      <td>1329.0</td>\n      <td>55490</td>\n      <td>283713</td>\n      <td>149132</td>\n      <td>134581</td>\n      <td>...</td>\n      <td>579</td>\n      <td>195</td>\n      <td>39</td>\n      <td>156</td>\n      <td>1379</td>\n      <td>768</td>\n      <td>611</td>\n      <td>196501</td>\n      <td>80656</td>\n      <td>115845</td>\n    </tr>\n    <tr>\n      <th>17</th>\n      <td>1</td>\n      <td>18</td>\n      <td>DISTRICT</td>\n      <td>Kishtwar</td>\n      <td>Total</td>\n      <td>1644.0</td>\n      <td>45209</td>\n      <td>230696</td>\n      <td>120165</td>\n      <td>110531</td>\n      <td>...</td>\n      <td>1901</td>\n      <td>227</td>\n      <td>47</td>\n      <td>180</td>\n      <td>939</td>\n      <td>710</td>\n      <td>229</td>\n      <td>147722</td>\n      <td>63386</td>\n      <td>84336</td>\n    </tr>\n    <tr>\n      <th>18</th>\n      <td>1</td>\n      <td>19</td>\n      <td>DISTRICT</td>\n      <td>Udhampur</td>\n      <td>Total</td>\n      <td>2637.0</td>\n      <td>99240</td>\n      <td>554985</td>\n      <td>296784</td>\n      <td>258201</td>\n      <td>...</td>\n      <td>1384</td>\n      <td>409</td>\n      <td>105</td>\n      <td>304</td>\n      <td>4299</td>\n      <td>1771</td>\n      <td>2528</td>\n      <td>311313</td>\n      <td>132939</td>\n      <td>178374</td>\n    </tr>\n    <tr>\n      <th>19</th>\n      <td>1</td>\n      <td>20</td>\n      <td>DISTRICT</td>\n      <td>Reasi</td>\n      <td>Total</td>\n      <td>1719.0</td>\n      <td>56689</td>\n      <td>314667</td>\n      <td>166461</td>\n      <td>148206</td>\n      <td>...</td>\n      <td>504</td>\n      <td>47</td>\n      <td>5</td>\n      <td>42</td>\n      <td>856</td>\n      <td>412</td>\n      <td>444</td>\n      <td>169900</td>\n      <td>77706</td>\n      <td>92194</td>\n    </tr>\n    <tr>\n      <th>20</th>\n      <td>1</td>\n      <td>21</td>\n      <td>DISTRICT</td>\n      <td>Jammu</td>\n      <td>Total</td>\n      <td>2342.0</td>\n      <td>314199</td>\n      <td>1529958</td>\n      <td>813821</td>\n      <td>716137</td>\n      <td>...</td>\n      <td>1664</td>\n      <td>724</td>\n      <td>257</td>\n      <td>467</td>\n      <td>7189</td>\n      <td>5562</td>\n      <td>1627</td>\n      <td>1021336</td>\n      <td>396365</td>\n      <td>624971</td>\n    </tr>\n    <tr>\n      <th>21</th>\n      <td>1</td>\n      <td>22</td>\n      <td>DISTRICT</td>\n      <td>Samba</td>\n      <td>Total</td>\n      <td>904.0</td>\n      <td>65385</td>\n      <td>318898</td>\n      <td>169124</td>\n      <td>149774</td>\n      <td>...</td>\n      <td>262</td>\n      <td>91</td>\n      <td>69</td>\n      <td>22</td>\n      <td>2192</td>\n      <td>1705</td>\n      <td>487</td>\n      <td>226372</td>\n      <td>87172</td>\n      <td>139200</td>\n    </tr>\n    <tr>\n      <th>22</th>\n      <td>2</td>\n      <td>23</td>\n      <td>DISTRICT</td>\n      <td>Chamba</td>\n      <td>Total</td>\n      <td>6522.0</td>\n      <td>102460</td>\n      <td>519080</td>\n      <td>261320</td>\n      <td>257760</td>\n      <td>...</td>\n      <td>763</td>\n      <td>795</td>\n      <td>316</td>\n      <td>479</td>\n      <td>6033</td>\n      <td>3350</td>\n      <td>2683</td>\n      <td>225045</td>\n      <td>102529</td>\n      <td>122516</td>\n    </tr>\n    <tr>\n      <th>23</th>\n      <td>2</td>\n      <td>24</td>\n      <td>DISTRICT</td>\n      <td>Kangra</td>\n      <td>Total</td>\n      <td>5739.0</td>\n      <td>338887</td>\n      <td>1510075</td>\n      <td>750591</td>\n      <td>759484</td>\n      <td>...</td>\n      <td>5655</td>\n      <td>2229</td>\n      <td>853</td>\n      <td>1376</td>\n      <td>20993</td>\n      <td>11310</td>\n      <td>9683</td>\n      <td>834905</td>\n      <td>346835</td>\n      <td>488070</td>\n    </tr>\n    <tr>\n      <th>24</th>\n      <td>2</td>\n      <td>25</td>\n      <td>DISTRICT</td>\n      <td>Lahul &amp; Spiti</td>\n      <td>Total</td>\n      <td>13841.0</td>\n      <td>6674</td>\n      <td>31564</td>\n      <td>16588</td>\n      <td>14976</td>\n      <td>...</td>\n      <td>35</td>\n      <td>3</td>\n      <td>1</td>\n      <td>2</td>\n      <td>458</td>\n      <td>296</td>\n      <td>162</td>\n      <td>12269</td>\n      <td>5825</td>\n      <td>6444</td>\n    </tr>\n    <tr>\n      <th>25</th>\n      <td>2</td>\n      <td>26</td>\n      <td>DISTRICT</td>\n      <td>Kullu</td>\n      <td>Total</td>\n      <td>5503.0</td>\n      <td>94807</td>\n      <td>437903</td>\n      <td>225452</td>\n      <td>212451</td>\n      <td>...</td>\n      <td>889</td>\n      <td>423</td>\n      <td>199</td>\n      <td>224</td>\n      <td>918</td>\n      <td>498</td>\n      <td>420</td>\n      <td>168819</td>\n      <td>76623</td>\n      <td>92196</td>\n    </tr>\n    <tr>\n      <th>26</th>\n      <td>2</td>\n      <td>27</td>\n      <td>DISTRICT</td>\n      <td>Mandi</td>\n      <td>Total</td>\n      <td>3950.0</td>\n      <td>219145</td>\n      <td>999777</td>\n      <td>498065</td>\n      <td>501712</td>\n      <td>...</td>\n      <td>1625</td>\n      <td>761</td>\n      <td>317</td>\n      <td>444</td>\n      <td>9549</td>\n      <td>4308</td>\n      <td>5241</td>\n      <td>427106</td>\n      <td>200601</td>\n      <td>226505</td>\n    </tr>\n    <tr>\n      <th>27</th>\n      <td>2</td>\n      <td>28</td>\n      <td>DISTRICT</td>\n      <td>Hamirpur</td>\n      <td>Total</td>\n      <td>1118.0</td>\n      <td>105519</td>\n      <td>454768</td>\n      <td>217070</td>\n      <td>237698</td>\n      <td>...</td>\n      <td>836</td>\n      <td>227</td>\n      <td>132</td>\n      <td>95</td>\n      <td>3517</td>\n      <td>1931</td>\n      <td>1586</td>\n      <td>212837</td>\n      <td>98346</td>\n      <td>114491</td>\n    </tr>\n    <tr>\n      <th>28</th>\n      <td>2</td>\n      <td>29</td>\n      <td>DISTRICT</td>\n      <td>Una</td>\n      <td>Total</td>\n      <td>1540.0</td>\n      <td>110332</td>\n      <td>521173</td>\n      <td>263692</td>\n      <td>257481</td>\n      <td>...</td>\n      <td>1269</td>\n      <td>185</td>\n      <td>75</td>\n      <td>110</td>\n      <td>2996</td>\n      <td>1921</td>\n      <td>1075</td>\n      <td>305827</td>\n      <td>122080</td>\n      <td>183747</td>\n    </tr>\n    <tr>\n      <th>29</th>\n      <td>2</td>\n      <td>30</td>\n      <td>DISTRICT</td>\n      <td>Bilaspur</td>\n      <td>Total</td>\n      <td>1167.0</td>\n      <td>80485</td>\n      <td>381956</td>\n      <td>192764</td>\n      <td>189192</td>\n      <td>...</td>\n      <td>222</td>\n      <td>253</td>\n      <td>92</td>\n      <td>161</td>\n      <td>1776</td>\n      <td>1161</td>\n      <td>615</td>\n      <td>176085</td>\n      <td>81221</td>\n      <td>94864</td>\n    </tr>\n    <tr>\n      <th>30</th>\n      <td>2</td>\n      <td>31</td>\n      <td>DISTRICT</td>\n      <td>Solan</td>\n      <td>Total</td>\n      <td>1936.0</td>\n      <td>122425</td>\n      <td>580320</td>\n      <td>308754</td>\n      <td>271566</td>\n      <td>...</td>\n      <td>358</td>\n      <td>813</td>\n      <td>130</td>\n      <td>683</td>\n      <td>1645</td>\n      <td>988</td>\n      <td>657</td>\n      <td>281583</td>\n      <td>118753</td>\n      <td>162830</td>\n    </tr>\n    <tr>\n      <th>31</th>\n      <td>2</td>\n      <td>32</td>\n      <td>DISTRICT</td>\n      <td>Sirmaur</td>\n      <td>Total</td>\n      <td>2825.0</td>\n      <td>98208</td>\n      <td>529855</td>\n      <td>276289</td>\n      <td>253566</td>\n      <td>...</td>\n      <td>569</td>\n      <td>722</td>\n      <td>287</td>\n      <td>435</td>\n      <td>2234</td>\n      <td>1491</td>\n      <td>743</td>\n      <td>249772</td>\n      <td>106890</td>\n      <td>142882</td>\n    </tr>\n    <tr>\n      <th>32</th>\n      <td>2</td>\n      <td>33</td>\n      <td>DISTRICT</td>\n      <td>Shimla</td>\n      <td>Total</td>\n      <td>5131.0</td>\n      <td>184362</td>\n      <td>814010</td>\n      <td>425039</td>\n      <td>388971</td>\n      <td>...</td>\n      <td>910</td>\n      <td>1080</td>\n      <td>468</td>\n      <td>612</td>\n      <td>2947</td>\n      <td>1633</td>\n      <td>1314</td>\n      <td>383084</td>\n      <td>166411</td>\n      <td>216673</td>\n    </tr>\n    <tr>\n      <th>33</th>\n      <td>2</td>\n      <td>34</td>\n      <td>DISTRICT</td>\n      <td>Kinnaur</td>\n      <td>Total</td>\n      <td>6401.0</td>\n      <td>19976</td>\n      <td>84121</td>\n      <td>46249</td>\n      <td>37872</td>\n      <td>...</td>\n      <td>64</td>\n      <td>185</td>\n      <td>89</td>\n      <td>96</td>\n      <td>491</td>\n      <td>299</td>\n      <td>192</td>\n      <td>27848</td>\n      <td>12386</td>\n      <td>15462</td>\n    </tr>\n    <tr>\n      <th>34</th>\n      <td>3</td>\n      <td>35</td>\n      <td>DISTRICT</td>\n      <td>Gurdaspur</td>\n      <td>Total</td>\n      <td>3551.0</td>\n      <td>443666</td>\n      <td>2298323</td>\n      <td>1212617</td>\n      <td>1085706</td>\n      <td>...</td>\n      <td>1493</td>\n      <td>2523</td>\n      <td>1160</td>\n      <td>1363</td>\n      <td>12108</td>\n      <td>8720</td>\n      <td>3388</td>\n      <td>1541185</td>\n      <td>574965</td>\n      <td>966220</td>\n    </tr>\n    <tr>\n      <th>35</th>\n      <td>3</td>\n      <td>36</td>\n      <td>DISTRICT</td>\n      <td>Kapurthala</td>\n      <td>Total</td>\n      <td>1633.0</td>\n      <td>167989</td>\n      <td>815168</td>\n      <td>426311</td>\n      <td>388857</td>\n      <td>...</td>\n      <td>692</td>\n      <td>309</td>\n      <td>178</td>\n      <td>131</td>\n      <td>2743</td>\n      <td>1960</td>\n      <td>783</td>\n      <td>531003</td>\n      <td>190749</td>\n      <td>340254</td>\n    </tr>\n    <tr>\n      <th>36</th>\n      <td>3</td>\n      <td>37</td>\n      <td>DISTRICT</td>\n      <td>Jalandhar</td>\n      <td>Total</td>\n      <td>2624.0</td>\n      <td>461635</td>\n      <td>2193590</td>\n      <td>1145211</td>\n      <td>1048379</td>\n      <td>...</td>\n      <td>1319</td>\n      <td>1113</td>\n      <td>470</td>\n      <td>643</td>\n      <td>9298</td>\n      <td>6225</td>\n      <td>3073</td>\n      <td>1419118</td>\n      <td>505727</td>\n      <td>913391</td>\n    </tr>\n    <tr>\n      <th>37</th>\n      <td>3</td>\n      <td>38</td>\n      <td>DISTRICT</td>\n      <td>Hoshiarpur</td>\n      <td>Total</td>\n      <td>3386.0</td>\n      <td>336994</td>\n      <td>1586625</td>\n      <td>809057</td>\n      <td>777568</td>\n      <td>...</td>\n      <td>1854</td>\n      <td>942</td>\n      <td>601</td>\n      <td>341</td>\n      <td>12472</td>\n      <td>8489</td>\n      <td>3983</td>\n      <td>1086803</td>\n      <td>396551</td>\n      <td>690252</td>\n    </tr>\n    <tr>\n      <th>38</th>\n      <td>3</td>\n      <td>39</td>\n      <td>DISTRICT</td>\n      <td>Shahid Bhagat Singh Nagar</td>\n      <td>Total</td>\n      <td>1282.0</td>\n      <td>129500</td>\n      <td>612310</td>\n      <td>313291</td>\n      <td>299019</td>\n      <td>...</td>\n      <td>573</td>\n      <td>310</td>\n      <td>147</td>\n      <td>163</td>\n      <td>3250</td>\n      <td>2453</td>\n      <td>797</td>\n      <td>407981</td>\n      <td>143039</td>\n      <td>264942</td>\n    </tr>\n    <tr>\n      <th>39</th>\n      <td>3</td>\n      <td>40</td>\n      <td>DISTRICT</td>\n      <td>Fatehgarh Sahib</td>\n      <td>Total</td>\n      <td>1180.0</td>\n      <td>118100</td>\n      <td>600163</td>\n      <td>320795</td>\n      <td>279368</td>\n      <td>...</td>\n      <td>254</td>\n      <td>291</td>\n      <td>144</td>\n      <td>147</td>\n      <td>3102</td>\n      <td>2264</td>\n      <td>838</td>\n      <td>385380</td>\n      <td>138018</td>\n      <td>247362</td>\n    </tr>\n    <tr>\n      <th>40</th>\n      <td>3</td>\n      <td>41</td>\n      <td>DISTRICT</td>\n      <td>Ludhiana</td>\n      <td>Total</td>\n      <td>3578.0</td>\n      <td>716826</td>\n      <td>3498739</td>\n      <td>1867816</td>\n      <td>1630923</td>\n      <td>...</td>\n      <td>1176</td>\n      <td>3255</td>\n      <td>1229</td>\n      <td>2026</td>\n      <td>13876</td>\n      <td>8319</td>\n      <td>5557</td>\n      <td>2213917</td>\n      <td>814216</td>\n      <td>1399701</td>\n    </tr>\n    <tr>\n      <th>41</th>\n      <td>3</td>\n      <td>42</td>\n      <td>DISTRICT</td>\n      <td>Moga</td>\n      <td>Total</td>\n      <td>2242.0</td>\n      <td>193256</td>\n      <td>995746</td>\n      <td>525920</td>\n      <td>469826</td>\n      <td>...</td>\n      <td>1733</td>\n      <td>1384</td>\n      <td>430</td>\n      <td>954</td>\n      <td>3922</td>\n      <td>2381</td>\n      <td>1541</td>\n      <td>636574</td>\n      <td>233541</td>\n      <td>403033</td>\n    </tr>\n    <tr>\n      <th>42</th>\n      <td>3</td>\n      <td>43</td>\n      <td>DISTRICT</td>\n      <td>Firozpur</td>\n      <td>Total</td>\n      <td>5305.0</td>\n      <td>385994</td>\n      <td>2029074</td>\n      <td>1071637</td>\n      <td>957437</td>\n      <td>...</td>\n      <td>21339</td>\n      <td>921</td>\n      <td>288</td>\n      <td>633</td>\n      <td>9393</td>\n      <td>4654</td>\n      <td>4739</td>\n      <td>1272379</td>\n      <td>475231</td>\n      <td>797148</td>\n    </tr>\n    <tr>\n      <th>43</th>\n      <td>3</td>\n      <td>44</td>\n      <td>DISTRICT</td>\n      <td>Muktsar</td>\n      <td>Total</td>\n      <td>2593.0</td>\n      <td>174360</td>\n      <td>901896</td>\n      <td>475622</td>\n      <td>426274</td>\n      <td>...</td>\n      <td>5488</td>\n      <td>252</td>\n      <td>59</td>\n      <td>193</td>\n      <td>3375</td>\n      <td>1362</td>\n      <td>2013</td>\n      <td>566570</td>\n      <td>202923</td>\n      <td>363647</td>\n    </tr>\n    <tr>\n      <th>44</th>\n      <td>3</td>\n      <td>45</td>\n      <td>DISTRICT</td>\n      <td>Faridkot</td>\n      <td>Total</td>\n      <td>1458.0</td>\n      <td>120893</td>\n      <td>617508</td>\n      <td>326671</td>\n      <td>290837</td>\n      <td>...</td>\n      <td>2279</td>\n      <td>477</td>\n      <td>135</td>\n      <td>342</td>\n      <td>2163</td>\n      <td>1260</td>\n      <td>903</td>\n      <td>395953</td>\n      <td>141622</td>\n      <td>254331</td>\n    </tr>\n    <tr>\n      <th>45</th>\n      <td>3</td>\n      <td>46</td>\n      <td>DISTRICT</td>\n      <td>Bathinda</td>\n      <td>Total</td>\n      <td>3353.0</td>\n      <td>273902</td>\n      <td>1388525</td>\n      <td>743197</td>\n      <td>645328</td>\n      <td>...</td>\n      <td>6698</td>\n      <td>884</td>\n      <td>231</td>\n      <td>653</td>\n      <td>7614</td>\n      <td>3267</td>\n      <td>4347</td>\n      <td>838539</td>\n      <td>310209</td>\n      <td>528330</td>\n    </tr>\n    <tr>\n      <th>46</th>\n      <td>3</td>\n      <td>47</td>\n      <td>DISTRICT</td>\n      <td>Mansa</td>\n      <td>Total</td>\n      <td>2198.0</td>\n      <td>149630</td>\n      <td>769751</td>\n      <td>408732</td>\n      <td>361019</td>\n      <td>...</td>\n      <td>7105</td>\n      <td>1125</td>\n      <td>300</td>\n      <td>825</td>\n      <td>6749</td>\n      <td>1513</td>\n      <td>5236</td>\n      <td>441239</td>\n      <td>177993</td>\n      <td>263246</td>\n    </tr>\n    <tr>\n      <th>47</th>\n      <td>3</td>\n      <td>48</td>\n      <td>DISTRICT</td>\n      <td>Patiala</td>\n      <td>Total</td>\n      <td>3325.0</td>\n      <td>372293</td>\n      <td>1895686</td>\n      <td>1002522</td>\n      <td>893164</td>\n      <td>...</td>\n      <td>3585</td>\n      <td>984</td>\n      <td>572</td>\n      <td>412</td>\n      <td>10601</td>\n      <td>7353</td>\n      <td>3248</td>\n      <td>1235419</td>\n      <td>452861</td>\n      <td>782558</td>\n    </tr>\n    <tr>\n      <th>48</th>\n      <td>3</td>\n      <td>49</td>\n      <td>DISTRICT</td>\n      <td>Amritsar</td>\n      <td>Total</td>\n      <td>2683.0</td>\n      <td>488898</td>\n      <td>2490656</td>\n      <td>1318408</td>\n      <td>1172248</td>\n      <td>...</td>\n      <td>3215</td>\n      <td>1828</td>\n      <td>649</td>\n      <td>1179</td>\n      <td>9867</td>\n      <td>6300</td>\n      <td>3567</td>\n      <td>1572800</td>\n      <td>583213</td>\n      <td>989587</td>\n    </tr>\n    <tr>\n      <th>49</th>\n      <td>3</td>\n      <td>50</td>\n      <td>DISTRICT</td>\n      <td>Tarn Taran</td>\n      <td>Total</td>\n      <td>2414.0</td>\n      <td>203421</td>\n      <td>1119627</td>\n      <td>589369</td>\n      <td>530258</td>\n      <td>...</td>\n      <td>1350</td>\n      <td>1094</td>\n      <td>430</td>\n      <td>664</td>\n      <td>4955</td>\n      <td>3344</td>\n      <td>1611</td>\n      <td>738925</td>\n      <td>275730</td>\n      <td>463195</td>\n    </tr>\n  </tbody>\n</table>\n<p>50 rows × 91 columns</p>\n</div>"
     },
     "execution_count": 3,
     "metadata": {},
     "output_type": "execute_result"
    }
   ],
   "source": [
    "dist_data.head(50)"
   ],
   "metadata": {
    "collapsed": false,
    "ExecuteTime": {
     "end_time": "2023-12-19T10:59:15.609094200Z",
     "start_time": "2023-12-19T10:59:15.543279Z"
    }
   },
   "id": "684b1d07cba61d7e"
  },
  {
   "cell_type": "code",
   "execution_count": 4,
   "outputs": [
    {
     "data": {
      "text/plain": "     District code                   State name              District name  \\\n0                1            JAMMU AND KASHMIR                    Kupwara   \n1                2            JAMMU AND KASHMIR                     Badgam   \n2                3            JAMMU AND KASHMIR                Leh(Ladakh)   \n3                4            JAMMU AND KASHMIR                     Kargil   \n4                5            JAMMU AND KASHMIR                      Punch   \n..             ...                          ...                        ...   \n635            636                  PONDICHERRY                       Mahe   \n636            637                  PONDICHERRY                   Karaikal   \n637            638  ANDAMAN AND NICOBAR ISLANDS                   Nicobars   \n638            639  ANDAMAN AND NICOBAR ISLANDS  North  AND Middle Andaman   \n639            640  ANDAMAN AND NICOBAR ISLANDS              South Andaman   \n\n     Population    Male  Female  Literate  Male_Literate  Female_Literate  \\\n0        870354  474190  396164    439654         282823           156831   \n1        753745  398041  355704    335649         207741           127908   \n2        133487   78971   54516     93770          62834            30936   \n3        140802   77785   63017     86236          56301            29935   \n4        476835  251899  224936    261724         163333            98391   \n..          ...     ...     ...       ...            ...              ...   \n635       41816   19143   22673     36470          16610            19860   \n636      200222   97809  102413    154916          79903            75013   \n637       36842   20727   16115     25332          15397             9935   \n638      105597   54861   50736     78683          43186            35497   \n639      238142  127283  110859    190266         105794            84472   \n\n        SC  ...  Power_Parity_Rs_90000_150000  Power_Parity_Rs_45000_150000  \\\n0     1048  ...                            94                           588   \n1      368  ...                           126                           562   \n2      488  ...                            46                           122   \n3       18  ...                            27                           114   \n4      556  ...                            78                           346   \n..     ...  ...                           ...                           ...   \n635    144  ...                          2316                          4309   \n636  35348  ...                          1063                          2408   \n637      0  ...                           685                          1895   \n638      0  ...                           685                          1895   \n639      0  ...                          1371                          3020   \n\n     Power_Parity_Rs_150000_240000  Power_Parity_Rs_240000_330000  \\\n0                               71                            101   \n1                               72                             89   \n2                               15                             22   \n3                               12                             18   \n4                               35                             50   \n..                             ...                            ...   \n635                           1370                            838   \n636                            665                            340   \n637                            212                            134   \n638                            212                            134   \n639                            649                            368   \n\n     Power_Parity_Rs_150000_330000  Power_Parity_Rs_330000_425000  \\\n0                              172                             74   \n1                              161                             96   \n2                               37                             20   \n3                               30                             19   \n4                               85                             59   \n..                             ...                            ...   \n635                           2208                            576   \n636                           1005                            246   \n637                            346                             70   \n638                            346                             70   \n639                           1017                            265   \n\n     Power_Parity_Rs_425000_545000  Power_Parity_Rs_330000_545000  \\\n0                               10                             84   \n1                               28                            124   \n2                               14                             34   \n3                                3                             22   \n4                                8                             67   \n..                             ...                            ...   \n635                            978                           1554   \n636                            483                            729   \n637                            120                            190   \n638                            120                            190   \n639                            497                            762   \n\n     Power_Parity_Above_Rs_545000  Total_Power_Parity  \n0                              15                1119  \n1                              18                1066  \n2                              17                 242  \n3                               7                 214  \n4                              12                 629  \n..                            ...                 ...  \n635                          1446               10027  \n636                           341                4890  \n637                            84                3151  \n638                            84                3151  \n639                           376                5782  \n\n[640 rows x 118 columns]",
      "text/html": "<div>\n<style scoped>\n    .dataframe tbody tr th:only-of-type {\n        vertical-align: middle;\n    }\n\n    .dataframe tbody tr th {\n        vertical-align: top;\n    }\n\n    .dataframe thead th {\n        text-align: right;\n    }\n</style>\n<table border=\"1\" class=\"dataframe\">\n  <thead>\n    <tr style=\"text-align: right;\">\n      <th></th>\n      <th>District code</th>\n      <th>State name</th>\n      <th>District name</th>\n      <th>Population</th>\n      <th>Male</th>\n      <th>Female</th>\n      <th>Literate</th>\n      <th>Male_Literate</th>\n      <th>Female_Literate</th>\n      <th>SC</th>\n      <th>...</th>\n      <th>Power_Parity_Rs_90000_150000</th>\n      <th>Power_Parity_Rs_45000_150000</th>\n      <th>Power_Parity_Rs_150000_240000</th>\n      <th>Power_Parity_Rs_240000_330000</th>\n      <th>Power_Parity_Rs_150000_330000</th>\n      <th>Power_Parity_Rs_330000_425000</th>\n      <th>Power_Parity_Rs_425000_545000</th>\n      <th>Power_Parity_Rs_330000_545000</th>\n      <th>Power_Parity_Above_Rs_545000</th>\n      <th>Total_Power_Parity</th>\n    </tr>\n  </thead>\n  <tbody>\n    <tr>\n      <th>0</th>\n      <td>1</td>\n      <td>JAMMU AND KASHMIR</td>\n      <td>Kupwara</td>\n      <td>870354</td>\n      <td>474190</td>\n      <td>396164</td>\n      <td>439654</td>\n      <td>282823</td>\n      <td>156831</td>\n      <td>1048</td>\n      <td>...</td>\n      <td>94</td>\n      <td>588</td>\n      <td>71</td>\n      <td>101</td>\n      <td>172</td>\n      <td>74</td>\n      <td>10</td>\n      <td>84</td>\n      <td>15</td>\n      <td>1119</td>\n    </tr>\n    <tr>\n      <th>1</th>\n      <td>2</td>\n      <td>JAMMU AND KASHMIR</td>\n      <td>Badgam</td>\n      <td>753745</td>\n      <td>398041</td>\n      <td>355704</td>\n      <td>335649</td>\n      <td>207741</td>\n      <td>127908</td>\n      <td>368</td>\n      <td>...</td>\n      <td>126</td>\n      <td>562</td>\n      <td>72</td>\n      <td>89</td>\n      <td>161</td>\n      <td>96</td>\n      <td>28</td>\n      <td>124</td>\n      <td>18</td>\n      <td>1066</td>\n    </tr>\n    <tr>\n      <th>2</th>\n      <td>3</td>\n      <td>JAMMU AND KASHMIR</td>\n      <td>Leh(Ladakh)</td>\n      <td>133487</td>\n      <td>78971</td>\n      <td>54516</td>\n      <td>93770</td>\n      <td>62834</td>\n      <td>30936</td>\n      <td>488</td>\n      <td>...</td>\n      <td>46</td>\n      <td>122</td>\n      <td>15</td>\n      <td>22</td>\n      <td>37</td>\n      <td>20</td>\n      <td>14</td>\n      <td>34</td>\n      <td>17</td>\n      <td>242</td>\n    </tr>\n    <tr>\n      <th>3</th>\n      <td>4</td>\n      <td>JAMMU AND KASHMIR</td>\n      <td>Kargil</td>\n      <td>140802</td>\n      <td>77785</td>\n      <td>63017</td>\n      <td>86236</td>\n      <td>56301</td>\n      <td>29935</td>\n      <td>18</td>\n      <td>...</td>\n      <td>27</td>\n      <td>114</td>\n      <td>12</td>\n      <td>18</td>\n      <td>30</td>\n      <td>19</td>\n      <td>3</td>\n      <td>22</td>\n      <td>7</td>\n      <td>214</td>\n    </tr>\n    <tr>\n      <th>4</th>\n      <td>5</td>\n      <td>JAMMU AND KASHMIR</td>\n      <td>Punch</td>\n      <td>476835</td>\n      <td>251899</td>\n      <td>224936</td>\n      <td>261724</td>\n      <td>163333</td>\n      <td>98391</td>\n      <td>556</td>\n      <td>...</td>\n      <td>78</td>\n      <td>346</td>\n      <td>35</td>\n      <td>50</td>\n      <td>85</td>\n      <td>59</td>\n      <td>8</td>\n      <td>67</td>\n      <td>12</td>\n      <td>629</td>\n    </tr>\n    <tr>\n      <th>...</th>\n      <td>...</td>\n      <td>...</td>\n      <td>...</td>\n      <td>...</td>\n      <td>...</td>\n      <td>...</td>\n      <td>...</td>\n      <td>...</td>\n      <td>...</td>\n      <td>...</td>\n      <td>...</td>\n      <td>...</td>\n      <td>...</td>\n      <td>...</td>\n      <td>...</td>\n      <td>...</td>\n      <td>...</td>\n      <td>...</td>\n      <td>...</td>\n      <td>...</td>\n      <td>...</td>\n    </tr>\n    <tr>\n      <th>635</th>\n      <td>636</td>\n      <td>PONDICHERRY</td>\n      <td>Mahe</td>\n      <td>41816</td>\n      <td>19143</td>\n      <td>22673</td>\n      <td>36470</td>\n      <td>16610</td>\n      <td>19860</td>\n      <td>144</td>\n      <td>...</td>\n      <td>2316</td>\n      <td>4309</td>\n      <td>1370</td>\n      <td>838</td>\n      <td>2208</td>\n      <td>576</td>\n      <td>978</td>\n      <td>1554</td>\n      <td>1446</td>\n      <td>10027</td>\n    </tr>\n    <tr>\n      <th>636</th>\n      <td>637</td>\n      <td>PONDICHERRY</td>\n      <td>Karaikal</td>\n      <td>200222</td>\n      <td>97809</td>\n      <td>102413</td>\n      <td>154916</td>\n      <td>79903</td>\n      <td>75013</td>\n      <td>35348</td>\n      <td>...</td>\n      <td>1063</td>\n      <td>2408</td>\n      <td>665</td>\n      <td>340</td>\n      <td>1005</td>\n      <td>246</td>\n      <td>483</td>\n      <td>729</td>\n      <td>341</td>\n      <td>4890</td>\n    </tr>\n    <tr>\n      <th>637</th>\n      <td>638</td>\n      <td>ANDAMAN AND NICOBAR ISLANDS</td>\n      <td>Nicobars</td>\n      <td>36842</td>\n      <td>20727</td>\n      <td>16115</td>\n      <td>25332</td>\n      <td>15397</td>\n      <td>9935</td>\n      <td>0</td>\n      <td>...</td>\n      <td>685</td>\n      <td>1895</td>\n      <td>212</td>\n      <td>134</td>\n      <td>346</td>\n      <td>70</td>\n      <td>120</td>\n      <td>190</td>\n      <td>84</td>\n      <td>3151</td>\n    </tr>\n    <tr>\n      <th>638</th>\n      <td>639</td>\n      <td>ANDAMAN AND NICOBAR ISLANDS</td>\n      <td>North  AND Middle Andaman</td>\n      <td>105597</td>\n      <td>54861</td>\n      <td>50736</td>\n      <td>78683</td>\n      <td>43186</td>\n      <td>35497</td>\n      <td>0</td>\n      <td>...</td>\n      <td>685</td>\n      <td>1895</td>\n      <td>212</td>\n      <td>134</td>\n      <td>346</td>\n      <td>70</td>\n      <td>120</td>\n      <td>190</td>\n      <td>84</td>\n      <td>3151</td>\n    </tr>\n    <tr>\n      <th>639</th>\n      <td>640</td>\n      <td>ANDAMAN AND NICOBAR ISLANDS</td>\n      <td>South Andaman</td>\n      <td>238142</td>\n      <td>127283</td>\n      <td>110859</td>\n      <td>190266</td>\n      <td>105794</td>\n      <td>84472</td>\n      <td>0</td>\n      <td>...</td>\n      <td>1371</td>\n      <td>3020</td>\n      <td>649</td>\n      <td>368</td>\n      <td>1017</td>\n      <td>265</td>\n      <td>497</td>\n      <td>762</td>\n      <td>376</td>\n      <td>5782</td>\n    </tr>\n  </tbody>\n</table>\n<p>640 rows × 118 columns</p>\n</div>"
     },
     "execution_count": 4,
     "metadata": {},
     "output_type": "execute_result"
    }
   ],
   "source": [
    "dist_data_other"
   ],
   "metadata": {
    "collapsed": false,
    "ExecuteTime": {
     "end_time": "2023-12-19T10:59:17.208047600Z",
     "start_time": "2023-12-19T10:59:17.152106400Z"
    }
   },
   "id": "70ef17420cbd63e4"
  },
  {
   "cell_type": "code",
   "execution_count": 5,
   "outputs": [],
   "source": [
    "dist_data_cleaned = dist_data[['State','District','Name','TRU1','No_HH','TOT_P','TOT_M','TOT_F','P_LIT','M_LIT','F_LIT','P_ILL','M_ILL','F_ILL','TOT_WORK_P','TOT_WORK_M','TOT_WORK_F','NON_WORK_P','NON_WORK_M','NON_WORK_F']]\n",
    "\n",
    "dist_data_other_cleaned = dist_data_other[['State name','District code','District name','ST','SC','Hindus','Muslims','Sikhs','Buddhists','Jains','Others_Religions','Religion_Not_Stated','Households','Rural_Households','Urban_Households','Households_with_Internet']]\n",
    "\n",
    "df = pd.merge(dist_data_cleaned,dist_data_other_cleaned,left_on='District',right_on='District code',how='inner').drop(['District code','District name', 'State', 'District'],axis=1)"
   ],
   "metadata": {
    "collapsed": false,
    "ExecuteTime": {
     "end_time": "2023-12-19T10:59:17.838628Z",
     "start_time": "2023-12-19T10:59:17.800719700Z"
    }
   },
   "id": "2cbe5e5d5b824451"
  },
  {
   "cell_type": "code",
   "execution_count": 6,
   "outputs": [],
   "source": [
    "df.insert(0, 'State name', df.pop('State name'))"
   ],
   "metadata": {
    "collapsed": false,
    "ExecuteTime": {
     "end_time": "2023-12-19T10:59:18.578581600Z",
     "start_time": "2023-12-19T10:59:18.563109Z"
    }
   },
   "id": "7981ed76fb2653e1"
  },
  {
   "cell_type": "code",
   "execution_count": 7,
   "outputs": [],
   "source": [
    "col = df.columns.tolist()\n",
    "\n",
    "col = ['State', 'District',\n",
    " 'Area (sq km)',\n",
    " 'Households',\n",
    " 'Total Population',\n",
    " 'Total Males',\n",
    " 'Total Females',\n",
    " 'Literate Population',\n",
    " 'Literate Males',\n",
    " 'Literate Females',\n",
    " 'Illiterate Population',\n",
    " 'Males Illiterates',\n",
    " 'Female Illiterates',\n",
    " 'Total Working Population',\n",
    " 'Total Working Males',\n",
    " 'Total Working Females',\n",
    " 'Unemployed Population',\n",
    " 'Unemployed Males',\n",
    " 'Unemployed Females',\n",
    " 'ST',\n",
    " 'SC',\n",
    " 'Hindus',\n",
    " 'Muslims',\n",
    " 'Sikhs',\n",
    " 'Buddhists',\n",
    " 'Jains',\n",
    " 'Others_Religions',\n",
    " 'Religion_Not_Stated',\n",
    " 'Households',\n",
    " 'Rural_Households',\n",
    " 'Urban_Households',\n",
    " 'Households_with_Internet']\n",
    "\n",
    "df.columns = col"
   ],
   "metadata": {
    "collapsed": false,
    "ExecuteTime": {
     "end_time": "2023-12-19T10:59:19.483526100Z",
     "start_time": "2023-12-19T10:59:19.456927700Z"
    }
   },
   "id": "b4e9b11e85406800"
  },
  {
   "cell_type": "code",
   "execution_count": 8,
   "outputs": [
    {
     "data": {
      "text/plain": "                           State                 District  Area (sq km)  \\\n0              JAMMU AND KASHMIR                  Kupwara        2379.0   \n1              JAMMU AND KASHMIR                   Badgam        1361.0   \n2              JAMMU AND KASHMIR              Leh(Ladakh)       45110.0   \n3              JAMMU AND KASHMIR                   Kargil       14036.0   \n4              JAMMU AND KASHMIR                    Punch        1674.0   \n..                           ...                      ...           ...   \n635                  PONDICHERRY                     Mahe           9.0   \n636                  PONDICHERRY                 Karaikal         157.0   \n637  ANDAMAN AND NICOBAR ISLANDS                 Nicobars        1841.0   \n638  ANDAMAN AND NICOBAR ISLANDS  North  & Middle Andaman        3736.0   \n639  ANDAMAN AND NICOBAR ISLANDS            South Andaman        2672.0   \n\n     Households  Total Population  Total Males  Total Females  \\\n0        113929            870354       474190         396164   \n1        103363            753745       398041         355704   \n2         21909            133487        78971          54516   \n3         18338            140802        77785          63017   \n4         90261            476835       251899         224936   \n..          ...               ...          ...            ...   \n635        7420             41816        19143          22673   \n636       49705            200222        97809         102413   \n637        9288             36842        20727          16115   \n638       26199            105597        54861          50736   \n639       59064            238142       127283         110859   \n\n     Literate Population  Literate Males  Literate Females  ...  Muslims  \\\n0                 439654          282823            156831  ...   823286   \n1                 335649          207741            127908  ...   736054   \n2                  93770           62834             30936  ...    19057   \n3                  86236           56301             29935  ...   108239   \n4                 261724          163333             98391  ...   431279   \n..                   ...             ...               ...  ...      ...   \n635                36470           16610             19860  ...    12856   \n636               154916           79903             75013  ...    28835   \n637                25332           15397              9935  ...     1336   \n638                78683           43186             35497  ...     2165   \n639               190266          105794             84472  ...    28912   \n\n     Sikhs  Buddhists  Jains  Others_Religions  Religion_Not_Stated  \\\n0     5600         66     39                13                 2522   \n1     5559         47      6                 2                  478   \n2     1092      88635    103                54                 1006   \n3     1171      20126     28                 4                  289   \n4    11188         83     10                 2                  711   \n..     ...        ...    ...               ...                  ...   \n635      3         21     14                 3                   21   \n636     46         63     54                14                  181   \n637    343        119      0               248                   38   \n638     77         84      4                47                  187   \n639    866        135     27               269                  444   \n\n     Households  Rural_Households  Urban_Households  Households_with_Internet  \n0        181664            158438             23226                       762  \n1        187839            160649             27190                      1999  \n2         54394             36920             17474                       574  \n3         48144             40370              7774                       235  \n4        147408            132139             15269                       346  \n..          ...               ...               ...                       ...  \n635       12110                 0             12110                       574  \n636       69333             35618             33715                      1868  \n637       15958             15958                 0                        57  \n638       40185             39091              1094                       388  \n639       85532             34901             50631                      2789  \n\n[640 rows x 32 columns]",
      "text/html": "<div>\n<style scoped>\n    .dataframe tbody tr th:only-of-type {\n        vertical-align: middle;\n    }\n\n    .dataframe tbody tr th {\n        vertical-align: top;\n    }\n\n    .dataframe thead th {\n        text-align: right;\n    }\n</style>\n<table border=\"1\" class=\"dataframe\">\n  <thead>\n    <tr style=\"text-align: right;\">\n      <th></th>\n      <th>State</th>\n      <th>District</th>\n      <th>Area (sq km)</th>\n      <th>Households</th>\n      <th>Total Population</th>\n      <th>Total Males</th>\n      <th>Total Females</th>\n      <th>Literate Population</th>\n      <th>Literate Males</th>\n      <th>Literate Females</th>\n      <th>...</th>\n      <th>Muslims</th>\n      <th>Sikhs</th>\n      <th>Buddhists</th>\n      <th>Jains</th>\n      <th>Others_Religions</th>\n      <th>Religion_Not_Stated</th>\n      <th>Households</th>\n      <th>Rural_Households</th>\n      <th>Urban_Households</th>\n      <th>Households_with_Internet</th>\n    </tr>\n  </thead>\n  <tbody>\n    <tr>\n      <th>0</th>\n      <td>JAMMU AND KASHMIR</td>\n      <td>Kupwara</td>\n      <td>2379.0</td>\n      <td>113929</td>\n      <td>870354</td>\n      <td>474190</td>\n      <td>396164</td>\n      <td>439654</td>\n      <td>282823</td>\n      <td>156831</td>\n      <td>...</td>\n      <td>823286</td>\n      <td>5600</td>\n      <td>66</td>\n      <td>39</td>\n      <td>13</td>\n      <td>2522</td>\n      <td>181664</td>\n      <td>158438</td>\n      <td>23226</td>\n      <td>762</td>\n    </tr>\n    <tr>\n      <th>1</th>\n      <td>JAMMU AND KASHMIR</td>\n      <td>Badgam</td>\n      <td>1361.0</td>\n      <td>103363</td>\n      <td>753745</td>\n      <td>398041</td>\n      <td>355704</td>\n      <td>335649</td>\n      <td>207741</td>\n      <td>127908</td>\n      <td>...</td>\n      <td>736054</td>\n      <td>5559</td>\n      <td>47</td>\n      <td>6</td>\n      <td>2</td>\n      <td>478</td>\n      <td>187839</td>\n      <td>160649</td>\n      <td>27190</td>\n      <td>1999</td>\n    </tr>\n    <tr>\n      <th>2</th>\n      <td>JAMMU AND KASHMIR</td>\n      <td>Leh(Ladakh)</td>\n      <td>45110.0</td>\n      <td>21909</td>\n      <td>133487</td>\n      <td>78971</td>\n      <td>54516</td>\n      <td>93770</td>\n      <td>62834</td>\n      <td>30936</td>\n      <td>...</td>\n      <td>19057</td>\n      <td>1092</td>\n      <td>88635</td>\n      <td>103</td>\n      <td>54</td>\n      <td>1006</td>\n      <td>54394</td>\n      <td>36920</td>\n      <td>17474</td>\n      <td>574</td>\n    </tr>\n    <tr>\n      <th>3</th>\n      <td>JAMMU AND KASHMIR</td>\n      <td>Kargil</td>\n      <td>14036.0</td>\n      <td>18338</td>\n      <td>140802</td>\n      <td>77785</td>\n      <td>63017</td>\n      <td>86236</td>\n      <td>56301</td>\n      <td>29935</td>\n      <td>...</td>\n      <td>108239</td>\n      <td>1171</td>\n      <td>20126</td>\n      <td>28</td>\n      <td>4</td>\n      <td>289</td>\n      <td>48144</td>\n      <td>40370</td>\n      <td>7774</td>\n      <td>235</td>\n    </tr>\n    <tr>\n      <th>4</th>\n      <td>JAMMU AND KASHMIR</td>\n      <td>Punch</td>\n      <td>1674.0</td>\n      <td>90261</td>\n      <td>476835</td>\n      <td>251899</td>\n      <td>224936</td>\n      <td>261724</td>\n      <td>163333</td>\n      <td>98391</td>\n      <td>...</td>\n      <td>431279</td>\n      <td>11188</td>\n      <td>83</td>\n      <td>10</td>\n      <td>2</td>\n      <td>711</td>\n      <td>147408</td>\n      <td>132139</td>\n      <td>15269</td>\n      <td>346</td>\n    </tr>\n    <tr>\n      <th>...</th>\n      <td>...</td>\n      <td>...</td>\n      <td>...</td>\n      <td>...</td>\n      <td>...</td>\n      <td>...</td>\n      <td>...</td>\n      <td>...</td>\n      <td>...</td>\n      <td>...</td>\n      <td>...</td>\n      <td>...</td>\n      <td>...</td>\n      <td>...</td>\n      <td>...</td>\n      <td>...</td>\n      <td>...</td>\n      <td>...</td>\n      <td>...</td>\n      <td>...</td>\n      <td>...</td>\n    </tr>\n    <tr>\n      <th>635</th>\n      <td>PONDICHERRY</td>\n      <td>Mahe</td>\n      <td>9.0</td>\n      <td>7420</td>\n      <td>41816</td>\n      <td>19143</td>\n      <td>22673</td>\n      <td>36470</td>\n      <td>16610</td>\n      <td>19860</td>\n      <td>...</td>\n      <td>12856</td>\n      <td>3</td>\n      <td>21</td>\n      <td>14</td>\n      <td>3</td>\n      <td>21</td>\n      <td>12110</td>\n      <td>0</td>\n      <td>12110</td>\n      <td>574</td>\n    </tr>\n    <tr>\n      <th>636</th>\n      <td>PONDICHERRY</td>\n      <td>Karaikal</td>\n      <td>157.0</td>\n      <td>49705</td>\n      <td>200222</td>\n      <td>97809</td>\n      <td>102413</td>\n      <td>154916</td>\n      <td>79903</td>\n      <td>75013</td>\n      <td>...</td>\n      <td>28835</td>\n      <td>46</td>\n      <td>63</td>\n      <td>54</td>\n      <td>14</td>\n      <td>181</td>\n      <td>69333</td>\n      <td>35618</td>\n      <td>33715</td>\n      <td>1868</td>\n    </tr>\n    <tr>\n      <th>637</th>\n      <td>ANDAMAN AND NICOBAR ISLANDS</td>\n      <td>Nicobars</td>\n      <td>1841.0</td>\n      <td>9288</td>\n      <td>36842</td>\n      <td>20727</td>\n      <td>16115</td>\n      <td>25332</td>\n      <td>15397</td>\n      <td>9935</td>\n      <td>...</td>\n      <td>1336</td>\n      <td>343</td>\n      <td>119</td>\n      <td>0</td>\n      <td>248</td>\n      <td>38</td>\n      <td>15958</td>\n      <td>15958</td>\n      <td>0</td>\n      <td>57</td>\n    </tr>\n    <tr>\n      <th>638</th>\n      <td>ANDAMAN AND NICOBAR ISLANDS</td>\n      <td>North  &amp; Middle Andaman</td>\n      <td>3736.0</td>\n      <td>26199</td>\n      <td>105597</td>\n      <td>54861</td>\n      <td>50736</td>\n      <td>78683</td>\n      <td>43186</td>\n      <td>35497</td>\n      <td>...</td>\n      <td>2165</td>\n      <td>77</td>\n      <td>84</td>\n      <td>4</td>\n      <td>47</td>\n      <td>187</td>\n      <td>40185</td>\n      <td>39091</td>\n      <td>1094</td>\n      <td>388</td>\n    </tr>\n    <tr>\n      <th>639</th>\n      <td>ANDAMAN AND NICOBAR ISLANDS</td>\n      <td>South Andaman</td>\n      <td>2672.0</td>\n      <td>59064</td>\n      <td>238142</td>\n      <td>127283</td>\n      <td>110859</td>\n      <td>190266</td>\n      <td>105794</td>\n      <td>84472</td>\n      <td>...</td>\n      <td>28912</td>\n      <td>866</td>\n      <td>135</td>\n      <td>27</td>\n      <td>269</td>\n      <td>444</td>\n      <td>85532</td>\n      <td>34901</td>\n      <td>50631</td>\n      <td>2789</td>\n    </tr>\n  </tbody>\n</table>\n<p>640 rows × 32 columns</p>\n</div>"
     },
     "execution_count": 8,
     "metadata": {},
     "output_type": "execute_result"
    }
   ],
   "source": [
    "df = df.reset_index(drop=True)\n",
    "df"
   ],
   "metadata": {
    "collapsed": false,
    "ExecuteTime": {
     "end_time": "2023-12-19T10:59:20.260441200Z",
     "start_time": "2023-12-19T10:59:20.226825500Z"
    }
   },
   "id": "9c2c0c5621164d80"
  },
  {
   "cell_type": "code",
   "execution_count": 28,
   "outputs": [
    {
     "data": {
      "text/plain": "3    JAMMU AND KASHMIR\nName: State, dtype: object"
     },
     "execution_count": 28,
     "metadata": {},
     "output_type": "execute_result"
    }
   ],
   "source": [
    "df.loc[df['District'] == 'Kargil','State']"
   ],
   "metadata": {
    "collapsed": false,
    "ExecuteTime": {
     "end_time": "2023-12-19T11:40:56.858565300Z",
     "start_time": "2023-12-19T11:40:56.819382400Z"
    }
   },
   "id": "dd0f2ca6238e917a"
  },
  {
   "cell_type": "markdown",
   "source": [
    "## Districts with highest HCR (head-count ratio) for persons in poverty are:\n",
    " \n",
    " - Malkangiri  \n",
    " - Nabagangapur\n",
    " - Rayagada\n",
    " - Koraput\n",
    " - Nuapada\n",
    " \n",
    "According to study:\n",
    "(https://www.researchgate.net/figure/The-100-Districts-in-India-with-the-Highest-Poverty-Rates_tbl2_40771948)"
   ],
   "metadata": {
    "collapsed": false
   },
   "id": "ede70112b5a5d972"
  },
  {
   "cell_type": "code",
   "execution_count": 9,
   "outputs": [
    {
     "data": {
      "text/plain": "      State      District  Area (sq km)  Households  Total Population  \\\n398  ORISSA    Malkangiri        5791.0      137599            613192   \n396  ORISSA  Nabarangapur        5291.0      273423           1220946   \n395  ORISSA      Rayagada        7073.0      226144            967911   \n397  ORISSA       Koraput        8807.0      337677           1379647   \n393  ORISSA       Nuapada        3852.0      152210            610382   \n\n     Total Males  Total Females  Literate Population  Literate Males  \\\n398       303624         309568               244706          147001   \n396       604812         616134               470379          286984   \n395       471960         495951               407735          241959   \n397       678809         700838               568090          340843   \n393       301962         308420               299383          180903   \n\n     Literate Females  ...  Muslims  Sikhs  Buddhists  Jains  \\\n398             97705  ...     1871    213         43    195   \n396            183395  ...     6753    169        189    325   \n395            165776  ...     4607    219        249    123   \n397            227247  ...     8850    518        219    491   \n393            118480  ...     4952    724         76    905   \n\n     Others_Religions  Religion_Not_Stated  Households  Rural_Households  \\\n398                35                  577      183723            167884   \n396                54                 3299      372264            342840   \n395                44                 3308      286548            237343   \n397              3384                 3484      460128            381789   \n393                22                  833      209127            197258   \n\n     Urban_Households  Households_with_Internet  \n398             15839                       448  \n396             29424                      1324  \n395             49205                      1553  \n397             78339                      3988  \n393             11869                       757  \n\n[5 rows x 32 columns]",
      "text/html": "<div>\n<style scoped>\n    .dataframe tbody tr th:only-of-type {\n        vertical-align: middle;\n    }\n\n    .dataframe tbody tr th {\n        vertical-align: top;\n    }\n\n    .dataframe thead th {\n        text-align: right;\n    }\n</style>\n<table border=\"1\" class=\"dataframe\">\n  <thead>\n    <tr style=\"text-align: right;\">\n      <th></th>\n      <th>State</th>\n      <th>District</th>\n      <th>Area (sq km)</th>\n      <th>Households</th>\n      <th>Total Population</th>\n      <th>Total Males</th>\n      <th>Total Females</th>\n      <th>Literate Population</th>\n      <th>Literate Males</th>\n      <th>Literate Females</th>\n      <th>...</th>\n      <th>Muslims</th>\n      <th>Sikhs</th>\n      <th>Buddhists</th>\n      <th>Jains</th>\n      <th>Others_Religions</th>\n      <th>Religion_Not_Stated</th>\n      <th>Households</th>\n      <th>Rural_Households</th>\n      <th>Urban_Households</th>\n      <th>Households_with_Internet</th>\n    </tr>\n  </thead>\n  <tbody>\n    <tr>\n      <th>398</th>\n      <td>ORISSA</td>\n      <td>Malkangiri</td>\n      <td>5791.0</td>\n      <td>137599</td>\n      <td>613192</td>\n      <td>303624</td>\n      <td>309568</td>\n      <td>244706</td>\n      <td>147001</td>\n      <td>97705</td>\n      <td>...</td>\n      <td>1871</td>\n      <td>213</td>\n      <td>43</td>\n      <td>195</td>\n      <td>35</td>\n      <td>577</td>\n      <td>183723</td>\n      <td>167884</td>\n      <td>15839</td>\n      <td>448</td>\n    </tr>\n    <tr>\n      <th>396</th>\n      <td>ORISSA</td>\n      <td>Nabarangapur</td>\n      <td>5291.0</td>\n      <td>273423</td>\n      <td>1220946</td>\n      <td>604812</td>\n      <td>616134</td>\n      <td>470379</td>\n      <td>286984</td>\n      <td>183395</td>\n      <td>...</td>\n      <td>6753</td>\n      <td>169</td>\n      <td>189</td>\n      <td>325</td>\n      <td>54</td>\n      <td>3299</td>\n      <td>372264</td>\n      <td>342840</td>\n      <td>29424</td>\n      <td>1324</td>\n    </tr>\n    <tr>\n      <th>395</th>\n      <td>ORISSA</td>\n      <td>Rayagada</td>\n      <td>7073.0</td>\n      <td>226144</td>\n      <td>967911</td>\n      <td>471960</td>\n      <td>495951</td>\n      <td>407735</td>\n      <td>241959</td>\n      <td>165776</td>\n      <td>...</td>\n      <td>4607</td>\n      <td>219</td>\n      <td>249</td>\n      <td>123</td>\n      <td>44</td>\n      <td>3308</td>\n      <td>286548</td>\n      <td>237343</td>\n      <td>49205</td>\n      <td>1553</td>\n    </tr>\n    <tr>\n      <th>397</th>\n      <td>ORISSA</td>\n      <td>Koraput</td>\n      <td>8807.0</td>\n      <td>337677</td>\n      <td>1379647</td>\n      <td>678809</td>\n      <td>700838</td>\n      <td>568090</td>\n      <td>340843</td>\n      <td>227247</td>\n      <td>...</td>\n      <td>8850</td>\n      <td>518</td>\n      <td>219</td>\n      <td>491</td>\n      <td>3384</td>\n      <td>3484</td>\n      <td>460128</td>\n      <td>381789</td>\n      <td>78339</td>\n      <td>3988</td>\n    </tr>\n    <tr>\n      <th>393</th>\n      <td>ORISSA</td>\n      <td>Nuapada</td>\n      <td>3852.0</td>\n      <td>152210</td>\n      <td>610382</td>\n      <td>301962</td>\n      <td>308420</td>\n      <td>299383</td>\n      <td>180903</td>\n      <td>118480</td>\n      <td>...</td>\n      <td>4952</td>\n      <td>724</td>\n      <td>76</td>\n      <td>905</td>\n      <td>22</td>\n      <td>833</td>\n      <td>209127</td>\n      <td>197258</td>\n      <td>11869</td>\n      <td>757</td>\n    </tr>\n  </tbody>\n</table>\n<p>5 rows × 32 columns</p>\n</div>"
     },
     "execution_count": 9,
     "metadata": {},
     "output_type": "execute_result"
    }
   ],
   "source": [
    "poor_districts = ['Malkangiri', 'Nabarangapur', 'Rayagada', 'Koraput', 'Nuapada']\n",
    "df_list = []\n",
    "df_poor = pd.DataFrame()\n",
    "for district in poor_districts:\n",
    "  df_list.append(df.query(f'District == \"{district}\"')) \n",
    "  \n",
    "df_poor = pd.concat(df_list)\n",
    "df_poor"
   ],
   "metadata": {
    "collapsed": false,
    "ExecuteTime": {
     "end_time": "2023-12-19T10:59:30.079356100Z",
     "start_time": "2023-12-19T10:59:30.043347200Z"
    }
   },
   "id": "254a11f73719b477"
  },
  {
   "cell_type": "code",
   "execution_count": 10,
   "outputs": [
    {
     "data": {
      "text/plain": "array([398, 396, 395, 397, 393], dtype=int64)"
     },
     "execution_count": 10,
     "metadata": {},
     "output_type": "execute_result"
    }
   ],
   "source": [
    "df_poor.index.values"
   ],
   "metadata": {
    "collapsed": false,
    "ExecuteTime": {
     "end_time": "2023-12-19T10:59:31.704033100Z",
     "start_time": "2023-12-19T10:59:31.693365600Z"
    }
   },
   "id": "58be6565177f3876"
  },
  {
   "cell_type": "code",
   "execution_count": 2801,
   "outputs": [
    {
     "name": "stderr",
     "output_type": "stream",
     "text": [
      "C:\\Users\\TAMIM\\AppData\\Local\\Temp\\ipykernel_11892\\2849139382.py:9: FutureWarning: Series.__getitem__ treating keys as positions is deprecated. In a future version, integer keys will always be treated as labels (consistent with DataFrame behavior). To access a value by position, use `ser.iloc[pos]`\n",
      "  pct_urban_households.append(round(float(df_poor.loc[district]['Urban_Households'] / df_poor.loc[district]['Households'][1])  * 100,2))\n"
     ]
    },
    {
     "data": {
      "text/plain": "   District  Literacy Rates  Employment Rates  Percentage of Urban Households\n0       398           39.91             49.34                            8.62\n1       396           38.53             49.96                            7.90\n2       395           42.13             51.74                           17.17\n3       397           41.18             49.74                           17.03\n4       393           49.05             49.96                            5.68",
      "text/html": "<div>\n<style scoped>\n    .dataframe tbody tr th:only-of-type {\n        vertical-align: middle;\n    }\n\n    .dataframe tbody tr th {\n        vertical-align: top;\n    }\n\n    .dataframe thead th {\n        text-align: right;\n    }\n</style>\n<table border=\"1\" class=\"dataframe\">\n  <thead>\n    <tr style=\"text-align: right;\">\n      <th></th>\n      <th>District</th>\n      <th>Literacy Rates</th>\n      <th>Employment Rates</th>\n      <th>Percentage of Urban Households</th>\n    </tr>\n  </thead>\n  <tbody>\n    <tr>\n      <th>0</th>\n      <td>398</td>\n      <td>39.91</td>\n      <td>49.34</td>\n      <td>8.62</td>\n    </tr>\n    <tr>\n      <th>1</th>\n      <td>396</td>\n      <td>38.53</td>\n      <td>49.96</td>\n      <td>7.90</td>\n    </tr>\n    <tr>\n      <th>2</th>\n      <td>395</td>\n      <td>42.13</td>\n      <td>51.74</td>\n      <td>17.17</td>\n    </tr>\n    <tr>\n      <th>3</th>\n      <td>397</td>\n      <td>41.18</td>\n      <td>49.74</td>\n      <td>17.03</td>\n    </tr>\n    <tr>\n      <th>4</th>\n      <td>393</td>\n      <td>49.05</td>\n      <td>49.96</td>\n      <td>5.68</td>\n    </tr>\n  </tbody>\n</table>\n</div>"
     },
     "execution_count": 2801,
     "metadata": {},
     "output_type": "execute_result"
    }
   ],
   "source": [
    "literacy_rates = []\n",
    "employment_rates = []\n",
    "pct_urban_households = []\n",
    "\n",
    "for district in df_poor.index:\n",
    " \n",
    " literacy_rates.append(round(float(df_poor.loc[district]['Literate Population'] / df_poor.loc[district]['Total Population']) * 100,2)) \n",
    " employment_rates.append(round(float(df_poor.loc[district]['Unemployed Population'] / df_poor.loc[district]['Total Population'])  * 100,2)) \n",
    " pct_urban_households.append(round(float(df_poor.loc[district]['Urban_Households'] / df_poor.loc[district]['Households'][1])  * 100,2))\n",
    "\n",
    "df_poor_plot = pd.DataFrame({'District': df_poor.index.values, 'Literacy Rates': literacy_rates, 'Employment Rates': employment_rates, \"Percentage of Urban Households\": pct_urban_households})\n",
    "df_poor_plot"
   ],
   "metadata": {
    "collapsed": false,
    "ExecuteTime": {
     "end_time": "2023-12-16T09:24:20.296601900Z",
     "start_time": "2023-12-16T09:24:19.853253400Z"
    }
   },
   "id": "8aa358a7c3413369"
  },
  {
   "cell_type": "code",
   "execution_count": 2802,
   "outputs": [
    {
     "data": {
      "text/plain": "<Figure size 1000x600 with 1 Axes>",
      "image/png": "[encoded data removed]"
     },
     "metadata": {},
     "output_type": "display_data"
    }
   ],
   "source": [
    "df_poor_melted = pd.melt(df_poor_plot, id_vars=['District'], var_name='Metric', value_name='Percentage')\n",
    "plt.figure(figsize=(10, 6))\n",
    "sns.lineplot(x='District', y='Percentage', hue='Metric', marker='o', data=df_poor_melted)\n",
    "\n",
    "plt.title('Socio-economic dynamics of bottom five')\n",
    "plt.xlabel('Poorest five districs')\n",
    "plt.ylabel('Percentage')\n",
    "plt.legend(title='Socio-Economic Metrics')\n",
    "plt.grid(True)\n",
    "plt.show()"
   ],
   "metadata": {
    "collapsed": false,
    "ExecuteTime": {
     "end_time": "2023-12-16T09:24:20.297599500Z",
     "start_time": "2023-12-16T09:24:19.867436300Z"
    }
   },
   "id": "9580a60c278dd930"
  },
  {
   "cell_type": "markdown",
   "source": [
    "## Parsing the NITI Aayog Multidimensional Poverty Index Report\n",
    "\n",
    "The data is found in the 2011 NITI Aayog NFHS survey, in a tabulated manner for each district. We must obtain the Head-Count Ratio for each district.\n",
    "\n",
    "HCR: Percentage of population below the poverty line."
   ],
   "metadata": {
    "collapsed": false
   },
   "id": "4ca8d8a7fb4da102"
  },
  {
   "cell_type": "code",
   "execution_count": 2803,
   "outputs": [
    {
     "name": "stdout",
     "output_type": "stream",
     "text": [
      "Requirement already satisfied: pdfplumber in d:\\projects\\poverty_data\\venv\\lib\\site-packages (0.10.3)\n",
      "Requirement already satisfied: pdfminer.six in d:\\projects\\poverty_data\\venv\\lib\\site-packages (20221105)\n",
      "Requirement already satisfied: Pillow>=9.1 in d:\\projects\\poverty_data\\venv\\lib\\site-packages (from pdfplumber) (10.1.0)\n",
      "Requirement already satisfied: pypdfium2>=4.18.0 in d:\\projects\\poverty_data\\venv\\lib\\site-packages (from pdfplumber) (4.25.0)\n",
      "Requirement already satisfied: charset-normalizer>=2.0.0 in d:\\projects\\poverty_data\\venv\\lib\\site-packages (from pdfminer.six) (3.3.2)\n",
      "Requirement already satisfied: cryptography>=36.0.0 in d:\\projects\\poverty_data\\venv\\lib\\site-packages (from pdfminer.six) (41.0.7)\n",
      "Requirement already satisfied: cffi>=1.12 in d:\\projects\\poverty_data\\venv\\lib\\site-packages (from cryptography>=36.0.0->pdfminer.six) (1.16.0)\n",
      "Requirement already satisfied: pycparser in d:\\projects\\poverty_data\\venv\\lib\\site-packages (from cffi>=1.12->cryptography>=36.0.0->pdfminer.six) (2.21)\n"
     ]
    }
   ],
   "source": [
    "!pip install pdfplumber pdfminer.six"
   ],
   "metadata": {
    "collapsed": false,
    "ExecuteTime": {
     "end_time": "2023-12-16T09:24:22.090952800Z",
     "start_time": "2023-12-16T09:24:20.092633400Z"
    }
   },
   "id": "2656687eacd7d725"
  },
  {
   "cell_type": "code",
   "execution_count": 2804,
   "outputs": [],
   "source": [
    "import pdfplumber\n",
    "\n",
    "def extract_text_from_pdfplumber(pdf_path, page_num):\n",
    "    \n",
    "    with pdfplumber.open(pdf_path) as pdf:\n",
    "        \n",
    "        page = pdf.pages[page_num]\n",
    "        text = page.extract_text()\n",
    "\n",
    "    return text\n"
   ],
   "metadata": {
    "collapsed": false,
    "ExecuteTime": {
     "end_time": "2023-12-16T09:24:22.096865300Z",
     "start_time": "2023-12-16T09:24:22.090952800Z"
    }
   },
   "id": "6abd027091ac98d"
  },
  {
   "cell_type": "code",
   "execution_count": 2805,
   "outputs": [],
   "source": [
    "pdf_path = 'resources/India-National-Multidimentional-Poverty-Index-2023.pdf'\n",
    "list_of_pages = [83, 91, 99, 107, 115, 121, 129, 137, 145, 153, 161, 169, 185, 193, 201, 209, 217, 225, 233, 241, 248, 255, 262, 268, 276, 283, 291, 297, 303, 309, 316, 323, 329, 335, 342]"
   ],
   "metadata": {
    "collapsed": false,
    "ExecuteTime": {
     "end_time": "2023-12-16T09:24:22.103232Z",
     "start_time": "2023-12-16T09:24:22.094870600Z"
    }
   },
   "id": "c267a25430adf0be"
  },
  {
   "cell_type": "code",
   "execution_count": 2806,
   "outputs": [],
   "source": [
    "# start = 80\n",
    "# end = 350\n",
    "# \n",
    "# list_of_pages = []\n",
    "# \n",
    "# for i in range(start,end):\n",
    "#     extracted_text = extract_text_from_pdfplumber(pdf_path, i)\n",
    "#     if extracted_text.__contains__('Overview of Districts'):\n",
    "#         list_of_pages.append(i)\n",
    "# \n",
    "# print(list_of_pages)"
   ],
   "metadata": {
    "collapsed": false,
    "ExecuteTime": {
     "end_time": "2023-12-16T09:24:22.111420300Z",
     "start_time": "2023-12-16T09:24:22.102234900Z"
    }
   },
   "id": "b1a8c61925c3455e"
  },
  {
   "cell_type": "code",
   "execution_count": 2807,
   "outputs": [],
   "source": [
    "# text = \"\\nTHIS IS THE END OF ONE PAGE\\n\"\n",
    "# \n",
    "# with pdfplumber.open(pdf_path) as pdf:\n",
    "#     for page in list_of_pages:\n",
    "# \n",
    "#         page = pdf.pages[page]\n",
    "# \n",
    "#         text = text + page.extract_text()\n",
    "#         text = text + \"\\nTHIS IS THE END OF ONE PAGE\\n\"\n",
    "# print(os.getcwd())\n",
    "# with open('resources/rawtext.txt', 'w') as file:\n",
    "#     file.write(text)"
   ],
   "metadata": {
    "collapsed": false,
    "ExecuteTime": {
     "end_time": "2023-12-16T09:24:22.117979400Z",
     "start_time": "2023-12-16T09:24:22.109426300Z"
    }
   },
   "id": "16f06c1d81e62d0c"
  },
  {
   "cell_type": "code",
   "execution_count": 2808,
   "outputs": [],
   "source": [
    "indian_states = [\n",
    "    'Andhra Pradesh',\n",
    "    'Arunachal Pradesh',\n",
    "    'Assam',\n",
    "    'Bihar',\n",
    "    'Chhattisgarh',\n",
    "    'Goa',\n",
    "    'Gujarat',\n",
    "    'Haryana',\n",
    "    'Himachal Pradesh',\n",
    "    'Jharkhand',\n",
    "    'Karnataka',\n",
    "    'Kerala',\n",
    "    'Madhya Pradesh',\n",
    "    'Maharashtra',\n",
    "    'Manipur',\n",
    "    'Meghalaya',\n",
    "    'Mizoram',\n",
    "    'Nagaland',\n",
    "    'Odisha',\n",
    "    'Punjab',\n",
    "    'Rajasthan',\n",
    "    'Sikkim',\n",
    "    'Tamil Nadu',\n",
    "    'Telangana',\n",
    "    'Tripura',\n",
    "    'Uttar Pradesh',\n",
    "    'Uttarakhand',\n",
    "    'West Bengal'\n",
    "]\n",
    "\n",
    "union_territories = [\n",
    "    'Andaman & Nicobar Islands',\n",
    "    'Chandigarh',\n",
    "    'Dadra & Nagar Haveli & Daman & Diu',\n",
    "    'Lakshadweep',\n",
    "    'Delhi',\n",
    "    'Puducherry',\n",
    "    'Jammu & Kashmir',\n",
    "    'Ladakh'\n",
    "]\n",
    "\n",
    "# Combine the lists\n",
    "india_regions = indian_states + union_territories"
   ],
   "metadata": {
    "collapsed": false,
    "ExecuteTime": {
     "end_time": "2023-12-16T09:24:22.151754200Z",
     "start_time": "2023-12-16T09:24:22.118976300Z"
    }
   },
   "id": "10c97061d67df450"
  },
  {
   "cell_type": "code",
   "execution_count": 2809,
   "outputs": [
    {
     "name": "stdout",
     "output_type": "stream",
     "text": [
      "Lakshadweep 83\n",
      "Andhra Pradesh 91\n",
      "Arunachal Pradesh 99\n",
      "Assam 107\n",
      "Bihar 115\n",
      "Chhattisgarh 121\n",
      "Goa 129\n",
      "Gujarat 137\n",
      "Haryana 145\n",
      "Himachal Pradesh 153\n",
      "Jharkhand 161\n",
      "Karnataka 169\n",
      "Kerala 185\n",
      "Maharashtra 193\n",
      "Manipur 201\n",
      "Meghalaya 209\n",
      "Mizoram 217\n",
      "Nagaland 225\n",
      "Odisha 233\n",
      "Punjab 241\n",
      "Rajasthan 248\n",
      "Sikkim 255\n",
      "Tamil Nadu 262\n",
      "Telangana 268\n",
      "Tripura 276\n",
      "Uttar Pradesh 283\n",
      "Uttarakhand 291\n",
      "West Bengal 297\n",
      "Andaman & Nicobar Islands 303\n",
      "Chandigarh 309\n",
      "Dadra & Nagar Haveli & Daman & Diu 316\n",
      "Delhi 323\n",
      "Jammu & Kashmir 329\n",
      "Ladakh 335\n",
      "Lakshadweep 342\n",
      "34\n"
     ]
    }
   ],
   "source": [
    "import json\n",
    "\n",
    "specified_part = \"THIS IS THE END OF ONE PAGE\"\n",
    "all_pages = {}\n",
    "page_info = {}\n",
    "regions = []\n",
    "with open('resources/rawtext.txt', 'r') as file:\n",
    "    for i,page in enumerate(list_of_pages):\n",
    "        page_data = []\n",
    "        for line in file:\n",
    "            page_data.append(line)\n",
    "            if specified_part in line:\n",
    "                all_pages[f'page{list_of_pages[i]}'] = page_data\n",
    "                if \"Headcount Ratio Intensity MPI Headcount Ratio Intensity MPI\\n\" or \"Headcoun t Ratio Intensity MPI Headcoun t Ratio Intensity MPI\" in page_data:\n",
    "                    try:\n",
    "                        index = page_data.index(\"Headcount Ratio Intensity MPI Headcount Ratio Intensity MPI\\n\")\n",
    "                        index = page_data.index(\"Headcoun t Ratio Intensity MPI Headcoun t Ratio Intensity MPI\\n\")\n",
    "                    except:\n",
    "                        pass\n",
    "                    for line in page_data[:index]:\n",
    "                        for region in india_regions:\n",
    "                            if line.__contains__(region):\n",
    "                                region_key = region\n",
    "                    try:\n",
    "                        page_info[region_key] = page_data[index+1:]\n",
    "                    except:\n",
    "                        page_info[f'page{list_of_pages[i]}'] = page_data\n",
    "                print(region_key, list_of_pages[i])\n",
    "                break\n",
    "print(len(page_info.keys()))\n",
    "# print(page_info.keys())\n",
    "# pprint.pprint(all_pages)\n",
    "# print(json.dumps(all_pages))"
   ],
   "metadata": {
    "collapsed": false,
    "ExecuteTime": {
     "end_time": "2023-12-16T09:24:22.167506200Z",
     "start_time": "2023-12-16T09:24:22.126963Z"
    }
   },
   "id": "f61794afd26cf62c"
  },
  {
   "cell_type": "code",
   "execution_count": 2810,
   "outputs": [],
   "source": [
    "# Manually obtaining Bihar data and Puducherry data with an OCR service as the page is too 'compact' to be read accurately by pdfplumber\n",
    "\n",
    "bihar_data = '''\n",
    "Araria 64.65%\n",
    "Arwal 52.18%\n",
    "Aurangabad 43.94%\n",
    "Banka 57.83%\n",
    "Begusarai 50.68%\n",
    "Bhagalpur 45.60%\n",
    "Bhojpur 40.50%\n",
    "Buxar 41.84%\n",
    "Darbhanga 56.45%\n",
    "Gaya 54.67%\n",
    "Gopalganj 42.75%\n",
    "Jamul 64.01%\n",
    "Jehanabad 45.41%\n",
    "Kaimur (Bhabua) 44.48%\n",
    "Katihar 62.38%\n",
    "Khagaria 58.23%\n",
    "Kishanganj 64.75%\n",
    "Lakhisarai 43.90%\n",
    "Madhepura 64.43%\n",
    "Madhubani 55.41%\n",
    "Munger 40.73%\n",
    "Muzaffarpur 48.00% \n",
    "Nalanda 46.61%\n",
    "Nawada 51.72%\n",
    "Pashchim Champaran 57.50%\n",
    "Patna 29.20%\n",
    "Purbi Champaran 64.13%\n",
    "Purnia 63.31%\n",
    "Rohtas 40.74%\n",
    "Saharsa 61.46%\n",
    "Samastipur 55.87%\n",
    "Saran 42.80%\n",
    "Sheikhpura 52.70%\n",
    "Sheohar 60.03%\n",
    "Sitamarhi 63.46%\n",
    "Siwan 40.55%\n",
    "Supaul 63.90%\n",
    "Vaishali 47.56% \n",
    "'''\n",
    "\n",
    "puducherry_data = '''\n",
    "Karaikal 3.13% 35.97% 0.011 2.28% 37.62% 0.009\n",
    "Mahe 0.08% 35.71% 0.000 0.19% 33.33% 0.001\n",
    "Puducherry 1.30% 39.28% 0.005 0.30% 39.36% 0.001\n",
    "Yanam 5.06% 41.54% 0.021 3.95% 37.54% 0.015\n",
    "'''\n",
    "\n",
    "madhya_pradesh_data = '''Alirajpur             71.31% \n",
    "Anuppur               41.65% \n",
    "Ashoknagar            42.78% \n",
    "Balaghat              40.06% \n",
    "Barwani               61.60% \n",
    "Betul                 34.50% \n",
    "Bhind                 33.18% \n",
    "Bhopal                12.66% \n",
    "Burhanpur             36.94% \n",
    "Chhatarpur            48.78% \n",
    "Chhindwara            30.14% \n",
    "Damoh                 46.31% \n",
    "Datia                 34.24% \n",
    "Dewas                 29.67% \n",
    "Dhar                  40.28% \n",
    "Dindori               56.23% \n",
    "Guna                  45.67% \n",
    "Gwalior               22.38% \n",
    "Harda                 33.11% \n",
    "Hoshangabad           24.72% \n",
    "Indore                10.76% \n",
    "Jabalpur              19.50% \n",
    "Jhabua                68.86% \n",
    "Katni                 39.94% \n",
    "Khandwa (East Nimar)  42.53% \n",
    "Khargone (West Nimar) 35.80% \n",
    "Mandla                48.09% \n",
    "Mandsaur              33.00% \n",
    "Morena                32.36% \n",
    "Narsinghpur           30.55% \n",
    "Neemuch               31.87% \n",
    "Panna                 42.63% \n",
    "Raisen                34.52% \n",
    "Rajgarh               41.77% \n",
    "Ratlam                41.48% \n",
    "Rewa                  36.94% \n",
    "Sagar                 40.07% \n",
    "Satna                 34.12% \n",
    "Sehore                26.69% \n",
    "Seoni                 42.55% \n",
    "Shahdol               43.47% \n",
    "Shajapur              33.45% \n",
    "Sheopur               49.72% \n",
    "Shivpuri              46.09% \n",
    "Sidhi                 52.68% \n",
    "Singrauli             51.92% \n",
    "Tikamgarh             47.52% \n",
    "Ujjain                29.58% \n",
    "Umaria                45.45% \n",
    "Vidisha               47.19% \n",
    "'''\n",
    "\n",
    "page_info['Bihar'] = bihar_data.split('\\n')\n",
    "page_info['Puducherry'] = puducherry_data.split('\\n')\n",
    "page_info['Madhya Pradesh'] = madhya_pradesh_data.split('\\n')"
   ],
   "metadata": {
    "collapsed": false,
    "ExecuteTime": {
     "end_time": "2023-12-16T09:24:22.167506200Z",
     "start_time": "2023-12-16T09:24:22.136698200Z"
    }
   },
   "id": "3bd0d1948e6224eb"
  },
  {
   "cell_type": "code",
   "execution_count": 2811,
   "outputs": [
    {
     "name": "stdout",
     "output_type": "stream",
     "text": [
      "{\"Lakshadweep\": [\"Lakshadweep 1.82% 35.80% 0.007 1.11% 36.47% 0.004\\n\", \"308\\n\", \"tcirtsiD\\n\", \"tcirtsiD\\n\", \"THIS IS THE END OF ONE PAGE\\n\"], \"Andhra Pradesh\": [\"Anantapur 12.47% 42.00% 0.052 6.74% 40.56% 0.027\\n\", \"Chittoor 9.64% 42.65% 0.041 5.66% 39.20% 0.022\\n\", \"East Godavari 8.51% 41.34% 0.035 6.13% 43.65% 0.027\\n\", \"Guntur 7.26% 41.12% 0.030 4.36% 37.58% 0.016\\n\", \"Krishna 8.69% 41.56% 0.036 4.38% 38.22% 0.017\\n\", \"Kurnool 19.64% 45.87% 0.090 12.84% 42.32% 0.054\\n\", \"Prakasam 13.84% 45.44% 0.063 6.28% 43.60% 0.027\\n\", \"SPSR Nellore 11.27% 43.79% 0.049 5.41% 43.06% 0.023\\n\", \"Srikakulam 14.01% 41.56% 0.058 5.20% 41.83% 0.022\\n\", \"Visakhapatanam 15.10% 46.99% 0.071 7.60% 40.81% 0.031\\n\", \"Vizianagaram 19.00% 42.42% 0.081 8.66% 40.20% 0.035\\n\", \"West Godavari 9.11% 39.79% 0.036 2.42% 42.56% 0.010\\n\", \"Y.S.R. (Kadapa) 9.14% 41.83% 0.038 3.34% 38.51% 0.013\\n\", \"56\\n\", \"THIS IS THE END OF ONE PAGE\\n\"], \"Arunachal Pradesh\": [\"Anjaw 22.86% 42.92% 0.098 13.09% 43.24% 0.057\\n\", \"Changlang 26.47% 48.08% 0.127 14.39% 43.49% 0.063\\n\", \"Dibang Valley 16.95% 41.31% 0.070 10.11% 42.72% 0.043\\n\", \"East Kameng 44.03% 48.87% 0.215 22.05% 43.20% 0.095\\n\", \"East Siang 8.84% 41.61% 0.037 8.11% 40.69% 0.033\\n\", \"\\u2013 \\u2013 \\u2013\\n\", \"Kra Daadi 18.91% 44.13% 0.083\\n\", \"Kurung Kumey 39.55% 47.44% 0.188 11.14% 40.52% 0.045\\n\", \"Lohit 31.97% 51.28% 0.164 12.39% 42.69% 0.053\\n\", \"Longding \\u2013 \\u2013 \\u2013 20.97% 43.73% 0.092\\n\", \"Lower Dibang Valley 23.56% 45.96% 0.108 9.08% 41.21% 0.037\\n\", \"Lower Subansiri 15.80% 43.96% 0.069 6.39% 39.83% 0.025\\n\", \"Namsai \\u2013 \\u2013 \\u2013 22.11% 45.76% 0.101\\n\", \"Papum Pare 12.85% 45.91% 0.059 13.76% 43.55% 0.060\\n\", \"Siang \\u2013 \\u2013 \\u2013 9.15% 38.97% 0.036\\n\", \"Tawang 31.25% 45.60% 0.143 8.46% 41.95% 0.035\\n\", \"Tirap 28.30% 48.12% 0.136 14.78% 45.08% 0.067\\n\", \"Upper Siang 15.88% 41.39% 0.066 8.74% 39.75% 0.035\\n\", \"Upper Subansiri 29.78% 45.02% 0.134 19.71% 42.03% 0.083\\n\", \"West Kameng 22.44% 43.65% 0.098 4.74% 39.77% 0.019\\n\", \"West Siang 14.49% 45.15% 0.065 13.85% 41.89% 0.058\\n\", \"64\\n\", \"THIS IS THE END OF ONE PAGE\\n\"], \"Assam\": [\"Baksa 23.59% 43.42% 0.102 15.60% 41.10% 0.064\\n\", \"Barpeta 39.41% 46.50% 0.183 19.12% 43.38% 0.083\\n\", \"Biswanath \\u2013 \\u2013 \\u2013 22.09% 46.03% 0.102\\n\", \"Bongaigaon 33.77% 45.80% 0.155 17.39% 42.99% 0.075\\n\", \"Cachar 42.29% 49.49% 0.209 30.58% 45.63% 0.140\\n\", \"Charaideo \\u2013 \\u2013 \\u2013 20.10% 47.03% 0.095\\n\", \"Chirang 36.20% 45.71% 0.165 16.79% 42.48% 0.071\\n\", \"Darrang 38.22% 49.49% 0.189 23.65% 42.20% 0.100\\n\", \"Dhemaji 27.71% 45.03% 0.125 13.73% 40.72% 0.056\\n\", \"Dhubri 51.06% 50.85% 0.260 26.02% 44.48% 0.116\\n\", \"Dibrugarh 28.97% 47.05% 0.136 12.26% 45.51% 0.056\\n\", \"Dima Hasao 31.07% 49.97% 0.155 13.62% 44.47% 0.061\\n\", \"Goalpara 40.15% 50.62% 0.203 18.34% 44.23% 0.081\\n\", \"Golaghat 20.60% 45.64% 0.094 14.60% 44.22% 0.065\\n\", \"Hailakandi 51.07% 49.21% 0.251 36.22% 45.30% 0.164\\n\", \"Hojai \\u2013 \\u2013 \\u2013 14.13% 41.83% 0.059\\n\", \"Jorhat 20.24% 43.62% 0.088 11.49% 44.49% 0.051\\n\", \"Kamrup 26.22% 45.03% 0.118 12.71% 41.89% 0.053\\n\", \"Kamrup Metro 10.93% 46.95% 0.051 5.63% 43.08% 0.024\\n\", \"Karbi Anglong 37.59% 48.10% 0.181 16.20% 42.24% 0.068\\n\", \"Karimganj 46.02% 48.45% 0.223 32.93% 46.54% 0.153\\n\", \"Kokrajhar 32.14% 46.11% 0.148 18.92% 43.99% 0.083\\n\", \"Lakhimpur 24.23% 46.80% 0.113 14.06% 43.10% 0.061\\n\", \"Majuli \\u2013 \\u2013 \\u2013 14.41% 39.18% 0.056\\n\", \"Marigaon 36.75% 47.71% 0.175 22.46% 44.63% 0.100\\n\", \"Nagaon 30.51% 47.10% 0.144 20.84% 44.61% 0.093\\n\", \"Nalbari 16.94% 44.69% 0.076 11.24% 43.47% 0.049\\n\", \"Sivasagar 25.55% 48.95% 0.125 10.28% 42.94% 0.044\\n\", \"Sonitpur 25.32% 46.55% 0.118 19.94% 44.95% 0.090\\n\", \"South Salmara Mancachar \\u2013 \\u2013 \\u2013 28.24% 46.45% 0.131\\n\", \"Tinsukia 36.70% 52.07% 0.191 17.66% 46.04% 0.081\\n\", \"Udalguri 29.46% 44.74% 0.132 19.16% 42.99% 0.082\\n\", \"West Karbi Anglong \\u2013 \\u2013 \\u2013 24.09% 44.40% 0.107\\n\", \"72\\n\", \"THIS IS THE END OF ONE PAGE\\n\"], \"Bihar\": [\"\", \"Araria 64.65%\", \"Arwal 52.18%\", \"Aurangabad 43.94%\", \"Banka 57.83%\", \"Begusarai 50.68%\", \"Bhagalpur 45.60%\", \"Bhojpur 40.50%\", \"Buxar 41.84%\", \"Darbhanga 56.45%\", \"Gaya 54.67%\", \"Gopalganj 42.75%\", \"Jamul 64.01%\", \"Jehanabad 45.41%\", \"Kaimur (Bhabua) 44.48%\", \"Katihar 62.38%\", \"Khagaria 58.23%\", \"Kishanganj 64.75%\", \"Lakhisarai 43.90%\", \"Madhepura 64.43%\", \"Madhubani 55.41%\", \"Munger 40.73%\", \"Muzaffarpur 48.00% \", \"Nalanda 46.61%\", \"Nawada 51.72%\", \"Pashchim Champaran 57.50%\", \"Patna 29.20%\", \"Purbi Champaran 64.13%\", \"Purnia 63.31%\", \"Rohtas 40.74%\", \"Saharsa 61.46%\", \"Samastipur 55.87%\", \"Saran 42.80%\", \"Sheikhpura 52.70%\", \"Sheohar 60.03%\", \"Sitamarhi 63.46%\", \"Siwan 40.55%\", \"Supaul 63.90%\", \"Vaishali 47.56% \", \"\"], \"Chhattisgarh\": [\"\\u2013 \\u2013 \\u2013\\n\", \"Balod 5.77% 38.81% 0.022\\n\", \"Baloda Bazar \\u2013 \\u2013 \\u2013 15.61% 42.60% 0.066\\n\", \"Balrampur \\u2013 \\u2013 \\u2013 32.45% 43.92% 0.143\\n\", \"Bastar 46.95% 48.22% 0.226 34.69% 45.94% 0.159\\n\", \"Bemetara \\u2013 \\u2013 \\u2013 17.26% 40.61% 0.070\\n\", \"Bijapur 41.20% 44.52% 0.183 49.72% 52.79% 0.262\\n\", \"Bilaspur 25.66% 43.23% 0.111 16.74% 40.66% 0.068\\n\", \"Dantewada 54.35% 53.00% 0.288 29.53% 45.88% 0.135\\n\", \"Dhamtari 18.59% 40.74% 0.076 5.81% 40.17% 0.023\\n\", \"Durg 19.98% 41.93% 0.084 3.55% 40.53% 0.014\\n\", \"Gariyaband \\u2013 \\u2013 \\u2013 17.14% 41.99% 0.072\\n\", \"Janjgir-Champa 23.16% 41.55% 0.096 11.68% 39.80% 0.046\\n\", \"Jashpur 45.85% 46.09% 0.211 25.41% 41.94% 0.107\\n\", \"Kabirdham 39.56% 46.50% 0.184 13.78% 41.72% 0.057\\n\", \"Kondagaon \\u2013 \\u2013 \\u2013 26.79% 43.72% 0.117\\n\", \"Korba 31.85% 45.86% 0.146 18.11% 42.32% 0.077\\n\", \"Korea 38.24% 44.88% 0.172 20.03% 42.45% 0.085\\n\", \"Mahasamund 29.85% 42.03% 0.125 12.50% 41.11% 0.051\\n\", \"Mungeli \\u2013 \\u2013 \\u2013 15.31% 42.79% 0.066\\n\", \"Narayanpur 51.52% 49.42% 0.255 36.65% 49.96% 0.183\\n\", \"Raigarh 30.82% 43.48% 0.134 19.08% 41.86% 0.080\\n\", \"Raipur 21.82% 43.49% 0.095 8.73% 41.08% 0.036\\n\", \"Rajnandgaon 23.14% 40.37% 0.093 10.77% 39.68% 0.043\\n\", \"Sukma \\u2013 \\u2013 \\u2013 42.34% 48.36% 0.205\\n\", \"Surajpur \\u2013 \\u2013 \\u2013 22.41% 42.42% 0.095\\n\", \"Surguja 47.37% 46.60% 0.221 24.33% 44.06% 0.107\\n\", \"Uttar Bastar Kanker\\n\", \"27.03% 43.47% 0.117 13.90% 39.85% 0.055\\n\", \"(Kanker)\\n\", \"88\\n\", \"THIS IS THE END OF ONE PAGE\\n\"], \"Goa\": [\"North Goa 3.33% 40.92% 0.014 0.84% 42.37% 0.004\\n\", \"South Goa 4.37% 39.28% 0.017 0.84% 33.94% 0.003\\n\", \"94\\n\", \"tcirtsiD\\n\", \"tcirtsiD\\n\", \"THIS IS THE END OF ONE PAGE\\n\"], \"Gujarat\": [\"Ahmedabad 5.85% 40.47% 0.024 5.49% 40.40% 0.022\\n\", \"Amreli 11.95% 42.61% 0.051 7.47% 39.86% 0.030\\n\", \"Anand 14.81% 41.91% 0.062 10.47% 41.66% 0.044\\n\", \"Arvalli \\u2013 \\u2013 \\u2013 19.19% 41.63% 0.080\\n\", \"Banas Kantha 31.24% 46.14% 0.144 23.83% 46.13% 0.110\\n\", \"Bharuch 17.38% 43.81% 0.076 12.28% 41.55% 0.051\\n\", \"Bhavnagar 17.90% 41.85% 0.075 12.12% 44.00% 0.053\\n\", \"Botad \\u2013 \\u2013 \\u2013 9.77% 43.90% 0.043\\n\", \"Chhotaudepur \\u2013 \\u2013 \\u2013 25.24% 45.85% 0.116\\n\", \"Dang 57.33% 48.54% 0.278 26.61% 42.40% 0.113\\n\", \"Devbhumi Dwarka \\u2013 \\u2013 \\u2013 17.93% 43.73% 0.078\\n\", \"Dohad 54.93% 46.92% 0.258 38.27% 45.39% 0.174\\n\", \"Gandhinagar 16.57% 47.19% 0.078 5.66% 41.11% 0.023\\n\", \"Gir Somnath \\u2013 \\u2013 \\u2013 9.41% 39.71% 0.037\\n\", \"Jamnagar 13.05% 46.24% 0.060 7.16% 43.54% 0.031\\n\", \"Junagadh 10.08% 43.64% 0.044 7.02% 42.84% 0.030\\n\", \"Kachchh 28.30% 49.69% 0.141 10.52% 45.10% 0.047\\n\", \"Kheda 25.50% 42.50% 0.108 17.06% 40.86% 0.070\\n\", \"Mahesana 10.43% 43.74% 0.046 9.11% 44.32% 0.040\\n\", \"Mahisagar \\u2013 \\u2013 \\u2013 16.72% 40.97% 0.068\\n\", \"Morbi \\u2013 \\u2013 \\u2013 8.60% 41.86% 0.036\\n\", \"Narmada 37.11% 43.31% 0.161 22.62% 43.83% 0.099\\n\", \"Navsari 9.75% 42.32% 0.041 4.84% 41.34% 0.020\\n\", \"Panch Mahals 41.52% 45.50% 0.189 18.11% 42.18% 0.076\\n\", \"Patan 21.10% 43.98% 0.093 12.93% 41.53% 0.054\\n\", \"Porbandar 8.45% 42.43% 0.036 4.07% 39.10% 0.016\\n\", \"Rajkot 8.57% 43.34% 0.037 3.98% 41.28% 0.016\\n\", \"Sabar Kantha 24.85% 43.46% 0.108 19.96% 47.36% 0.095\\n\", \"Surat 9.22% 44.14% 0.041 5.29% 41.11% 0.022\\n\", \"Surendranagar 24.97% 48.15% 0.120 11.45% 42.34% 0.048\\n\", \"Tapi 27.59% 41.38% 0.114 16.03% 43.96% 0.070\\n\", \"Vadodara 21.24% 46.08% 0.098 6.53% 41.77% 0.027\\n\", \"Valsad 19.95% 48.10% 0.096 8.11% 41.93% 0.034\\n\", \"102\\n\", \"THIS IS THE END OF ONE PAGE\\n\"], \"Haryana\": [\"Ambala 1.99% 39.52% 0.008 3.83% 42.86% 0.016\\n\", \"Bhiwani 12.78% 39.54% 0.051 6.62% 39.78% 0.026\\n\", \"Charki Dadri \\u2013 \\u2013 \\u2013 2.85% 41.54% 0.012\\n\", \"Faridabad 10.70% 44.28% 0.047 7.42% 42.91% 0.032\\n\", \"Fatehabad 11.02% 41.37% 0.046 7.51% 41.25% 0.031\\n\", \"Gurugram 10.39% 42.07% 0.044 3.29% 40.19% 0.013\\n\", \"Hisar 9.71% 39.98% 0.039 5.62% 40.15% 0.023\\n\", \"Jhajjar 5.82% 39.51% 0.023 3.20% 42.07% 0.013\\n\", \"Jind 9.16% 39.53% 0.036 7.42% 38.70% 0.029\\n\", \"Kaithal 7.83% 41.65% 0.033 3.62% 42.41% 0.015\\n\", \"Karnal 6.40% 42.92% 0.027 3.43% 39.89% 0.014\\n\", \"Kurukshetra 6.42% 42.22% 0.027 4.60% 39.81% 0.018\\n\", \"Mahendragarh 6.29% 38.15% 0.024 5.04% 39.35% 0.020\\n\", \"Nuh (Mewat) 62.50% 52.64% 0.329 39.99% 48.78% 0.195\\n\", \"Palwal 26.98% 46.59% 0.126 14.71% 46.05% 0.068\\n\", \"Panchkula 2.47% 40.83% 0.010 1.42% 40.51% 0.006\\n\", \"Panipat 8.12% 43.43% 0.035 7.39% 41.12% 0.030\\n\", \"Rewari 11.08% 39.41% 0.044 2.91% 40.04% 0.012\\n\", \"Rohtak 13.72% 41.93% 0.058 4.69% 42.56% 0.020\\n\", \"Sirsa 14.52% 40.98% 0.060 7.16% 40.76% 0.029\\n\", \"Sonipat 6.35% 39.87% 0.025 4.01% 40.85% 0.016\\n\", \"Yamunanagar 4.47% 43.11% 0.019 4.70% 40.91% 0.019\\n\", \"110\\n\", \"THIS IS THE END OF ONE PAGE\\n\"], \"Himachal Pradesh\": [\"Bilaspur 7.54% 36.62% 0.028 5.15% 39.63% 0.020\\n\", \"Chamba 11.27% 41.25% 0.046 9.99% 39.90% 0.040\\n\", \"Hamirpur 4.43% 36.43% 0.016 4.99% 40.43% 0.020\\n\", \"Kangra 5.88% 37.40% 0.022 4.25% 39.62% 0.017\\n\", \"Kinnaur 5.10% 38.60% 0.020 3.95% 39.91% 0.016\\n\", \"Kullu 8.97% 38.98% 0.035 7.18% 39.23% 0.028\\n\", \"Lahul and Spiti 7.72% 38.38% 0.030 7.71% 37.82% 0.029\\n\", \"Mandi 8.35% 39.09% 0.033 4.47% 37.44% 0.017\\n\", \"Shimla 7.46% 40.07% 0.030 3.09% 40.58% 0.013\\n\", \"Sirmaur 10.88% 43.14% 0.047 5.84% 41.14% 0.024\\n\", \"Solan 9.10% 40.38% 0.037 4.02% 38.94% 0.016\\n\", \"Una 5.00% 38.90% 0.019 4.47% 50.50% 0.023\\n\", \"118\\n\", \"THIS IS THE END OF ONE PAGE\\n\"], \"Jharkhand\": [\"Bokaro 29.33% 44.19% 0.130 15.28% 43.63% 0.067\\n\", \"Chatra 60.74% 50.40% 0.306 37.00% 47.78% 0.177\\n\", \"Deoghar 47.40% 46.71% 0.221 37.04% 47.68% 0.177\\n\", \"Dhanbad 28.57% 43.84% 0.125 17.09% 43.20% 0.074\\n\", \"Dumka 52.93% 48.33% 0.256 37.98% 46.75% 0.178\\n\", \"Garhwa 53.21% 48.33% 0.257 35.84% 44.55% 0.160\\n\", \"Giridih 47.53% 47.97% 0.228 30.29% 43.98% 0.133\\n\", \"Godda 51.81% 49.00% 0.254 36.36% 46.30% 0.168\\n\", \"Gumla 46.59% 47.12% 0.220 30.76% 44.44% 0.137\\n\", \"Hazaribagh 35.75% 43.70% 0.156 26.10% 42.16% 0.110\\n\", \"Jamtara 50.62% 47.54% 0.241 28.97% 44.58% 0.129\\n\", \"Khunti 48.65% 47.27% 0.230 33.38% 45.41% 0.152\\n\", \"Koderma 32.68% 44.69% 0.146 28.21% 42.73% 0.121\\n\", \"Latehar 52.91% 50.52% 0.267 41.68% 45.40% 0.189\\n\", \"Lohardaga 45.33% 47.04% 0.213 22.71% 43.49% 0.099\\n\", \"Pakur 60.66% 51.95% 0.315 49.87% 49.02% 0.244\\n\", \"Palamu 45.46% 51.05% 0.232 32.34% 44.57% 0.144\\n\", \"Pashchimi Singhbhum\\n\", \"57.60% 53.90% 0.310 47.81% 50.42% 0.241\\n\", \"(West Singhbhum)\\n\", \"Purbi Singhbhum\\n\", \"23.99% 45.92% 0.110 15.10% 43.13% 0.065\\n\", \"(East Singhbhum)\\n\", \"Ramgarh 29.57% 44.26% 0.131 18.06% 42.46% 0.077\\n\", \"Ranchi 27.60% 43.72% 0.121 15.80% 41.23% 0.065\\n\", \"Sahebganj 55.72% 52.57% 0.293 48.45% 50.20% 0.243\\n\", \"Saraikela-Kharsawan 41.79% 46.33% 0.194 23.16% 44.34% 0.103\\n\", \"Simdega 49.98% 47.30% 0.236 31.41% 44.22% 0.139\\n\", \"126\\n\", \"THIS IS THE END OF ONE PAGE\\n\"], \"Karnataka\": [\"Bagalkote 19.94% 43.41% 0.087 10.85% 40.74% 0.044\\n\", \"Bangalore\\n\", \"2.05% 41.03% 0.008 1.47% 45.68% 0.007\\n\", \"(Bengaluru Urban)\\n\", \"Bangalore Rural\\n\", \"7.03% 40.01% 0.028 0.99% 36.71% 0.004\\n\", \"(Bengaluru Rural )\\n\", \"Belagavi 12.26% 39.94% 0.049 9.41% 39.60% 0.037\\n\", \"Bellary (Ballari) 22.91% 46.48% 0.106 12.22% 42.66% 0.052\\n\", \"Bidar 18.99% 41.64% 0.079 11.25% 40.00% 0.045\\n\", \"Bijapur (Vijayapura) 21.90% 42.57% 0.093 16.30% 41.71% 0.068\\n\", \"Chamarajanagara 18.45% 42.02% 0.078 5.15% 40.83% 0.021\\n\", \"Chikkaballapura 13.41% 42.07% 0.056 3.39% 39.89% 0.014\\n\", \"Chikkamagaluru 9.98% 41.81% 0.042 3.74% 39.80% 0.015\\n\", \"Chitradurga 14.81% 41.29% 0.061 5.84% 39.23% 0.023\\n\", \"Dakshina Kannada 6.69% 40.32% 0.027 1.71% 36.72% 0.006\\n\", \"Davangere 11.46% 42.59% 0.049 5.95% 38.68% 0.023\\n\", \"Dharwad 9.53% 40.27% 0.038 5.71% 39.07% 0.022\\n\", \"Gadag 19.50% 43.28% 0.084 15.32% 40.64% 0.062\\n\", \"Gulbarga (Kalaburagi) 21.10% 44.44% 0.094 18.63% 40.44% 0.075\\n\", \"Hassan 6.33% 40.43% 0.026 2.43% 38.76% 0.009\\n\", \"Haveri 15.28% 41.12% 0.063 11.38% 39.19% 0.045\\n\", \"Kodagu 8.64% 43.75% 0.038 4.67% 39.01% 0.018\\n\", \"Kolar 9.53% 40.26% 0.038 1.78% 39.11% 0.007\\n\", \"Koppal 24.31% 42.50% 0.103 18.04% 43.35% 0.078\\n\", \"Mandya 6.30% 43.52% 0.027 2.47% 35.55% 0.009\\n\", \"Mysuru 7.79% 41.16% 0.032 2.30% 36.82% 0.008\\n\", \"Raichur 31.65% 45.54% 0.144 20.19% 44.61% 0.090\\n\", \"Ramanagara 8.73% 38.38% 0.033 0.88% 40.51% 0.004\\n\", \"Shivamogga 12.64% 40.95% 0.052 3.39% 38.41% 0.013\\n\", \"Tumakuru 12.71% 41.26% 0.052 4.69% 37.28% 0.017\\n\", \"Udupi 10.32% 41.24% 0.043 4.13% 36.51% 0.015\\n\", \"Uttara Kannada 13.21% 42.64% 0.056 4.59% 40.29% 0.018\\n\", \"Yadgir 41.67% 46.99% 0.196 25.38% 45.59% 0.116\\n\", \"134\\n\", \"THIS IS THE END OF ONE PAGE\\n\"], \"Kerala\": [\"Alappuzha 0.71% 37.34% 0.003 0.10% 34.52% 0.000\\n\", \"Ernakulam 0.10% 38.10% 0.000 0.00% \\u2013 0.000\\n\", \"Idukki 1.65% 37.53% 0.006 1.11% 39.29% 0.004\\n\", \"Kannur 0.44% 36.04% 0.002 0.03% 35.71% 0.000\\n\", \"Kasaragod 0.94% 52.30% 0.005 1.70% 37.88% 0.006\\n\", \"Kollam 0.72% 42.76% 0.003 0.04% 40.48% 0.000\\n\", \"Kottayam 0.00% \\u2013 0.000 0.14% 38.61% 0.001\\n\", \"Kozhikode 0.26% 37.31% 0.001 0.68% 35.66% 0.002\\n\", \"Malappuram 1.11% 36.64% 0.004 0.85% 34.70% 0.003\\n\", \"Palakkad 0.62% 37.04% 0.002 1.34% 36.76% 0.005\\n\", \"Pathanamthitta 0.83% 42.48% 0.004 0.42% 35.16% 0.001\\n\", \"Thiruvananthapuram 1.08% 37.40% 0.004 0.52% 37.51% 0.002\\n\", \"Thrissur 0.33% 37.12% 0.001 0.03% 35.71% 0.000\\n\", \"Wayanad 3.48% 40.94% 0.014 2.82% 39.33% 0.011\\n\", \"142\\n\", \"THIS IS THE END OF ONE PAGE\\n\"], \"Maharashtra\": [\"Ahmednagar 15.40% 43.63% 0.067 7.19% 37.21% 0.027\\n\", \"Akola 13.38% 40.01% 0.054 6.09% 38.76% 0.024\\n\", \"Amravati 12.24% 41.90% 0.051 8.22% 39.89% 0.033\\n\", \"Aurangabad 14.22% 42.74% 0.061 9.45% 41.78% 0.039\\n\", \"Bhandara 8.19% 38.79% 0.032 5.85% 37.78% 0.022\\n\", \"Bid (Beed) 22.49% 43.14% 0.097 13.06% 39.35% 0.051\\n\", \"Buldhana 18.22% 43.60% 0.079 8.77% 42.51% 0.037\\n\", \"Chandrapur 17.65% 43.00% 0.076 5.70% 41.78% 0.024\\n\", \"Dhule 33.23% 50.13% 0.167 21.44% 46.34% 0.099\\n\", \"Gadchiroli 20.58% 41.66% 0.086 12.75% 39.09% 0.050\\n\", \"Gondia 18.75% 39.31% 0.074 8.49% 38.21% 0.032\\n\", \"Hingoli 28.05% 42.27% 0.119 12.26% 39.32% 0.048\\n\", \"Jalgaon 18.60% 45.58% 0.085 13.39% 43.18% 0.058\\n\", \"Jalna 28.65% 42.55% 0.122 14.12% 41.85% 0.059\\n\", \"Kolhapur 10.17% 40.38% 0.041 4.48% 36.87% 0.017\\n\", \"Latur 17.79% 41.29% 0.073 6.25% 39.40% 0.025\\n\", \"Mumbai 3.59% 39.73% 0.014 1.21% 37.84% 0.005\\n\", \"Mumbai Suburban 4.65% 42.97% 0.020 1.15% 35.74% 0.004\\n\", \"Nagpur 6.72% 38.02% 0.026 1.25% 34.18% 0.004\\n\", \"Nanded 27.37% 41.45% 0.113 12.33% 41.18% 0.051\\n\", \"Nandurbar\\n\", \"52.12% 53.76% 0.280 33.17% 46.22% 0.153\\n\", \"Nashik 18.31% 45.39% 0.083 13.46% 42.06% 0.057\\n\", \"Osmanabad 17.75% 41.66% 0.074 5.34% 39.46% 0.021\\n\", \"Palghar \\u2013 \\u2013 \\u2013 13.30% 46.91% 0.062\\n\", \"Parbhani 23.28% 40.35% 0.094 14.92% 41.08% 0.061\\n\", \"Pune 5.29% 39.45% 0.021 2.92% 40.05% 0.012\\n\", \"Raigad 10.04% 45.58% 0.046 8.38% 45.22% 0.038\\n\", \"Ratnagiri 18.47% 40.77% 0.075 7.64% 37.92% 0.029\\n\", \"Sangli 10.18% 40.67% 0.041 2.14% 38.39% 0.008\\n\", \"Satara 11.02% 40.33% 0.044 4.73% 40.84% 0.019\\n\", \"Sindhudurg 15.39% 39.86% 0.061 5.59% 37.63% 0.021\\n\", \"Solapur 12.60% 42.55% 0.054 7.16% 42.09% 0.030\\n\", \"Thane 15.24% 46.87% 0.071 5.62% 42.48% 0.024\\n\", \"Wardha 8.82% 40.48% 0.036 2.39% 40.95% 0.010\\n\", \"Washim 22.53% 41.67% 0.094 14.54% 41.68% 0.061\\n\", \"Yavatmal 23.54% 43.56% 0.103 10.48% 41.42% 0.043\\n\", \"158\\n\", \"THIS IS THE END OF ONE PAGE\\n\"], \"Manipur\": [\"Bishnupur 13.72% 41.02% 0.056 6.91% 42.98% 0.030\\n\", \"Chandel 26.89% 45.55% 0.123 14.74% 41.45% 0.061\\n\", \"Churachandpur 20.86% 47.47% 0.099 15.35% 42.49% 0.065\\n\", \"Imphal East 12.87% 44.26% 0.057 5.19% 42.35% 0.022\\n\", \"Imphal West 7.27% 40.24% 0.029 2.12% 38.63% 0.008\\n\", \"Senapati 33.58% 45.78% 0.154 15.60% 43.30% 0.068\\n\", \"Tamenglong 37.38% 47.84% 0.179 18.50% 44.20% 0.082\\n\", \"Thoubal 16.74% 42.74% 0.072 7.46% 39.86% 0.030\\n\", \"Ukhrul 28.52% 46.71% 0.133 17.87% 42.12% 0.075\\n\", \"166\\n\", \"THIS IS THE END OF ONE PAGE\\n\"], \"Meghalaya\": [\"East Garo Hills 41.78% 47.83% 0.200 14.96% 44.72% 0.067\\n\", \"East Jaintia Hills 46.07% 52.24% 0.241 43.79% 50.20% 0.220\\n\", \"East Khasi Hills 23.39% 46.28% 0.108 24.10% 46.34% 0.112\\n\", \"North Garo Hills \\u2013 \\u2013 \\u2013 13.26% 43.81% 0.058\\n\", \"Ri Bhoi 46.31% 49.83% 0.231 31.67% 47.93% 0.152\\n\", \"South Garo Hills 11.27% 42.05% 0.047 9.77% 41.69% 0.041\\n\", \"\\u2013 \\u2013 \\u2013\\n\", \"South West Garo Hills 18.27% 44.40% 0.081\\n\", \"South West Khasi Hills \\u2013 \\u2013 \\u2013 40.98% 44.62% 0.183\\n\", \"West Garo Hills 27.29% 46.74% 0.128 8.00% 42.28% 0.034\\n\", \"West Jaintia Hills \\u2013 \\u2013 \\u2013 52.08% 53.97% 0.281\\n\", \"West Khasi Hills 39.59% 46.67% 0.185 52.48% 48.07% 0.252\\n\", \"174\\n\", \"THIS IS THE END OF ONE PAGE\\n\"], \"Mizoram\": [\"Aizawl 1.76% 39.01% 0.007 0.87% 42.85% 0.004\\n\", \"Champhai 10.09% 39.83% 0.040 1.51% 42.04% 0.006\\n\", \"Kolasib 8.44% 48.69% 0.041 5.25% 46.34% 0.024\\n\", \"Lawngtlai 30.45% 52.72% 0.161 21.63% 48.46% 0.105\\n\", \"Lunglei 10.16% 43.92% 0.045 5.15% 42.98% 0.022\\n\", \"Mamit 25.29% 50.58% 0.128 9.29% 44.55% 0.041\\n\", \"Saiha 12.69% 42.21% 0.054 6.90% 41.45% 0.029\\n\", \"Serchhip 3.45% 40.24% 0.014 3.30% 38.74% 0.013\\n\", \"182\\n\", \"THIS IS THE END OF ONE PAGE\\n\"], \"Nagaland\": [\"Dimapur 17.33% 49.50% 0.086 7.23% 43.98% 0.032\\n\", \"Kiphire 37.33% 44.32% 0.165 28.19% 44.97% 0.127\\n\", \"Kohima 11.03% 41.15% 0.045 6.50% 38.21% 0.025\\n\", \"Longleng 33.88% 44.65% 0.151 26.90% 43.91% 0.118\\n\", \"Mokokchung 7.92% 39.89% 0.032 7.22% 39.45% 0.028\\n\", \"Mon 45.56% 49.23% 0.224 22.95% 42.77% 0.098\\n\", \"Peren 24.58% 46.61% 0.115 17.46% 44.55% 0.078\\n\", \"Phek 27.25% 42.52% 0.116 17.28% 41.55% 0.072\\n\", \"Tuensang 38.33% 46.62% 0.179 29.21% 43.26% 0.126\\n\", \"Wokha 15.35% 42.39% 0.065 11.99% 39.13% 0.047\\n\", \"Zunheboto 23.61% 42.81% 0.101 20.31% 42.21% 0.086\\n\", \"190\\n\", \"THIS IS THE END OF ONE PAGE\\n\"], \"Odisha\": [\"Anugul 24.57% 43.44% 0.107 13.87% 43.94% 0.061\\n\", \"Balangir 27.49% 45.11% 0.124 9.52% 42.01% 0.040\\n\", \"Baleshwar 24.43% 44.85% 0.110 14.21% 43.04% 0.061\\n\", \"Bargarh 24.77% 42.96% 0.106 11.51% 39.29% 0.045\\n\", \"Baudh (Boudh) 33.03% 43.89% 0.145 16.27% 41.88% 0.068\\n\", \"Bhadrak 28.32% 43.39% 0.123 16.60% 39.80% 0.066\\n\", \"Cuttack 14.97% 43.12% 0.065 6.31% 39.26% 0.025\\n\", \"Deogarh 37.10% 47.60% 0.177 16.56% 42.41% 0.070\\n\", \"Dhenkanal 29.98% 44.52% 0.133 15.98% 42.82% 0.068\\n\", \"Gajapati 38.76% 47.24% 0.183 28.14% 45.60% 0.128\\n\", \"Ganjam 21.88% 44.92% 0.098 6.31% 45.35% 0.029\\n\", \"Jagatsinghapur 11.83% 41.38% 0.049 3.53% 41.60% 0.015\\n\", \"Jajapur 20.75% 44.12% 0.092 14.10% 42.79% 0.060\\n\", \"Jharsuguda 18.41% 42.67% 0.079 7.09% 39.00% 0.028\\n\", \"Kalahandi 47.28% 47.86% 0.226 19.47% 42.44% 0.083\\n\", \"Kandhamal 44.75% 46.99% 0.210 25.30% 44.54% 0.113\\n\", \"Kendrapara 21.82% 42.20% 0.092 8.90% 40.78% 0.036\\n\", \"Kendujhar 41.69% 50.25% 0.209 26.76% 48.01% 0.128\\n\", \"Khordha 15.50% 44.75% 0.069 3.95% 42.55% 0.017\\n\", \"Koraput 51.14% 51.77% 0.265 33.54% 46.90% 0.157\\n\", \"Malkangiri 58.66% 52.64% 0.309 45.01% 49.50% 0.223\\n\", \"Mayurbhanj 45.06% 46.90% 0.211 30.57% 45.73% 0.140\\n\", \"Nabarangpur 59.32% 50.87% 0.302 33.45% 46.92% 0.157\\n\", \"Nayagarh 20.49% 44.42% 0.091 6.63% 42.60% 0.028\\n\", \"Nuapada 37.80% 45.67% 0.173 20.19% 43.17% 0.087\\n\", \"Puri 11.64% 39.56% 0.046 3.29% 40.47% 0.013\\n\", \"Rayagada 48.14% 50.78% 0.244 34.03% 48.42% 0.165\\n\", \"Sambalpur 24.37% 43.10% 0.105 10.05% 40.90% 0.041\\n\", \"Sonepur 28.05% 41.47% 0.116 8.68% 40.36% 0.035\\n\", \"Sundargarh 24.76% 45.29% 0.112 14.77% 42.13% 0.062\\n\", \"198\\n\", \"THIS IS THE END OF ONE PAGE\\n\"], \"Punjab\": [\"Amritsar 7.42% 44.92% 0.033 3.37% 40.75% 0.014\\n\", \"Barnala 5.81% 43.39% 0.025 5.49% 42.66% 0.023\\n\", \"Bathinda 5.62% 43.77% 0.025 8.03% 40.59% 0.033\\n\", \"Faridkot 2.96% 42.66% 0.013 6.04% 41.93% 0.025\\n\", \"Fatehgarh Sahib 3.49% 43.61% 0.015 3.10% 38.90% 0.012\\n\", \"Fazilka \\u2013 \\u2013 \\u2013 8.45% 42.80% 0.036\\n\", \"Ferozepur 9.42% 43.22% 0.041 8.42% 43.38% 0.037\\n\", \"Gurdaspur 5.11% 43.68% 0.022 5.08% 43.35% 0.022\\n\", \"Hoshiarpur 4.49% 44.97% 0.020 1.50% 40.33% 0.006\\n\", \"Jalandhar 3.26% 39.15% 0.013 3.58% 42.47% 0.015\\n\", \"Kapurthala 5.08% 47.86% 0.024 5.02% 41.90% 0.021\\n\", \"Ludhiana 3.83% 45.35% 0.017 4.59% 37.78% 0.017\\n\", \"Mansa 9.99% 41.91% 0.042 7.80% 44.44% 0.035\\n\", \"Moga 8.01% 42.41% 0.034 5.65% 39.43% 0.022\\n\", \"Muktsar\\n\", \"7.71% 44.55% 0.034 7.57% 42.61% 0.032\\n\", \"(Sri Muktsar Sahib)\\n\", \"Pathankot \\u2013 \\u2013 \\u2013 2.35% 37.21% 0.009\\n\", \"Patiala 3.75% 41.82% 0.016 2.95% 40.18% 0.012\\n\", \"Rupnagar 2.01% 42.76% 0.009 2.88% 42.49% 0.012\\n\", \"Sahibzada Ajit Singh\\n\", \"5.05% 48.42% 0.024 3.35% 40.83% 0.014\\n\", \"Nagar (S.A.S Nagar)\\n\", \"Sangrur 7.12% 43.20% 0.031 3.53% 38.61% 0.014\\n\", \"Shahid Bhagat Singh 3.56% 39.56% 0.014 1.31% 39.41% 0.005\\n\", \"Nagar\\n\", \"Tarn Taran 8.32% 45.30% 0.038 7.83% 41.44% 0.032\\n\", \"206\\n\", \"THIS IS THE END OF ONE PAGE\\n\"], \"Rajasthan\": [\"Ajmer 17.90% 44.71% 0.080 9.87% 41.28% 0.041\\n\", \"Alwar 29.96% 45.16% 0.135 20.93% 42.76% 0.089\\n\", \"Banswara 50.97% 49.93% 0.254 27.45% 45.00% 0.124\\n\", \"Baran 32.40% 44.50% 0.144 16.29% 43.80% 0.071\\n\", \"Barmer 53.54% 52.52% 0.281 20.64% 42.07% 0.087\\n\", \"Bharatpur 40.00% 47.73% 0.191 23.88% 43.87% 0.105\\n\", \"Bhilwara 27.23% 46.39% 0.126 14.93% 42.91% 0.064\\n\", \"Bikaner 22.21% 47.25% 0.105 17.70% 44.05% 0.078\\n\", \"Bundi 33.07% 46.21% 0.153 18.88% 43.72% 0.083\\n\", \"Chittorgarh 27.72% 47.31% 0.131 13.11% 42.18% 0.055\\n\", \"Churu 22.79% 44.03% 0.100 17.32% 41.49% 0.072\\n\", \"Dausa 27.29% 42.89% 0.117 14.32% 40.21% 0.058\\n\", \"Dholpur 39.82% 46.03% 0.183 26.65% 43.02% 0.115\\n\", \"Dungarpur 44.69% 49.31% 0.220 17.44% 42.74% 0.075\\n\", \"Ganganagar 18.23% 42.13% 0.077 9.43% 41.39% 0.039\\n\", \"Hanumangarh 19.08% 45.46% 0.087 10.08% 40.13% 0.040\\n\", \"Jaipur 15.07% 41.96% 0.063 7.40% 38.19% 0.028\\n\", \"Jaisalmer 50.07% 52.72% 0.264 22.36% 46.84% 0.105\\n\", \"Jalore 40.41% 49.61% 0.200 17.02% 41.91% 0.071\\n\", \"Jhalawar 32.74% 47.04% 0.154 16.07% 42.26% 0.068\\n\", \"Jhunjhunu 12.76% 43.50% 0.055 9.32% 37.85% 0.035\\n\", \"Jodhpur 26.77% 47.77% 0.128 17.02% 45.07% 0.077\\n\", \"Karauli 39.90% 45.89% 0.183 26.25% 43.18% 0.113\\n\", \"Kota 13.30% 45.23% 0.060 5.59% 41.61% 0.023\\n\", \"Nagaur 20.79% 46.46% 0.097 13.08% 41.04% 0.054\\n\", \"Pali 23.62% 46.04% 0.109 9.41% 42.24% 0.040\\n\", \"Pratapgarh 52.33% 50.28% 0.263 29.68% 45.09% 0.134\\n\", \"Rajsamand 29.42% 45.91% 0.135 12.96% 42.17% 0.055\\n\", \"Sawai Madhopur 33.25% 45.53% 0.151 18.66% 42.69% 0.080\\n\", \"Sikar 14.27% 43.30% 0.062 9.09% 41.70% 0.038\\n\", \"Sirohi 41.71% 50.59% 0.211 19.62% 47.36% 0.093\\n\", \"Tonk 25.23% 42.82% 0.108 14.72% 40.27% 0.059\\n\", \"Udaipur 47.53% 52.51% 0.250 14.45% 43.63% 0.063\\n\", \"214\\n\", \"THIS IS THE END OF ONE PAGE\\n\"], \"Sikkim\": [\"Gangtok 3.90% 40.96% 0.016 2.12% 39.46% 0.008\\n\", \"Gyalshing 4.66% 42.39% 0.020 2.77% 40.83% 0.011\\n\", \"Mangan 4.47% 41.57% 0.019 5.17% 41.38% 0.021\\n\", \"Namchi 2.74% 39.94% 0.011 2.90% 43.27% 0.013\\n\", \"221\\n\", \"THIS IS THE END OF ONE PAGE\\n\"], \"Tamil Nadu\": [\"Ariyalur 8.71% 38.73% 0.034 3.53% 38.90% 0.014\\n\", \"Chennai 0.93% 41.86% 0.004 1.03% 36.62% 0.004\\n\", \"Coimbatore 2.29% 40.14% 0.009 0.96% 37.14% 0.004\\n\", \"Cuddalore 6.28% 39.61% 0.025 3.75% 38.26% 0.014\\n\", \"Dharmapuri 5.26% 39.68% 0.021 2.10% 39.50% 0.008\\n\", \"Dindigul 4.16% 38.87% 0.016 4.52% 40.47% 0.018\\n\", \"Erode 2.73% 42.54% 0.012 1.40% 36.21% 0.005\\n\", \"Kanchipuram 2.97% 38.76% 0.011 1.23% 38.86% 0.005\\n\", \"Kanniyakumari 1.52% 35.81% 0.005 0.67% 36.53% 0.002\\n\", \"Karur 4.40% 39.86% 0.018 3.11% 37.61% 0.012\\n\", \"Krishnagiri 4.90% 41.13% 0.020 2.19% 40.66% 0.009\\n\", \"Madurai 5.82% 39.20% 0.023 1.88% 38.23% 0.007\\n\", \"Nagapattinam 8.18% 40.30% 0.033 3.31% 40.19% 0.013\\n\", \"Namakkal 2.59% 41.35% 0.011 1.39% 36.02% 0.005\\n\", \"Perambalur 7.61% 39.81% 0.030 1.78% 39.15% 0.007\\n\", \"Pudukkottai 11.14% 39.10% 0.044 4.63% 38.30% 0.018\\n\", \"Ramanathapuram 6.53% 41.46% 0.027 2.47% 37.37% 0.009\\n\", \"Salem 6.56% 44.73% 0.029 1.94% 38.60% 0.007\\n\", \"Sivaganga 8.64% 38.43% 0.033 3.96% 37.97% 0.015\\n\", \"Thanjavur 7.23% 38.16% 0.028 2.45% 40.21% 0.010\\n\", \"The Nilgiris 2.03% 39.01% 0.008 1.33% 37.22% 0.005\\n\", \"Theni 4.76% 39.91% 0.019 1.91% 36.39% 0.007\\n\", \"Thiruvallur 2.53% 38.74% 0.010 1.18% 38.64% 0.005\\n\", \"Thiruvarur 6.79% 40.41% 0.027 2.76% 38.27% 0.011\\n\", \"Thoothukkudi (Tuticorin) 7.90% 40.50% 0.032 2.69% 40.01% 0.011\\n\", \"Tiruchirappalli 3.73% 38.06% 0.014 2.92% 37.87% 0.011\\n\", \"Tirunelveli 5.52% 40.35% 0.022 1.96% 38.40% 0.008\\n\", \"Tiruppur 3.11% 38.99% 0.012 1.94% 37.22% 0.007\\n\", \"Tiruvannamalai 5.92% 40.35% 0.024 2.37% 41.54% 0.010\\n\", \"Vellore 3.16% 37.63% 0.012 1.09% 35.99% 0.004\\n\", \"Villupuram 9.29% 40.52% 0.038 3.62% 41.41% 0.015\\n\", \"Virudhunagar 7.99% 39.26% 0.031 3.02% 36.62% 0.011\\n\", \"228\\n\", \"THIS IS THE END OF ONE PAGE\\n\"], \"Telangana\": [\"Adilabad 27.12% 46.01% 0.125 14.24% 44.82% 0.064\\n\", \"Bhadradri Kothagudem \\u2013 \\u2013 \\u2013 4.33% 39.79% 0.017\\n\", \"Hyderabad 4.21% 40.98% 0.017 2.52% 36.17% 0.009\\n\", \"Jagitial \\u2013 \\u2013 \\u2013 4.77% 44.58% 0.021\\n\", \"Jangoan \\u2013 \\u2013 \\u2013 2.91% 37.82% 0.011\\n\", \"Jayashankar Bhupalapally \\u2013 \\u2013 \\u2013 6.33% 42.01% 0.027\\n\", \"Jogulamba Gadwal \\u2013 \\u2013 \\u2013 15.37% 41.24% 0.063\\n\", \"Kamareddy \\u2013 \\u2013 \\u2013 11.90% 41.48% 0.049\\n\", \"Karimnagar 8.65% 41.20% 0.036 2.50% 39.98% 0.010\\n\", \"Khammam 13.75% 42.23% 0.058 3.18% 43.80% 0.014\\n\", \"Kumuram Bheem Asifabad \\u2013 \\u2013 \\u2013 16.59% 42.97% 0.071\\n\", \"Mahabubabad \\u2013 \\u2013 \\u2013 6.45% 38.39% 0.025\\n\", \"Mahabubnagar 24.72% 43.83% 0.108 10.27% 40.35% 0.041\\n\", \"Mancherial \\u2013 \\u2013 \\u2013 4.43% 40.12% 0.018\\n\", \"Medak 17.87% 42.46% 0.076 9.34% 39.49% 0.037\\n\", \"Medchal-Malkajgiri \\u2013 \\u2013 \\u2013 3.06% 38.56% 0.012\\n\", \"Nagarkurnool \\u2013 \\u2013 \\u2013 5.95% 41.11% 0.024\\n\", \"Nalgonda 13.35% 44.31% 0.059 4.40% 39.48% 0.017\\n\", \"Nirmal \\u2013 \\u2013 \\u2013 7.14% 41.69% 0.030\\n\", \"Nizamabad 21.06% 44.51% 0.094 6.76% 40.96% 0.028\\n\", \"Peddapalli \\u2013 \\u2013 \\u2013 2.17% 37.36% 0.008\\n\", \"Rajanna Sircilla \\u2013 \\u2013 \\u2013 3.68% 39.57% 0.015\\n\", \"Ranga Reddy 5.31% 41.94% 0.022 3.83% 41.66% 0.016\\n\", \"Sangareddy \\u2013 \\u2013 \\u2013 7.09% 42.48% 0.030\\n\", \"Siddipet \\u2013 \\u2013 \\u2013 3.39% 38.29% 0.013\\n\", \"Suryapet \\u2013 \\u2013 \\u2013 3.89% 39.35% 0.015\\n\", \"Vikarabad \\u2013 \\u2013 \\u2013 12.50% 39.75% 0.050\\n\", \"Wanaparthy \\u2013 \\u2013 \\u2013 8.86% 43.06% 0.038\\n\", \"Warangal 12.12% 40.49% 0.049 \\u2013 \\u2013 \\u2013\\n\", \"Warangal Rural \\u2013 \\u2013 \\u2013 6.45% 38.95% 0.025\\n\", \"Warangal Urban \\u2013 \\u2013 \\u2013 2.41% 39.40% 0.010\\n\", \"Yadadri Bhuvanagiri \\u2013 \\u2013 \\u2013 4.24% 37.19% 0.016\\n\", \"235\\n\", \"THIS IS THE END OF ONE PAGE\\n\"], \"Tripura\": [\"Dhalai 26.23% 47.29% 0.124 21.89% 44.04% 0.096\\n\", \"Gomati \\u2013 \\u2013 \\u2013 9.06% 41.18% 0.037\\n\", \"Khowai \\u2013 \\u2013 \\u2013 17.27% 42.12% 0.073\\n\", \"North Tripura 30.65% 47.49% 0.146 17.85% 43.64% 0.078\\n\", \"Sepahijala \\u2013 \\u2013 \\u2013 12.27% 39.81% 0.049\\n\", \"South Tripura 17.03% 42.02% 0.072 11.89% 45.43% 0.054\\n\", \"Unakoti \\u2013 \\u2013 \\u2013 24.92% 43.77% 0.109\\n\", \"West Tripura 8.97% 43.26% 0.039 6.00% 40.09% 0.024\\n\", \"241\\n\", \"tcirtsiD\\n\", \"THIS IS THE END OF ONE PAGE\\n\"], \"Uttar Pradesh\": [\"Agra 32.83% 46.83% 0.154 18.20% 44.16% 0.080\\n\", \"Aligarh 37.26% 46.55% 0.173 22.00% 43.25% 0.095\\n\", \"Allahabad (Prayagraj) 32.77% 46.56% 0.153 21.21% 44.48% 0.094\\n\", \"Ambedkar Nagar 34.03% 43.55% 0.148 21.00% 40.42% 0.085\\n\", \"Amethi \\u2013 \\u2013 \\u2013 28.96% 45.06% 0.131\\n\", \"Auraiya 29.82% 44.92% 0.134 19.28% 43.61% 0.084\\n\", \"Azamgarh 32.77% 43.44% 0.142 17.14% 41.68% 0.071\\n\", \"Baghpat 21.08% 47.03% 0.099 13.64% 43.96% 0.060\\n\", \"Bahraich 71.85% 54.38% 0.391 54.44% 52.42% 0.285\\n\", \"Ballia 37.11% 45.09% 0.167 19.97% 43.35% 0.087\\n\", \"Balrampur 69.45% 53.77% 0.373 41.55% 50.26% 0.209\\n\", \"Banda 40.18% 46.08% 0.185 33.80% 45.59% 0.154\\n\", \"Barabanki 44.77% 49.41% 0.221 31.68% 45.88% 0.145\\n\", \"Bareilly 38.58% 49.26% 0.190 23.39% 45.35% 0.106\\n\", \"Basti 43.26% 46.04% 0.199 19.89% 43.59% 0.087\\n\", \"Bijnor 29.76% 45.11% 0.134 16.42% 42.57% 0.070\\n\", \"Budaun 57.10% 52.22% 0.298 40.37% 46.58% 0.188\\n\", \"Bulandshahr 32.88% 46.59% 0.153 17.44% 42.22% 0.074\\n\", \"Chandauli 37.91% 44.44% 0.168 25.41% 44.50% 0.113\\n\", \"Chitrakoot 52.81% 48.17% 0.254 31.41% 44.98% 0.141\\n\", \"Deoria 31.36% 45.43% 0.142 16.09% 42.41% 0.068\\n\", \"Etah 38.47% 45.61% 0.175 25.63% 43.03% 0.110\\n\", \"Etawah 27.29% 42.47% 0.116 15.99% 40.12% 0.064\\n\", \"Faizabad (Ayodhya) 38.73% 45.84% 0.178 17.79% 43.91% 0.078\\n\", \"Farrukhabad 39.18% 48.04% 0.188 25.44% 43.86% 0.112\\n\", \"Fatehpur 42.63% 47.30% 0.202 27.38% 44.76% 0.123\\n\", \"Firozabad 32.03% 46.66% 0.149 19.06% 42.08% 0.080\\n\", \"Gautam Buddha Nagar 15.17% 43.96% 0.067 12.16% 39.82% 0.048\\n\", \"Ghaziabad 16.59% 45.47% 0.075 6.93% 43.25% 0.030\\n\", \"Ghazipur 41.04% 44.95% 0.184 18.22% 40.17% 0.073\\n\", \"Gonda 59.26% 50.81% 0.301 29.71% 45.54% 0.135\\n\", \"Gorakhpur 26.17% 46.08% 0.121 15.83% 43.63% 0.069\\n\", \"Hamirpur 30.92% 44.09% 0.136 17.29% 41.32% 0.071\\n\", \"Hapur \\u2013 \\u2013 \\u2013 12.60% 42.44% 0.053\\n\", \"Hardoi 51.16% 48.14% 0.246 34.14% 45.50% 0.155\\n\", \"Jalaun 27.64% 43.79% 0.121 18.12% 42.41% 0.077\\n\", \"Jaunpur 40.78% 44.01% 0.179 16.13% 39.91% 0.064\\n\", \"Jhansi 20.17% 44.32% 0.089 15.14% 41.62% 0.063\\n\", \"Jyotiba Phule Nagar (Amroha) 34.84% 48.24% 0.168 21.11% 45.47% 0.096\\n\", \"Kannauj 43.50% 47.26% 0.206 28.90% 42.84% 0.124\\n\", \"Kanpur Dehat 37.98% 43.87% 0.167 20.68% 43.86% 0.091\\n\", \"Kanpur Nagar 14.32% 43.98% 0.063 9.11% 43.33% 0.039\\n\", \"Kasganj 47.81% 49.55% 0.237 31.43% 45.14% 0.142\\n\", \"Kaushambi 56.06% 51.88% 0.291 30.31% 47.37% 0.144\\n\", \"Kheri 59.95% 51.32% 0.308 34.73% 45.90% 0.159\\n\", \"Kushi Nagar 42.82% 46.07% 0.197 20.54% 44.44% 0.091\\n\", \"Lalitpur 35.98% 44.31% 0.159 29.98% 43.77% 0.131\\n\", \"Lucknow 12.16% 44.57% 0.054 8.48% 41.88% 0.036\\n\", \"Mahamaya Nagar (Hathras) 32.35% 44.01% 0.142 22.39% 42.84% 0.096\\n\", \"Mahrajganj 49.12% 45.88% 0.225 19.47% 43.64% 0.085\\n\", \"Mahoba 35.29% 43.70% 0.154 23.81% 43.13% 0.103\\n\", \"Mainpuri 31.41% 44.16% 0.139 18.03% 42.43% 0.077\\n\", \"Mathura 33.78% 44.27% 0.150 22.42% 43.17% 0.097\\n\", \"Mau 32.63% 44.79% 0.146 13.36% 41.79% 0.056\\n\", \"Meerut 21.10% 45.59% 0.096 13.24% 44.88% 0.059\\n\", \"Mirzapur 42.73% 47.11% 0.201 22.00% 43.27% 0.095\\n\", \"Moradabad 36.85% 48.04% 0.177 17.80% 45.54% 0.081\\n\", \"Muzaffarnagar 29.85% 47.84% 0.143 12.91% 45.49% 0.059\\n\", \"Pilibhit 43.26% 47.95% 0.207 22.54% 43.51% 0.098\\n\", \"Pratapgarh 36.94% 45.00% 0.166 21.29% 43.34% 0.092\\n\", \"Rae Bareli 34.10% 46.87% 0.160 22.37% 43.53% 0.097\\n\", \"Rampur 38.89% 49.64% 0.193 23.03% 44.89% 0.103\\n\", \"Saharanpur 28.52% 48.89% 0.139 17.86% 43.90% 0.078\\n\", \"Sambhal \\u2013 \\u2013 \\u2013 35.06% 46.63% 0.164\\n\", \"Sant Kabeer Nagar 43.79% 46.77% 0.205 22.57% 44.81% 0.101\\n\", \"Sant Ravidas Nagar (Bhadohi) 42.19% 45.53% 0.192 22.04% 42.71% 0.094\\n\", \"Shahjahanpur 50.52% 48.90% 0.247 32.57% 44.84% 0.146\\n\", \"Shamli \\u2013 \\u2013 \\u2013 22.45% 45.51% 0.102\\n\", \"Shravasti 74.35% 55.35% 0.412 49.62% 50.18% 0.249\\n\", \"Siddharth Nagar 57.24% 50.01% 0.286 37.67% 47.64% 0.179\\n\", \"Sitapur 56.71% 49.63% 0.281 40.15% 47.10% 0.189\\n\", \"Sonbhadra 48.35% 50.19% 0.243 30.55% 46.17% 0.141\\n\", \"Sultanpur 36.23% 47.22% 0.171 22.32% 41.80% 0.093\\n\", \"Unnao 40.79% 47.16% 0.192 22.96% 46.56% 0.107\\n\", \"Varanasi 26.00% 44.69% 0.116 15.26% 43.00% 0.066\\n\", \"249\\n\", \"THIS IS THE END OF ONE PAGE\\n\"], \"Uttarakhand\": [\"Almora 25.65% 40.33% 0.103 9.47% 37.49% 0.036\\n\", \"Bageshwar 19.99% 41.08% 0.082 7.50% 38.47% 0.029\\n\", \"Chamoli 16.78% 41.32% 0.069 6.81% 36.49% 0.025\\n\", \"Champawat 22.41% 44.75% 0.100 9.59% 39.00% 0.037\\n\", \"Dehradun 6.88% 45.33% 0.031 3.02% 40.32% 0.012\\n\", \"Garhwal (Pauri Garhwal) 11.93% 40.17% 0.048 8.91% 38.49% 0.034\\n\", \"Haridwar 24.70% 47.25% 0.117 16.29% 42.81% 0.070\\n\", \"Nainital 13.39% 43.65% 0.058 10.09% 46.24% 0.047\\n\", \"Pithoragarh 13.96% 41.06% 0.057 6.48% 38.76% 0.025\\n\", \"Rudraprayag 13.91% 40.28% 0.056 5.14% 40.03% 0.021\\n\", \"Tehri Garhwal 19.53% 40.64% 0.079 7.94% 38.91% 0.031\\n\", \"Udham Singh Nagar 22.98% 45.63% 0.105 11.26% 43.72% 0.049\\n\", \"Uttarkashi 24.28% 44.51% 0.108 9.54% 40.24% 0.038\\n\", \"256\\n\", \"THIS IS THE END OF ONE PAGE\\n\"], \"West Bengal\": [\"Bankura 26.99% 44.74% 0.121 18.49% 42.07% 0.078\\n\", \"Barddhaman 20.33% 47.06% 0.096 \\u2013 \\u2013 \\u2013\\n\", \"Birbhum 27.35% 45.69% 0.125 18.27% 44.67% 0.082\\n\", \"Dakshin Dinajpur\\n\", \"22.48% 44.18% 0.099 13.37% 42.70% 0.057\\n\", \"(Dinajpur Dakshin)\\n\", \"Darjeeling 11.32% 44.84% 0.051 5.45% 42.95% 0.023\\n\", \"Howrah 12.84% 45.02% 0.058 6.06% 40.99% 0.025\\n\", \"Hugli (Hooghly) 14.93% 44.15% 0.066 7.36% 41.04% 0.030\\n\", \"Jalpaiguri 21.83% 45.53% 0.099 8.85% 41.34% 0.037\\n\", \"Koch Bihar (Coochbehar) 21.90% 45.28% 0.099 10.31% 41.17% 0.042\\n\", \"Kolkata 2.72% 45.77% 0.012 2.56% 40.79% 0.010\\n\", \"Maldah 34.48% 45.74% 0.158 15.57% 42.91% 0.067\\n\", \"Murshidabad 27.23% 45.94% 0.125 16.55% 43.18% 0.071\\n\", \"Nadia 11.07% 42.79% 0.047 8.20% 40.00% 0.033\\n\", \"North 24 Parganas 9.80% 41.37% 0.041 4.37% 40.11% 0.018\\n\", \"Paschim Bardhaman \\u2013 \\u2013 \\u2013 11.20% 42.89% 0.048\\n\", \"Paschim Medinipur\\n\", \"23.82% 43.50% 0.104 18.14% 42.31% 0.077\\n\", \"(Medinipur West)\\n\", \"Purba Bardhaman \\u2013 \\u2013 \\u2013 14.32% 41.18% 0.059\\n\", \"Purba Medinipur\\n\", \"14.19% 42.68% 0.061 12.48% 41.16% 0.051\\n\", \"(Medinipur East)\\n\", \"Puruliya 49.69% 47.44% 0.236 26.84% 43.74% 0.117\\n\", \"South 24 Parganas 28.10% 45.71% 0.128 10.96% 41.22% 0.045\\n\", \"Uttar Dinajpur\\n\", \"42.84% 49.79% 0.213 21.65% 45.61% 0.099\\n\", \"(Dinjapur Uttar)\\n\", \"264\\n\", \"THIS IS THE END OF ONE PAGE\\n\"], \"Andaman & Nicobar Islands\": [\"Nicobars 5.28% 36.80% 0.019 3.40% 39.42% 0.013\\n\", \"North & Middle\\n\", \"9.32% 41.82% 0.039 4.39% 42.51% 0.019\\n\", \"Andaman\\n\", \"South Andamans 2.20% 39.23% 0.009 1.15% 37.66% 0.004\\n\", \"270\\n\", \"tcirtsiD\\n\", \"tcirtsiD\\n\", \"THIS IS THE END OF ONE PAGE\\n\"], \"Chandigarh\": [\"Chandigarh 5.97% 43.39% 0.026 3.52% 47.41% 0.017\\n\", \"276\\n\", \"tcirtsiD\\n\", \"tcirtsiD\\n\", \"THIS IS THE END OF ONE PAGE\\n\"], \"Dadra & Nagar Haveli & Daman & Diu\": [\"Dadra & Nagar Haveli 26.40% 44.29% 0.117 10.79% 41.82% 0.045\\n\", \"Daman 7.15% 44.76% 0.032 6.57% 43.96% 0.029\\n\", \"Diu 4.34% 37.64% 0.016 1.62% 39.52% 0.006\\n\", \"282\\n\", \"tcirtsiD\\n\", \"THIS IS THE END OF ONE PAGE\\n\"], \"Delhi\": [\"Central 3.84% 43.30% 0.017 3.88% 42.30% 0.016\\n\", \"East 4.06% 41.99% 0.017 2.79% 43.64% 0.012\\n\", \"New Delhi 4.16% 42.99% 0.018 4.83% 39.61% 0.019\\n\", \"North 2.41% 41.65% 0.010 6.26% 41.64% 0.026\\n\", \"North East 7.35% 42.70% 0.031 3.69% 41.39% 0.015\\n\", \"North West 6.84% 46.38% 0.032 2.05% 40.50% 0.008\\n\", \"Shahdara \\u2013 \\u2013 \\u2013 1.52% 41.84% 0.006\\n\", \"South 4.69% 41.64% 0.020 1.29% 51.36% 0.007\\n\", \"South East \\u2013 \\u2013 \\u2013 2.69% 39.10% 0.011\\n\", \"South West 2.17% 45.16% 0.010 3.45% 43.71% 0.015\\n\", \"West 2.29% 44.66% 0.010 4.68% 42.43% 0.020\\n\", \"289\\n\", \"THIS IS THE END OF ONE PAGE\\n\"], \"Jammu & Kashmir\": [\"Anantnag 8.36% 46.54% 0.039 3.07% 45.72% 0.014\\n\", \"Badgam (Budgam) 6.84% 41.74% 0.029 5.20% 38.99% 0.020\\n\", \"Bandipora 11.07% 45.41% 0.050 5.36% 44.40% 0.024\\n\", \"Baramulla 7.06% 43.09% 0.030 6.68% 41.75% 0.028\\n\", \"Doda 28.71% 47.07% 0.135 7.71% 41.82% 0.032\\n\", \"Ganderbal 7.82% 43.18% 0.034 3.46% 42.76% 0.015\\n\", \"Jammu 6.97% 43.33% 0.030 0.49% 51.29% 0.003\\n\", \"Kathua 13.08% 43.46% 0.057 2.70% 41.48% 0.011\\n\", \"Kishtwar 24.29% 45.52% 0.111 10.59% 42.16% 0.045\\n\", \"Kulgam 7.43% 43.79% 0.033 3.97% 45.40% 0.018\\n\", \"Kupwara 16.08% 41.57% 0.067 4.97% 40.59% 0.020\\n\", \"Pulwama 3.79% 42.07% 0.016 2.09% 40.36% 0.008\\n\", \"Punch (Poonch) 24.27% 43.48% 0.106 6.65% 39.43% 0.026\\n\", \"Rajouri 27.41% 44.72% 0.123 8.07% 41.88% 0.034\\n\", \"Ramban 35.26% 46.29% 0.163 14.86% 42.90% 0.064\\n\", \"Reasi 21.92% 44.41% 0.097 11.40% 42.87% 0.049\\n\", \"Samba 9.67% 42.77% 0.041 2.30% 41.43% 0.010\\n\", \"Shopian 6.51% 43.32% 0.028 1.54% 37.06% 0.006\\n\", \"Srinagar 1.51% 39.64% 0.006 1.34% 37.23% 0.005\\n\", \"Udhampur 26.83% 43.59% 0.117 10.23% 43.10% 0.044\\n\", \"296\\n\", \"THIS IS THE END OF ONE PAGE\\n\"], \"Ladakh\": [\"Kargil 19.29% 40.78% 0.079 3.70% 41.68% 0.015\\n\", \"Leh Ladakh 5.37% 38.74% 0.021 3.35% 40.64% 0.014\\n\", \"302\\n\", \"tcirtsiD\\n\", \"tcirtsiD\\n\", \"THIS IS THE END OF ONE PAGE\\n\"], \"Puducherry\": [\"\", \"Karaikal 3.13% 35.97% 0.011 2.28% 37.62% 0.009\", \"Mahe 0.08% 35.71% 0.000 0.19% 33.33% 0.001\", \"Puducherry 1.30% 39.28% 0.005 0.30% 39.36% 0.001\", \"Yanam 5.06% 41.54% 0.021 3.95% 37.54% 0.015\", \"\"], \"Madhya Pradesh\": [\"Alirajpur             71.31% \", \"Anuppur               41.65% \", \"Ashoknagar            42.78% \", \"Balaghat              40.06% \", \"Barwani               61.60% \", \"Betul                 34.50% \", \"Bhind                 33.18% \", \"Bhopal                12.66% \", \"Burhanpur             36.94% \", \"Chhatarpur            48.78% \", \"Chhindwara            30.14% \", \"Damoh                 46.31% \", \"Datia                 34.24% \", \"Dewas                 29.67% \", \"Dhar                  40.28% \", \"Dindori               56.23% \", \"Guna                  45.67% \", \"Gwalior               22.38% \", \"Harda                 33.11% \", \"Hoshangabad           24.72% \", \"Indore                10.76% \", \"Jabalpur              19.50% \", \"Jhabua                68.86% \", \"Katni                 39.94% \", \"Khandwa (East Nimar)  42.53% \", \"Khargone (West Nimar) 35.80% \", \"Mandla                48.09% \", \"Mandsaur              33.00% \", \"Morena                32.36% \", \"Narsinghpur           30.55% \", \"Neemuch               31.87% \", \"Panna                 42.63% \", \"Raisen                34.52% \", \"Rajgarh               41.77% \", \"Ratlam                41.48% \", \"Rewa                  36.94% \", \"Sagar                 40.07% \", \"Satna                 34.12% \", \"Sehore                26.69% \", \"Seoni                 42.55% \", \"Shahdol               43.47% \", \"Shajapur              33.45% \", \"Sheopur               49.72% \", \"Shivpuri              46.09% \", \"Sidhi                 52.68% \", \"Singrauli             51.92% \", \"Tikamgarh             47.52% \", \"Ujjain                29.58% \", \"Umaria                45.45% \", \"Vidisha               47.19% \", \"\"]}\n"
     ]
    }
   ],
   "source": [
    "print(json.dumps(page_info))"
   ],
   "metadata": {
    "collapsed": false,
    "ExecuteTime": {
     "end_time": "2023-12-16T09:24:22.167506200Z",
     "start_time": "2023-12-16T09:24:22.142087800Z"
    }
   },
   "id": "510db994605d4662"
  },
  {
   "cell_type": "code",
   "execution_count": 2812,
   "outputs": [],
   "source": [
    "district_info = []\n",
    "for page in page_info.values():\n",
    "    for line in page:\n",
    "        words = line.split(' ')\n",
    "        name = [word for word in words if word.isalpha() or word.__contains__('(')]\n",
    "        numbers = [word for word in words if word.__contains__('%') or word.__contains__('-')]\n",
    "        district_name = \" \".join(name)\n",
    "        try:\n",
    "            district_info.append([district_name, numbers[0]])\n",
    "        except:\n",
    "            district_info.append([district_name, \"NA\"])\n",
    "        \n",
    "        "
   ],
   "metadata": {
    "collapsed": false,
    "ExecuteTime": {
     "end_time": "2023-12-16T09:24:22.175485200Z",
     "start_time": "2023-12-16T09:24:22.149759600Z"
    }
   },
   "id": "512186265618edcd"
  },
  {
   "cell_type": "code",
   "execution_count": 2813,
   "outputs": [
    {
     "data": {
      "text/plain": "[['Lakshadweep', '1.82%'],\n ['', 'NA'],\n ['', 'NA'],\n ['', 'NA'],\n ['THIS IS THE END OF ONE', 'NA'],\n ['Anantapur', '12.47%'],\n ['Chittoor', '9.64%'],\n ['East Godavari', '8.51%'],\n ['Guntur', '7.26%'],\n ['Krishna', '8.69%'],\n ['Kurnool', '19.64%'],\n ['Prakasam', '13.84%'],\n ['SPSR Nellore', '11.27%'],\n ['Srikakulam', '14.01%'],\n ['Visakhapatanam', '15.10%'],\n ['Vizianagaram', '19.00%'],\n ['West Godavari', '9.11%'],\n ['(Kadapa)', '9.14%'],\n ['', 'NA'],\n ['THIS IS THE END OF ONE', 'NA'],\n ['Anjaw', '22.86%'],\n ['Changlang', '26.47%'],\n ['Dibang Valley', '16.95%'],\n ['East Kameng', '44.03%'],\n ['East Siang', '8.84%'],\n ['', 'NA'],\n ['Kra Daadi', '18.91%'],\n ['Kurung Kumey', '39.55%'],\n ['Lohit', '31.97%'],\n ['Longding', '20.97%'],\n ['Lower Dibang Valley', '23.56%'],\n ['Lower Subansiri', '15.80%'],\n ['Namsai', '22.11%'],\n ['Papum Pare', '12.85%'],\n ['Siang', '9.15%'],\n ['Tawang', '31.25%'],\n ['Tirap', '28.30%'],\n ['Upper Siang', '15.88%'],\n ['Upper Subansiri', '29.78%'],\n ['West Kameng', '22.44%'],\n ['West Siang', '14.49%'],\n ['', 'NA'],\n ['THIS IS THE END OF ONE', 'NA'],\n ['Baksa', '23.59%'],\n ['Barpeta', '39.41%'],\n ['Biswanath', '22.09%'],\n ['Bongaigaon', '33.77%'],\n ['Cachar', '42.29%'],\n ['Charaideo', '20.10%'],\n ['Chirang', '36.20%'],\n ['Darrang', '38.22%'],\n ['Dhemaji', '27.71%'],\n ['Dhubri', '51.06%'],\n ['Dibrugarh', '28.97%'],\n ['Dima Hasao', '31.07%'],\n ['Goalpara', '40.15%'],\n ['Golaghat', '20.60%'],\n ['Hailakandi', '51.07%'],\n ['Hojai', '14.13%'],\n ['Jorhat', '20.24%'],\n ['Kamrup', '26.22%'],\n ['Kamrup Metro', '10.93%'],\n ['Karbi Anglong', '37.59%'],\n ['Karimganj', '46.02%'],\n ['Kokrajhar', '32.14%'],\n ['Lakhimpur', '24.23%'],\n ['Majuli', '14.41%'],\n ['Marigaon', '36.75%'],\n ['Nagaon', '30.51%'],\n ['Nalbari', '16.94%'],\n ['Sivasagar', '25.55%'],\n ['Sonitpur', '25.32%'],\n ['South Salmara Mancachar', '28.24%'],\n ['Tinsukia', '36.70%'],\n ['Udalguri', '29.46%'],\n ['West Karbi Anglong', '24.09%'],\n ['', 'NA'],\n ['THIS IS THE END OF ONE', 'NA'],\n ['', 'NA'],\n ['Araria', '64.65%'],\n ['Arwal', '52.18%'],\n ['Aurangabad', '43.94%'],\n ['Banka', '57.83%'],\n ['Begusarai', '50.68%'],\n ['Bhagalpur', '45.60%'],\n ['Bhojpur', '40.50%'],\n ['Buxar', '41.84%'],\n ['Darbhanga', '56.45%'],\n ['Gaya', '54.67%'],\n ['Gopalganj', '42.75%'],\n ['Jamul', '64.01%'],\n ['Jehanabad', '45.41%'],\n ['Kaimur (Bhabua)', '44.48%'],\n ['Katihar', '62.38%'],\n ['Khagaria', '58.23%'],\n ['Kishanganj', '64.75%'],\n ['Lakhisarai', '43.90%'],\n ['Madhepura', '64.43%'],\n ['Madhubani', '55.41%'],\n ['Munger', '40.73%'],\n ['Muzaffarpur', '48.00%'],\n ['Nalanda', '46.61%'],\n ['Nawada', '51.72%'],\n ['Pashchim Champaran', '57.50%'],\n ['Patna', '29.20%'],\n ['Purbi Champaran', '64.13%'],\n ['Purnia', '63.31%'],\n ['Rohtas', '40.74%'],\n ['Saharsa', '61.46%'],\n ['Samastipur', '55.87%'],\n ['Saran', '42.80%'],\n ['Sheikhpura', '52.70%'],\n ['Sheohar', '60.03%'],\n ['Sitamarhi', '63.46%'],\n ['Siwan', '40.55%'],\n ['Supaul', '63.90%'],\n ['Vaishali', '47.56%'],\n ['', 'NA'],\n ['', 'NA'],\n ['Balod', '5.77%'],\n ['Baloda Bazar', '15.61%'],\n ['Balrampur', '32.45%'],\n ['Bastar', '46.95%'],\n ['Bemetara', '17.26%'],\n ['Bijapur', '41.20%'],\n ['Bilaspur', '25.66%'],\n ['Dantewada', '54.35%'],\n ['Dhamtari', '18.59%'],\n ['Durg', '19.98%'],\n ['Gariyaband', '17.14%'],\n ['', 'Janjgir-Champa'],\n ['Jashpur', '45.85%'],\n ['Kabirdham', '39.56%'],\n ['Kondagaon', '26.79%'],\n ['Korba', '31.85%'],\n ['Korea', '38.24%'],\n ['Mahasamund', '29.85%'],\n ['Mungeli', '15.31%'],\n ['Narayanpur', '51.52%'],\n ['Raigarh', '30.82%'],\n ['Raipur', '21.82%'],\n ['Rajnandgaon', '23.14%'],\n ['Sukma', '42.34%'],\n ['Surajpur', '22.41%'],\n ['Surguja', '47.37%'],\n ['Uttar Bastar', 'NA'],\n ['', '27.03%'],\n ['(Kanker)\\n', 'NA'],\n ['', 'NA'],\n ['THIS IS THE END OF ONE', 'NA'],\n ['North Goa', '3.33%'],\n ['South Goa', '4.37%'],\n ['', 'NA'],\n ['', 'NA'],\n ['', 'NA'],\n ['THIS IS THE END OF ONE', 'NA'],\n ['Ahmedabad', '5.85%'],\n ['Amreli', '11.95%'],\n ['Anand', '14.81%'],\n ['Arvalli', '19.19%'],\n ['Banas Kantha', '31.24%'],\n ['Bharuch', '17.38%'],\n ['Bhavnagar', '17.90%'],\n ['Botad', '9.77%'],\n ['Chhotaudepur', '25.24%'],\n ['Dang', '57.33%'],\n ['Devbhumi Dwarka', '17.93%'],\n ['Dohad', '54.93%'],\n ['Gandhinagar', '16.57%'],\n ['Gir Somnath', '9.41%'],\n ['Jamnagar', '13.05%'],\n ['Junagadh', '10.08%'],\n ['Kachchh', '28.30%'],\n ['Kheda', '25.50%'],\n ['Mahesana', '10.43%'],\n ['Mahisagar', '16.72%'],\n ['Morbi', '8.60%'],\n ['Narmada', '37.11%'],\n ['Navsari', '9.75%'],\n ['Panch Mahals', '41.52%'],\n ['Patan', '21.10%'],\n ['Porbandar', '8.45%'],\n ['Rajkot', '8.57%'],\n ['Sabar Kantha', '24.85%'],\n ['Surat', '9.22%'],\n ['Surendranagar', '24.97%'],\n ['Tapi', '27.59%'],\n ['Vadodara', '21.24%'],\n ['Valsad', '19.95%'],\n ['', 'NA'],\n ['THIS IS THE END OF ONE', 'NA'],\n ['Ambala', '1.99%'],\n ['Bhiwani', '12.78%'],\n ['Charki Dadri', '2.85%'],\n ['Faridabad', '10.70%'],\n ['Fatehabad', '11.02%'],\n ['Gurugram', '10.39%'],\n ['Hisar', '9.71%'],\n ['Jhajjar', '5.82%'],\n ['Jind', '9.16%'],\n ['Kaithal', '7.83%'],\n ['Karnal', '6.40%'],\n ['Kurukshetra', '6.42%'],\n ['Mahendragarh', '6.29%'],\n ['Nuh (Mewat)', '62.50%'],\n ['Palwal', '26.98%'],\n ['Panchkula', '2.47%'],\n ['Panipat', '8.12%'],\n ['Rewari', '11.08%'],\n ['Rohtak', '13.72%'],\n ['Sirsa', '14.52%'],\n ['Sonipat', '6.35%'],\n ['Yamunanagar', '4.47%'],\n ['', 'NA'],\n ['THIS IS THE END OF ONE', 'NA'],\n ['Bilaspur', '7.54%'],\n ['Chamba', '11.27%'],\n ['Hamirpur', '4.43%'],\n ['Kangra', '5.88%'],\n ['Kinnaur', '5.10%'],\n ['Kullu', '8.97%'],\n ['Lahul and Spiti', '7.72%'],\n ['Mandi', '8.35%'],\n ['Shimla', '7.46%'],\n ['Sirmaur', '10.88%'],\n ['Solan', '9.10%'],\n ['Una', '5.00%'],\n ['', 'NA'],\n ['THIS IS THE END OF ONE', 'NA'],\n ['Bokaro', '29.33%'],\n ['Chatra', '60.74%'],\n ['Deoghar', '47.40%'],\n ['Dhanbad', '28.57%'],\n ['Dumka', '52.93%'],\n ['Garhwa', '53.21%'],\n ['Giridih', '47.53%'],\n ['Godda', '51.81%'],\n ['Gumla', '46.59%'],\n ['Hazaribagh', '35.75%'],\n ['Jamtara', '50.62%'],\n ['Khunti', '48.65%'],\n ['Koderma', '32.68%'],\n ['Latehar', '52.91%'],\n ['Lohardaga', '45.33%'],\n ['Pakur', '60.66%'],\n ['Palamu', '45.46%'],\n ['Pashchimi', 'NA'],\n ['', '57.60%'],\n ['(West', 'NA'],\n ['Purbi', 'NA'],\n ['', '23.99%'],\n ['(East', 'NA'],\n ['Ramgarh', '29.57%'],\n ['Ranchi', '27.60%'],\n ['Sahebganj', '55.72%'],\n ['', 'Saraikela-Kharsawan'],\n ['Simdega', '49.98%'],\n ['', 'NA'],\n ['THIS IS THE END OF ONE', 'NA'],\n ['Bagalkote', '19.94%'],\n ['', 'NA'],\n ['', '2.05%'],\n ['(Bengaluru', 'NA'],\n ['Bangalore', 'NA'],\n ['', '7.03%'],\n ['(Bengaluru Rural', 'NA'],\n ['Belagavi', '12.26%'],\n ['Bellary (Ballari)', '22.91%'],\n ['Bidar', '18.99%'],\n ['Bijapur (Vijayapura)', '21.90%'],\n ['Chamarajanagara', '18.45%'],\n ['Chikkaballapura', '13.41%'],\n ['Chikkamagaluru', '9.98%'],\n ['Chitradurga', '14.81%'],\n ['Dakshina Kannada', '6.69%'],\n ['Davangere', '11.46%'],\n ['Dharwad', '9.53%'],\n ['Gadag', '19.50%'],\n ['Gulbarga (Kalaburagi)', '21.10%'],\n ['Hassan', '6.33%'],\n ['Haveri', '15.28%'],\n ['Kodagu', '8.64%'],\n ['Kolar', '9.53%'],\n ['Koppal', '24.31%'],\n ['Mandya', '6.30%'],\n ['Mysuru', '7.79%'],\n ['Raichur', '31.65%'],\n ['Ramanagara', '8.73%'],\n ['Shivamogga', '12.64%'],\n ['Tumakuru', '12.71%'],\n ['Udupi', '10.32%'],\n ['Uttara Kannada', '13.21%'],\n ['Yadgir', '41.67%'],\n ['', 'NA'],\n ['THIS IS THE END OF ONE', 'NA'],\n ['Alappuzha', '0.71%'],\n ['Ernakulam', '0.10%'],\n ['Idukki', '1.65%'],\n ['Kannur', '0.44%'],\n ['Kasaragod', '0.94%'],\n ['Kollam', '0.72%'],\n ['Kottayam', '0.00%'],\n ['Kozhikode', '0.26%'],\n ['Malappuram', '1.11%'],\n ['Palakkad', '0.62%'],\n ['Pathanamthitta', '0.83%'],\n ['Thiruvananthapuram', '1.08%'],\n ['Thrissur', '0.33%'],\n ['Wayanad', '3.48%'],\n ['', 'NA'],\n ['THIS IS THE END OF ONE', 'NA'],\n ['Ahmednagar', '15.40%'],\n ['Akola', '13.38%'],\n ['Amravati', '12.24%'],\n ['Aurangabad', '14.22%'],\n ['Bhandara', '8.19%'],\n ['Bid (Beed)', '22.49%'],\n ['Buldhana', '18.22%'],\n ['Chandrapur', '17.65%'],\n ['Dhule', '33.23%'],\n ['Gadchiroli', '20.58%'],\n ['Gondia', '18.75%'],\n ['Hingoli', '28.05%'],\n ['Jalgaon', '18.60%'],\n ['Jalna', '28.65%'],\n ['Kolhapur', '10.17%'],\n ['Latur', '17.79%'],\n ['Mumbai', '3.59%'],\n ['Mumbai Suburban', '4.65%'],\n ['Nagpur', '6.72%'],\n ['Nanded', '27.37%'],\n ['', 'NA'],\n ['', '52.12%'],\n ['Nashik', '18.31%'],\n ['Osmanabad', '17.75%'],\n ['Palghar', '13.30%'],\n ['Parbhani', '23.28%'],\n ['Pune', '5.29%'],\n ['Raigad', '10.04%'],\n ['Ratnagiri', '18.47%'],\n ['Sangli', '10.18%'],\n ['Satara', '11.02%'],\n ['Sindhudurg', '15.39%'],\n ['Solapur', '12.60%'],\n ['Thane', '15.24%'],\n ['Wardha', '8.82%'],\n ['Washim', '22.53%'],\n ['Yavatmal', '23.54%'],\n ['', 'NA'],\n ['THIS IS THE END OF ONE', 'NA'],\n ['Bishnupur', '13.72%'],\n ['Chandel', '26.89%'],\n ['Churachandpur', '20.86%'],\n ['Imphal East', '12.87%'],\n ['Imphal West', '7.27%'],\n ['Senapati', '33.58%'],\n ['Tamenglong', '37.38%'],\n ['Thoubal', '16.74%'],\n ['Ukhrul', '28.52%'],\n ['', 'NA'],\n ['THIS IS THE END OF ONE', 'NA'],\n ['East Garo Hills', '41.78%'],\n ['East Jaintia Hills', '46.07%'],\n ['East Khasi Hills', '23.39%'],\n ['North Garo Hills', '13.26%'],\n ['Ri Bhoi', '46.31%'],\n ['South Garo Hills', '11.27%'],\n ['', 'NA'],\n ['South West Garo Hills', '18.27%'],\n ['South West Khasi Hills', '40.98%'],\n ['West Garo Hills', '27.29%'],\n ['West Jaintia Hills', '52.08%'],\n ['West Khasi Hills', '39.59%'],\n ['', 'NA'],\n ['THIS IS THE END OF ONE', 'NA'],\n ['Aizawl', '1.76%'],\n ['Champhai', '10.09%'],\n ['Kolasib', '8.44%'],\n ['Lawngtlai', '30.45%'],\n ['Lunglei', '10.16%'],\n ['Mamit', '25.29%'],\n ['Saiha', '12.69%'],\n ['Serchhip', '3.45%'],\n ['', 'NA'],\n ['THIS IS THE END OF ONE', 'NA'],\n ['Dimapur', '17.33%'],\n ['Kiphire', '37.33%'],\n ['Kohima', '11.03%'],\n ['Longleng', '33.88%'],\n ['Mokokchung', '7.92%'],\n ['Mon', '45.56%'],\n ['Peren', '24.58%'],\n ['Phek', '27.25%'],\n ['Tuensang', '38.33%'],\n ['Wokha', '15.35%'],\n ['Zunheboto', '23.61%'],\n ['', 'NA'],\n ['THIS IS THE END OF ONE', 'NA'],\n ['Anugul', '24.57%'],\n ['Balangir', '27.49%'],\n ['Baleshwar', '24.43%'],\n ['Bargarh', '24.77%'],\n ['Baudh (Boudh)', '33.03%'],\n ['Bhadrak', '28.32%'],\n ['Cuttack', '14.97%'],\n ['Deogarh', '37.10%'],\n ['Dhenkanal', '29.98%'],\n ['Gajapati', '38.76%'],\n ['Ganjam', '21.88%'],\n ['Jagatsinghapur', '11.83%'],\n ['Jajapur', '20.75%'],\n ['Jharsuguda', '18.41%'],\n ['Kalahandi', '47.28%'],\n ['Kandhamal', '44.75%'],\n ['Kendrapara', '21.82%'],\n ['Kendujhar', '41.69%'],\n ['Khordha', '15.50%'],\n ['Koraput', '51.14%'],\n ['Malkangiri', '58.66%'],\n ['Mayurbhanj', '45.06%'],\n ['Nabarangpur', '59.32%'],\n ['Nayagarh', '20.49%'],\n ['Nuapada', '37.80%'],\n ['Puri', '11.64%'],\n ['Rayagada', '48.14%'],\n ['Sambalpur', '24.37%'],\n ['Sonepur', '28.05%'],\n ['Sundargarh', '24.76%'],\n ['', 'NA'],\n ['THIS IS THE END OF ONE', 'NA'],\n ['Amritsar', '7.42%'],\n ['Barnala', '5.81%'],\n ['Bathinda', '5.62%'],\n ['Faridkot', '2.96%'],\n ['Fatehgarh Sahib', '3.49%'],\n ['Fazilka', '8.45%'],\n ['Ferozepur', '9.42%'],\n ['Gurdaspur', '5.11%'],\n ['Hoshiarpur', '4.49%'],\n ['Jalandhar', '3.26%'],\n ['Kapurthala', '5.08%'],\n ['Ludhiana', '3.83%'],\n ['Mansa', '9.99%'],\n ['Moga', '8.01%'],\n ['', 'NA'],\n ['', '7.71%'],\n ['(Sri Muktsar', 'NA'],\n ['Pathankot', '2.35%'],\n ['Patiala', '3.75%'],\n ['Rupnagar', '2.01%'],\n ['Sahibzada Ajit', 'NA'],\n ['', '5.05%'],\n ['Nagar (S.A.S', 'NA'],\n ['Sangrur', '7.12%'],\n ['Shahid Bhagat Singh', '3.56%'],\n ['', 'NA'],\n ['Tarn Taran', '8.32%'],\n ['', 'NA'],\n ['THIS IS THE END OF ONE', 'NA'],\n ['Ajmer', '17.90%'],\n ['Alwar', '29.96%'],\n ['Banswara', '50.97%'],\n ['Baran', '32.40%'],\n ['Barmer', '53.54%'],\n ['Bharatpur', '40.00%'],\n ['Bhilwara', '27.23%'],\n ['Bikaner', '22.21%'],\n ['Bundi', '33.07%'],\n ['Chittorgarh', '27.72%'],\n ['Churu', '22.79%'],\n ['Dausa', '27.29%'],\n ['Dholpur', '39.82%'],\n ['Dungarpur', '44.69%'],\n ['Ganganagar', '18.23%'],\n ['Hanumangarh', '19.08%'],\n ['Jaipur', '15.07%'],\n ['Jaisalmer', '50.07%'],\n ['Jalore', '40.41%'],\n ['Jhalawar', '32.74%'],\n ['Jhunjhunu', '12.76%'],\n ['Jodhpur', '26.77%'],\n ['Karauli', '39.90%'],\n ['Kota', '13.30%'],\n ['Nagaur', '20.79%'],\n ['Pali', '23.62%'],\n ['Pratapgarh', '52.33%'],\n ['Rajsamand', '29.42%'],\n ['Sawai Madhopur', '33.25%'],\n ['Sikar', '14.27%'],\n ['Sirohi', '41.71%'],\n ['Tonk', '25.23%'],\n ['Udaipur', '47.53%'],\n ['', 'NA'],\n ['THIS IS THE END OF ONE', 'NA'],\n ['Gangtok', '3.90%'],\n ['Gyalshing', '4.66%'],\n ['Mangan', '4.47%'],\n ['Namchi', '2.74%'],\n ['', 'NA'],\n ['THIS IS THE END OF ONE', 'NA'],\n ['Ariyalur', '8.71%'],\n ['Chennai', '0.93%'],\n ['Coimbatore', '2.29%'],\n ['Cuddalore', '6.28%'],\n ['Dharmapuri', '5.26%'],\n ['Dindigul', '4.16%'],\n ['Erode', '2.73%'],\n ['Kanchipuram', '2.97%'],\n ['Kanniyakumari', '1.52%'],\n ['Karur', '4.40%'],\n ['Krishnagiri', '4.90%'],\n ['Madurai', '5.82%'],\n ['Nagapattinam', '8.18%'],\n ['Namakkal', '2.59%'],\n ['Perambalur', '7.61%'],\n ['Pudukkottai', '11.14%'],\n ['Ramanathapuram', '6.53%'],\n ['Salem', '6.56%'],\n ['Sivaganga', '8.64%'],\n ['Thanjavur', '7.23%'],\n ['The Nilgiris', '2.03%'],\n ['Theni', '4.76%'],\n ['Thiruvallur', '2.53%'],\n ['Thiruvarur', '6.79%'],\n ['Thoothukkudi (Tuticorin)', '7.90%'],\n ['Tiruchirappalli', '3.73%'],\n ['Tirunelveli', '5.52%'],\n ['Tiruppur', '3.11%'],\n ['Tiruvannamalai', '5.92%'],\n ['Vellore', '3.16%'],\n ['Villupuram', '9.29%'],\n ['Virudhunagar', '7.99%'],\n ['', 'NA'],\n ['THIS IS THE END OF ONE', 'NA'],\n ['Adilabad', '27.12%'],\n ['Bhadradri Kothagudem', '4.33%'],\n ['Hyderabad', '4.21%'],\n ['Jagitial', '4.77%'],\n ['Jangoan', '2.91%'],\n ['Jayashankar Bhupalapally', '6.33%'],\n ['Jogulamba Gadwal', '15.37%'],\n ['Kamareddy', '11.90%'],\n ['Karimnagar', '8.65%'],\n ['Khammam', '13.75%'],\n ['Kumuram Bheem Asifabad', '16.59%'],\n ['Mahabubabad', '6.45%'],\n ['Mahabubnagar', '24.72%'],\n ['Mancherial', '4.43%'],\n ['Medak', '17.87%'],\n ['', 'Medchal-Malkajgiri'],\n ['Nagarkurnool', '5.95%'],\n ['Nalgonda', '13.35%'],\n ['Nirmal', '7.14%'],\n ['Nizamabad', '21.06%'],\n ['Peddapalli', '2.17%'],\n ['Rajanna Sircilla', '3.68%'],\n ['Ranga Reddy', '5.31%'],\n ['Sangareddy', '7.09%'],\n ['Siddipet', '3.39%'],\n ['Suryapet', '3.89%'],\n ['Vikarabad', '12.50%'],\n ['Wanaparthy', '8.86%'],\n ['Warangal', '12.12%'],\n ['Warangal Rural', '6.45%'],\n ['Warangal Urban', '2.41%'],\n ['Yadadri Bhuvanagiri', '4.24%'],\n ['', 'NA'],\n ['THIS IS THE END OF ONE', 'NA'],\n ['Dhalai', '26.23%'],\n ['Gomati', '9.06%'],\n ['Khowai', '17.27%'],\n ['North Tripura', '30.65%'],\n ['Sepahijala', '12.27%'],\n ['South Tripura', '17.03%'],\n ['Unakoti', '24.92%'],\n ['West Tripura', '8.97%'],\n ['', 'NA'],\n ['', 'NA'],\n ['THIS IS THE END OF ONE', 'NA'],\n ['Agra', '32.83%'],\n ['Aligarh', '37.26%'],\n ['Allahabad (Prayagraj)', '32.77%'],\n ['Ambedkar Nagar', '34.03%'],\n ['Amethi', '28.96%'],\n ['Auraiya', '29.82%'],\n ['Azamgarh', '32.77%'],\n ['Baghpat', '21.08%'],\n ['Bahraich', '71.85%'],\n ['Ballia', '37.11%'],\n ['Balrampur', '69.45%'],\n ['Banda', '40.18%'],\n ['Barabanki', '44.77%'],\n ['Bareilly', '38.58%'],\n ['Basti', '43.26%'],\n ['Bijnor', '29.76%'],\n ['Budaun', '57.10%'],\n ['Bulandshahr', '32.88%'],\n ['Chandauli', '37.91%'],\n ['Chitrakoot', '52.81%'],\n ['Deoria', '31.36%'],\n ['Etah', '38.47%'],\n ['Etawah', '27.29%'],\n ['Faizabad (Ayodhya)', '38.73%'],\n ['Farrukhabad', '39.18%'],\n ['Fatehpur', '42.63%'],\n ['Firozabad', '32.03%'],\n ['Gautam Buddha Nagar', '15.17%'],\n ['Ghaziabad', '16.59%'],\n ['Ghazipur', '41.04%'],\n ['Gonda', '59.26%'],\n ['Gorakhpur', '26.17%'],\n ['Hamirpur', '30.92%'],\n ['Hapur', '12.60%'],\n ['Hardoi', '51.16%'],\n ['Jalaun', '27.64%'],\n ['Jaunpur', '40.78%'],\n ['Jhansi', '20.17%'],\n ['Jyotiba Phule Nagar (Amroha)', '34.84%'],\n ['Kannauj', '43.50%'],\n ['Kanpur Dehat', '37.98%'],\n ['Kanpur Nagar', '14.32%'],\n ['Kasganj', '47.81%'],\n ['Kaushambi', '56.06%'],\n ['Kheri', '59.95%'],\n ['Kushi Nagar', '42.82%'],\n ['Lalitpur', '35.98%'],\n ['Lucknow', '12.16%'],\n ['Mahamaya Nagar (Hathras)', '32.35%'],\n ['Mahrajganj', '49.12%'],\n ['Mahoba', '35.29%'],\n ['Mainpuri', '31.41%'],\n ['Mathura', '33.78%'],\n ['Mau', '32.63%'],\n ['Meerut', '21.10%'],\n ['Mirzapur', '42.73%'],\n ['Moradabad', '36.85%'],\n ['Muzaffarnagar', '29.85%'],\n ['Pilibhit', '43.26%'],\n ['Pratapgarh', '36.94%'],\n ['Rae Bareli', '34.10%'],\n ['Rampur', '38.89%'],\n ['Saharanpur', '28.52%'],\n ['Sambhal', '35.06%'],\n ['Sant Kabeer Nagar', '43.79%'],\n ['Sant Ravidas Nagar (Bhadohi)', '42.19%'],\n ['Shahjahanpur', '50.52%'],\n ['Shamli', '22.45%'],\n ['Shravasti', '74.35%'],\n ['Siddharth Nagar', '57.24%'],\n ['Sitapur', '56.71%'],\n ['Sonbhadra', '48.35%'],\n ['Sultanpur', '36.23%'],\n ['Unnao', '40.79%'],\n ['Varanasi', '26.00%'],\n ['', 'NA'],\n ['THIS IS THE END OF ONE', 'NA'],\n ['Almora', '25.65%'],\n ['Bageshwar', '19.99%'],\n ['Chamoli', '16.78%'],\n ['Champawat', '22.41%'],\n ['Dehradun', '6.88%'],\n ['Garhwal (Pauri', '11.93%'],\n ['Haridwar', '24.70%'],\n ['Nainital', '13.39%'],\n ['Pithoragarh', '13.96%'],\n ['Rudraprayag', '13.91%'],\n ['Tehri Garhwal', '19.53%'],\n ['Udham Singh Nagar', '22.98%'],\n ['Uttarkashi', '24.28%'],\n ['', 'NA'],\n ['THIS IS THE END OF ONE', 'NA'],\n ['Bankura', '26.99%'],\n ['Barddhaman', '20.33%'],\n ['Birbhum', '27.35%'],\n ['Dakshin', 'NA'],\n ['', '22.48%'],\n ['(Dinajpur', 'NA'],\n ['Darjeeling', '11.32%'],\n ['Howrah', '12.84%'],\n ['Hugli (Hooghly)', '14.93%'],\n ['Jalpaiguri', '21.83%'],\n ['Koch Bihar (Coochbehar)', '21.90%'],\n ['Kolkata', '2.72%'],\n ['Maldah', '34.48%'],\n ['Murshidabad', '27.23%'],\n ['Nadia', '11.07%'],\n ['North Parganas', '9.80%'],\n ['Paschim Bardhaman', '11.20%'],\n ['Paschim', 'NA'],\n ['', '23.82%'],\n ['(Medinipur', 'NA'],\n ['Purba Bardhaman', '14.32%'],\n ['Purba', 'NA'],\n ['', '14.19%'],\n ['(Medinipur', 'NA'],\n ['Puruliya', '49.69%'],\n ['South Parganas', '28.10%'],\n ['Uttar', 'NA'],\n ['', '42.84%'],\n ['(Dinjapur', 'NA'],\n ['', 'NA'],\n ['THIS IS THE END OF ONE', 'NA'],\n ['Nicobars', '5.28%'],\n ['North', 'NA'],\n ['', '9.32%'],\n ['', 'NA'],\n ['South Andamans', '2.20%'],\n ['', 'NA'],\n ['', 'NA'],\n ['', 'NA'],\n ['THIS IS THE END OF ONE', 'NA'],\n ['Chandigarh', '5.97%'],\n ['', 'NA'],\n ['', 'NA'],\n ['', 'NA'],\n ['THIS IS THE END OF ONE', 'NA'],\n ['Dadra Nagar Haveli', '26.40%'],\n ['Daman', '7.15%'],\n ['Diu', '4.34%'],\n ['', 'NA'],\n ['', 'NA'],\n ['THIS IS THE END OF ONE', 'NA'],\n ['Central', '3.84%'],\n ['East', '4.06%'],\n ['New Delhi', '4.16%'],\n ['North', '2.41%'],\n ['North East', '7.35%'],\n ['North West', '6.84%'],\n ['Shahdara', '1.52%'],\n ['South', '4.69%'],\n ['South East', '2.69%'],\n ['South West', '2.17%'],\n ['West', '2.29%'],\n ['', 'NA'],\n ['THIS IS THE END OF ONE', 'NA'],\n ['Anantnag', '8.36%'],\n ['Badgam (Budgam)', '6.84%'],\n ['Bandipora', '11.07%'],\n ['Baramulla', '7.06%'],\n ['Doda', '28.71%'],\n ['Ganderbal', '7.82%'],\n ['Jammu', '6.97%'],\n ['Kathua', '13.08%'],\n ['Kishtwar', '24.29%'],\n ['Kulgam', '7.43%'],\n ['Kupwara', '16.08%'],\n ['Pulwama', '3.79%'],\n ['Punch (Poonch)', '24.27%'],\n ['Rajouri', '27.41%'],\n ['Ramban', '35.26%'],\n ['Reasi', '21.92%'],\n ['Samba', '9.67%'],\n ['Shopian', '6.51%'],\n ['Srinagar', '1.51%'],\n ['Udhampur', '26.83%'],\n ['', 'NA'],\n ['THIS IS THE END OF ONE', 'NA'],\n ['Kargil', '19.29%'],\n ['Leh Ladakh', '5.37%'],\n ['', 'NA'],\n ['', 'NA'],\n ['', 'NA'],\n ['THIS IS THE END OF ONE', 'NA'],\n ['', 'NA'],\n ['Karaikal', '3.13%'],\n ['Mahe', '0.08%'],\n ['Puducherry', '1.30%'],\n ['Yanam', '5.06%'],\n ['', 'NA'],\n ['Alirajpur', '71.31%'],\n ['Anuppur', '41.65%'],\n ['Ashoknagar', '42.78%'],\n ['Balaghat', '40.06%'],\n ['Barwani', '61.60%'],\n ['Betul', '34.50%'],\n ['Bhind', '33.18%'],\n ['Bhopal', '12.66%'],\n ['Burhanpur', '36.94%'],\n ['Chhatarpur', '48.78%'],\n ['Chhindwara', '30.14%'],\n ['Damoh', '46.31%'],\n ['Datia', '34.24%'],\n ['Dewas', '29.67%'],\n ['Dhar', '40.28%'],\n ['Dindori', '56.23%'],\n ['Guna', '45.67%'],\n ['Gwalior', '22.38%'],\n ['Harda', '33.11%'],\n ['Hoshangabad', '24.72%'],\n ['Indore', '10.76%'],\n ['Jabalpur', '19.50%'],\n ['Jhabua', '68.86%'],\n ['Katni', '39.94%'],\n ['Khandwa (East', '42.53%'],\n ['Khargone (West', '35.80%'],\n ['Mandla', '48.09%'],\n ['Mandsaur', '33.00%'],\n ['Morena', '32.36%'],\n ['Narsinghpur', '30.55%'],\n ['Neemuch', '31.87%'],\n ['Panna', '42.63%'],\n ['Raisen', '34.52%'],\n ['Rajgarh', '41.77%'],\n ['Ratlam', '41.48%'],\n ['Rewa', '36.94%'],\n ['Sagar', '40.07%'],\n ['Satna', '34.12%'],\n ['Sehore', '26.69%'],\n ['Seoni', '42.55%'],\n ['Shahdol', '43.47%'],\n ['Shajapur', '33.45%'],\n ['Sheopur', '49.72%'],\n ['Shivpuri', '46.09%'],\n ['Sidhi', '52.68%'],\n ['Singrauli', '51.92%'],\n ['Tikamgarh', '47.52%'],\n ['Ujjain', '29.58%'],\n ['Umaria', '45.45%'],\n ['Vidisha', '47.19%'],\n ['', 'NA']]"
     },
     "execution_count": 2813,
     "metadata": {},
     "output_type": "execute_result"
    }
   ],
   "source": [
    "district_info"
   ],
   "metadata": {
    "collapsed": false,
    "ExecuteTime": {
     "end_time": "2023-12-16T09:24:22.192077900Z",
     "start_time": "2023-12-16T09:24:22.158530Z"
    }
   },
   "id": "62a920f9d548dab7"
  },
  {
   "cell_type": "code",
   "execution_count": 2814,
   "outputs": [],
   "source": [
    "poverty_df = pd.DataFrame({'Districts':[row[0] for row in district_info], 'MPI HCR':[row[1] for row in district_info]})"
   ],
   "metadata": {
    "collapsed": false,
    "ExecuteTime": {
     "end_time": "2023-12-16T09:24:22.228229700Z",
     "start_time": "2023-12-16T09:24:22.183288600Z"
    }
   },
   "id": "996b3430fc4eb163"
  },
  {
   "cell_type": "code",
   "execution_count": 2815,
   "outputs": [],
   "source": [
    "poverty_df = poverty_df.drop_duplicates()"
   ],
   "metadata": {
    "collapsed": false,
    "ExecuteTime": {
     "end_time": "2023-12-16T09:24:22.251743500Z",
     "start_time": "2023-12-16T09:24:22.189087400Z"
    }
   },
   "id": "6a0d731b27c4f8ea"
  },
  {
   "cell_type": "code",
   "execution_count": 2816,
   "outputs": [
    {
     "data": {
      "text/plain": "                  Districts MPI HCR\n0               Lakshadweep   1.82%\n1                                NA\n4    THIS IS THE END OF ONE      NA\n5                 Anantapur  12.47%\n6                  Chittoor   9.64%\n..                      ...     ...\n814               Singrauli  51.92%\n815               Tikamgarh  47.52%\n816                  Ujjain  29.58%\n817                  Umaria  45.45%\n818                 Vidisha  47.19%\n\n[730 rows x 2 columns]",
      "text/html": "<div>\n<style scoped>\n    .dataframe tbody tr th:only-of-type {\n        vertical-align: middle;\n    }\n\n    .dataframe tbody tr th {\n        vertical-align: top;\n    }\n\n    .dataframe thead th {\n        text-align: right;\n    }\n</style>\n<table border=\"1\" class=\"dataframe\">\n  <thead>\n    <tr style=\"text-align: right;\">\n      <th></th>\n      <th>Districts</th>\n      <th>MPI HCR</th>\n    </tr>\n  </thead>\n  <tbody>\n    <tr>\n      <th>0</th>\n      <td>Lakshadweep</td>\n      <td>1.82%</td>\n    </tr>\n    <tr>\n      <th>1</th>\n      <td></td>\n      <td>NA</td>\n    </tr>\n    <tr>\n      <th>4</th>\n      <td>THIS IS THE END OF ONE</td>\n      <td>NA</td>\n    </tr>\n    <tr>\n      <th>5</th>\n      <td>Anantapur</td>\n      <td>12.47%</td>\n    </tr>\n    <tr>\n      <th>6</th>\n      <td>Chittoor</td>\n      <td>9.64%</td>\n    </tr>\n    <tr>\n      <th>...</th>\n      <td>...</td>\n      <td>...</td>\n    </tr>\n    <tr>\n      <th>814</th>\n      <td>Singrauli</td>\n      <td>51.92%</td>\n    </tr>\n    <tr>\n      <th>815</th>\n      <td>Tikamgarh</td>\n      <td>47.52%</td>\n    </tr>\n    <tr>\n      <th>816</th>\n      <td>Ujjain</td>\n      <td>29.58%</td>\n    </tr>\n    <tr>\n      <th>817</th>\n      <td>Umaria</td>\n      <td>45.45%</td>\n    </tr>\n    <tr>\n      <th>818</th>\n      <td>Vidisha</td>\n      <td>47.19%</td>\n    </tr>\n  </tbody>\n</table>\n<p>730 rows × 2 columns</p>\n</div>"
     },
     "execution_count": 2816,
     "metadata": {},
     "output_type": "execute_result"
    }
   ],
   "source": [
    "poverty_df"
   ],
   "metadata": {
    "collapsed": false,
    "ExecuteTime": {
     "end_time": "2023-12-16T09:24:22.252741100Z",
     "start_time": "2023-12-16T09:24:22.198390500Z"
    }
   },
   "id": "415b718cb664bb2f"
  },
  {
   "cell_type": "code",
   "execution_count": 2817,
   "outputs": [
    {
     "data": {
      "text/plain": "    Districts              MPI HCR\n1                               NA\n130                 Janjgir-Champa\n146                         27.03%\n247                         57.60%\n250                         23.99%\n255            Saraikela-Kharsawan\n261                          2.05%\n264                          7.03%\n332                         52.12%\n445                          7.71%\n451                          5.05%\n549             Medchal-Malkajgiri\n675                         22.48%\n689                         23.82%\n693                         14.19%\n698                         42.84%\n704                          9.32%",
      "text/html": "<div>\n<style scoped>\n    .dataframe tbody tr th:only-of-type {\n        vertical-align: middle;\n    }\n\n    .dataframe tbody tr th {\n        vertical-align: top;\n    }\n\n    .dataframe thead th {\n        text-align: right;\n    }\n</style>\n<table border=\"1\" class=\"dataframe\">\n  <thead>\n    <tr style=\"text-align: right;\">\n      <th></th>\n      <th>Districts</th>\n      <th>MPI HCR</th>\n    </tr>\n  </thead>\n  <tbody>\n    <tr>\n      <th>1</th>\n      <td></td>\n      <td>NA</td>\n    </tr>\n    <tr>\n      <th>130</th>\n      <td></td>\n      <td>Janjgir-Champa</td>\n    </tr>\n    <tr>\n      <th>146</th>\n      <td></td>\n      <td>27.03%</td>\n    </tr>\n    <tr>\n      <th>247</th>\n      <td></td>\n      <td>57.60%</td>\n    </tr>\n    <tr>\n      <th>250</th>\n      <td></td>\n      <td>23.99%</td>\n    </tr>\n    <tr>\n      <th>255</th>\n      <td></td>\n      <td>Saraikela-Kharsawan</td>\n    </tr>\n    <tr>\n      <th>261</th>\n      <td></td>\n      <td>2.05%</td>\n    </tr>\n    <tr>\n      <th>264</th>\n      <td></td>\n      <td>7.03%</td>\n    </tr>\n    <tr>\n      <th>332</th>\n      <td></td>\n      <td>52.12%</td>\n    </tr>\n    <tr>\n      <th>445</th>\n      <td></td>\n      <td>7.71%</td>\n    </tr>\n    <tr>\n      <th>451</th>\n      <td></td>\n      <td>5.05%</td>\n    </tr>\n    <tr>\n      <th>549</th>\n      <td></td>\n      <td>Medchal-Malkajgiri</td>\n    </tr>\n    <tr>\n      <th>675</th>\n      <td></td>\n      <td>22.48%</td>\n    </tr>\n    <tr>\n      <th>689</th>\n      <td></td>\n      <td>23.82%</td>\n    </tr>\n    <tr>\n      <th>693</th>\n      <td></td>\n      <td>14.19%</td>\n    </tr>\n    <tr>\n      <th>698</th>\n      <td></td>\n      <td>42.84%</td>\n    </tr>\n    <tr>\n      <th>704</th>\n      <td></td>\n      <td>9.32%</td>\n    </tr>\n  </tbody>\n</table>\n</div>"
     },
     "execution_count": 2817,
     "metadata": {},
     "output_type": "execute_result"
    }
   ],
   "source": [
    "poverty_df[poverty_df['Districts'] == '']"
   ],
   "metadata": {
    "collapsed": false,
    "ExecuteTime": {
     "end_time": "2023-12-16T09:24:22.252741100Z",
     "start_time": "2023-12-16T09:24:22.212550100Z"
    }
   },
   "id": "aac9d62c69565ca7"
  },
  {
   "cell_type": "code",
   "execution_count": 2818,
   "outputs": [],
   "source": [
    "poverty_df = poverty_df.drop(poverty_df[poverty_df['MPI HCR'] == 'NA'].index)\n",
    "poverty_df = poverty_df.drop(poverty_df[~poverty_df['MPI HCR'].str.contains('%')].index)\n",
    "poverty_df.loc[poverty_df['Districts'] == '', 'Districts'] = ['Uttar Bastar Kanker (Kanker)', 'Pashchimi Singhbhum (West Singhbhum)', 'Purbi Singhbhum (East Singhbhum)', 'Bangalore (Bengaluru Urban)', 'Bangalore Rural (Bengaluru Rural )', 'Nandurbar', 'Muktsar (Sri Muktsar Sahib)', 'Sahibzada Ajit Singh Nagar (S.A.S Nagar)', 'Dakshin Dinajpur (Dinajpur Dakshin)', 'Paschim Medinipur (Medinipur West)', 'Purba Medinipur (Medinipur East)', 'Uttar Dinajpur (Dinjapur Uttar)', 'North & Middle Andaman']\n"
   ],
   "metadata": {
    "collapsed": false,
    "ExecuteTime": {
     "end_time": "2023-12-16T09:24:22.264004300Z",
     "start_time": "2023-12-16T09:24:22.223242800Z"
    }
   },
   "id": "7f847bc492ee11cc"
  },
  {
   "cell_type": "code",
   "execution_count": 2819,
   "outputs": [],
   "source": [
    "new_rows = [pd.DataFrame({'Districts': 'Janjgir-Champa', 'MPI HCR': '23.16%'}, index=[0]),\n",
    "    pd.DataFrame({'Districts': 'Saraikela Kharsawan', 'MPI HCR': '47.79%'}, index=[0]),\n",
    "    pd.DataFrame({'Districts': 'South Andaman', 'MPI HCR': '2.20%'}, index=[0])]\n",
    "\n",
    "poverty_df = pd.concat([poverty_df] + new_rows, ignore_index=True)"
   ],
   "metadata": {
    "collapsed": false,
    "ExecuteTime": {
     "end_time": "2023-12-16T09:24:22.264004300Z",
     "start_time": "2023-12-16T09:24:22.235211Z"
    }
   },
   "id": "8ccc74cc3e3dd057"
  },
  {
   "cell_type": "code",
   "execution_count": 2820,
   "outputs": [],
   "source": [
    "poverty_df = poverty_df.sort_values(by='Districts').reset_index(drop=True)"
   ],
   "metadata": {
    "collapsed": false,
    "ExecuteTime": {
     "end_time": "2023-12-16T09:24:22.264004300Z",
     "start_time": "2023-12-16T09:24:22.238678500Z"
    }
   },
   "id": "3a9f65a7f57a2582"
  },
  {
   "cell_type": "code",
   "execution_count": 2821,
   "outputs": [
    {
     "data": {
      "text/plain": "      Districts MPI HCR             State\n32   Aurangabad  43.94%             BIHAR\n33   Aurangabad  14.22%       MAHARASHTRA\n94     Bilaspur   7.54%  HIMACHAL PRADESH\n95     Bilaspur  25.66%      CHHATTISGARH\n236    Hamirpur   4.43%  HIMACHAL PRADESH\n237    Hamirpur  30.92%     UTTAR PRADESH\n501  Pratapgarh  52.33%         RAJASTHAN\n502  Pratapgarh  36.94%     UTTAR PRADESH",
      "text/html": "<div>\n<style scoped>\n    .dataframe tbody tr th:only-of-type {\n        vertical-align: middle;\n    }\n\n    .dataframe tbody tr th {\n        vertical-align: top;\n    }\n\n    .dataframe thead th {\n        text-align: right;\n    }\n</style>\n<table border=\"1\" class=\"dataframe\">\n  <thead>\n    <tr style=\"text-align: right;\">\n      <th></th>\n      <th>Districts</th>\n      <th>MPI HCR</th>\n      <th>State</th>\n    </tr>\n  </thead>\n  <tbody>\n    <tr>\n      <th>32</th>\n      <td>Aurangabad</td>\n      <td>43.94%</td>\n      <td>BIHAR</td>\n    </tr>\n    <tr>\n      <th>33</th>\n      <td>Aurangabad</td>\n      <td>14.22%</td>\n      <td>MAHARASHTRA</td>\n    </tr>\n    <tr>\n      <th>94</th>\n      <td>Bilaspur</td>\n      <td>7.54%</td>\n      <td>HIMACHAL PRADESH</td>\n    </tr>\n    <tr>\n      <th>95</th>\n      <td>Bilaspur</td>\n      <td>25.66%</td>\n      <td>CHHATTISGARH</td>\n    </tr>\n    <tr>\n      <th>236</th>\n      <td>Hamirpur</td>\n      <td>4.43%</td>\n      <td>HIMACHAL PRADESH</td>\n    </tr>\n    <tr>\n      <th>237</th>\n      <td>Hamirpur</td>\n      <td>30.92%</td>\n      <td>UTTAR PRADESH</td>\n    </tr>\n    <tr>\n      <th>501</th>\n      <td>Pratapgarh</td>\n      <td>52.33%</td>\n      <td>RAJASTHAN</td>\n    </tr>\n    <tr>\n      <th>502</th>\n      <td>Pratapgarh</td>\n      <td>36.94%</td>\n      <td>UTTAR PRADESH</td>\n    </tr>\n  </tbody>\n</table>\n</div>"
     },
     "execution_count": 2821,
     "metadata": {},
     "output_type": "execute_result"
    }
   ],
   "source": [
    "poverty_df = poverty_df.drop(47)\n",
    "duplicated = poverty_df[poverty_df['Districts'].duplicated(keep=False)]\n",
    "poverty_df = poverty_df[~poverty_df['Districts'].duplicated(keep=False)]\n",
    "duplicated['State'] = ['BIHAR', 'MAHARASHTRA', 'HIMACHAL PRADESH', 'CHHATTISGARH', 'HIMACHAL PRADESH', 'UTTAR PRADESH', ' RAJASTHAN', 'UTTAR PRADESH']\n",
    "duplicated"
   ],
   "metadata": {
    "collapsed": false,
    "ExecuteTime": {
     "end_time": "2023-12-16T09:24:22.280283500Z",
     "start_time": "2023-12-16T09:24:22.246757600Z"
    }
   },
   "id": "5c707ed808436081"
  },
  {
   "cell_type": "code",
   "execution_count": 2822,
   "outputs": [
    {
     "data": {
      "text/plain": "       Districts MPI HCR\n0       (Kadapa)   9.14%\n1       Adilabad  27.12%\n2           Agra  32.83%\n3      Ahmedabad   5.85%\n4     Ahmednagar  15.40%\n..           ...     ...\n703       Yadgir  41.67%\n704  Yamunanagar   4.47%\n705        Yanam   5.06%\n706     Yavatmal  23.54%\n707    Zunheboto  23.61%\n\n[699 rows x 2 columns]",
      "text/html": "<div>\n<style scoped>\n    .dataframe tbody tr th:only-of-type {\n        vertical-align: middle;\n    }\n\n    .dataframe tbody tr th {\n        vertical-align: top;\n    }\n\n    .dataframe thead th {\n        text-align: right;\n    }\n</style>\n<table border=\"1\" class=\"dataframe\">\n  <thead>\n    <tr style=\"text-align: right;\">\n      <th></th>\n      <th>Districts</th>\n      <th>MPI HCR</th>\n    </tr>\n  </thead>\n  <tbody>\n    <tr>\n      <th>0</th>\n      <td>(Kadapa)</td>\n      <td>9.14%</td>\n    </tr>\n    <tr>\n      <th>1</th>\n      <td>Adilabad</td>\n      <td>27.12%</td>\n    </tr>\n    <tr>\n      <th>2</th>\n      <td>Agra</td>\n      <td>32.83%</td>\n    </tr>\n    <tr>\n      <th>3</th>\n      <td>Ahmedabad</td>\n      <td>5.85%</td>\n    </tr>\n    <tr>\n      <th>4</th>\n      <td>Ahmednagar</td>\n      <td>15.40%</td>\n    </tr>\n    <tr>\n      <th>...</th>\n      <td>...</td>\n      <td>...</td>\n    </tr>\n    <tr>\n      <th>703</th>\n      <td>Yadgir</td>\n      <td>41.67%</td>\n    </tr>\n    <tr>\n      <th>704</th>\n      <td>Yamunanagar</td>\n      <td>4.47%</td>\n    </tr>\n    <tr>\n      <th>705</th>\n      <td>Yanam</td>\n      <td>5.06%</td>\n    </tr>\n    <tr>\n      <th>706</th>\n      <td>Yavatmal</td>\n      <td>23.54%</td>\n    </tr>\n    <tr>\n      <th>707</th>\n      <td>Zunheboto</td>\n      <td>23.61%</td>\n    </tr>\n  </tbody>\n</table>\n<p>699 rows × 2 columns</p>\n</div>"
     },
     "execution_count": 2822,
     "metadata": {},
     "output_type": "execute_result"
    }
   ],
   "source": [
    "poverty_df"
   ],
   "metadata": {
    "collapsed": false,
    "ExecuteTime": {
     "end_time": "2023-12-16T09:24:22.320177500Z",
     "start_time": "2023-12-16T09:24:22.258604500Z"
    }
   },
   "id": "cf302aeba4f96491"
  },
  {
   "cell_type": "code",
   "execution_count": 2823,
   "outputs": [],
   "source": [
    "poverty_districts = poverty_df['Districts'].tolist()\n",
    "districts = df['District'].tolist()"
   ],
   "metadata": {
    "collapsed": false,
    "ExecuteTime": {
     "end_time": "2023-12-16T09:24:22.354086500Z",
     "start_time": "2023-12-16T09:24:22.265996400Z"
    }
   },
   "id": "6a41954b68661e65"
  },
  {
   "cell_type": "code",
   "execution_count": 2824,
   "outputs": [],
   "source": [
    "skippable = ['Bid', 'Bangalore', 'Chittaurgarh', 'Rangareddy', 'Bangalore Rural', 'Faizabad', 'Kanshiram Nagar', 'South']"
   ],
   "metadata": {
    "collapsed": false,
    "ExecuteTime": {
     "end_time": "2023-12-16T09:24:22.367051700Z",
     "start_time": "2023-12-16T09:24:22.273302600Z"
    }
   },
   "id": "c5ae6bc50e5c8c32"
  },
  {
   "cell_type": "code",
   "execution_count": 2825,
   "outputs": [
    {
     "name": "stdout",
     "output_type": "stream",
     "text": [
      "2 Gondiya : Gondia\n",
      "2 Sahibganj : Sahebganj\n",
      "2 Debagarh : Deogarh\n",
      "2 Mahbubnagar : Mahabubnagar\n",
      "2 Ahmadnagar : Ahmednagar\n",
      "2 Bagalkot : Bagalkote\n",
      "2 Saraikela-Kharsawan : Saraikela Kharsawan\n",
      "2 Hardwar : Haridwar\n",
      "2 Khargone (West Nimar) : Khargone (West\n",
      "1 Paschim Medinipur : Paschim Medinipur (Medinipur West)\n",
      "2 Hamirpur : Hapur\n",
      "1 Punch : Punch (Poonch)\n",
      "2 Firozpur : Ferozepur\n",
      "2 Purba Champaran : Purbi Champaran\n",
      "1 Badgam : Badgam (Budgam)\n",
      "1 Purba Medinipur : Purba Medinipur (Medinipur East)\n",
      "2 Narsimhapur : Narsinghpur\n",
      "2 Janjgir - Champa : Janjgir-Champa\n",
      "2 Kushinagar : Kushi Nagar\n",
      "3 The Dangs : Dang\n",
      "2 Shahid Bhagat Singh Nagar : Shahid Bhagat Singh\n",
      "1 Dakshin Dinajpur : Dakshin Dinajpur (Dinajpur Dakshin)\n",
      "2 Sant Kabir Nagar : Sant Kabeer Nagar\n",
      "1 Gulbarga : Gulbarga (Kalaburagi)\n",
      "1 Uttar Dinajpur : Uttar Dinajpur (Dinjapur Uttar)\n",
      "1 Mahamaya Nagar : Mahamaya Nagar (Hathras)\n",
      "1 Thoothukkudi : Thoothukkudi (Tuticorin)\n",
      "1 Mewat : Nuh (Mewat)\n",
      "2 Chamarajanagar : Chamarajanagara\n",
      "2 Jhunjhunun : Jhunjhunu\n",
      "2 Dhaulpur : Dholpur\n",
      "2 Ribhoi : Ri Bhoi\n",
      "2 Viluppuram : Villupuram\n",
      "1 Pashchimi Singhbhum : Pashchimi Singhbhum (West Singhbhum)\n",
      "2 Shrawasti : Shravasti\n",
      "1 Koch Bihar : Koch Bihar (Coochbehar)\n",
      "1 Garhwal : Garhwal (Pauri\n",
      "2 Shimoga : Shivamogga\n",
      "2 Kancheepuram : Kanchipuram\n",
      "1 Purbi Singhbhum : Purbi Singhbhum (East Singhbhum)\n",
      "2 Darjiling : Darjeeling\n",
      "2 Buldana : Buldhana\n",
      "2 Morigaon : Marigaon\n",
      "2 Dadra & Nagar Haveli : Dadra Nagar Haveli\n",
      "2 Jyotiba Phule Nagar : Jyotiba Phule Nagar (Amroha)\n",
      "2 Tumkur : Tumakuru\n",
      "2 North  & Middle Andaman : North & Middle Andaman\n",
      "2 Visakhapatnam : Visakhapatanam\n",
      "2 Baramula : Baramulla\n",
      "2 Uttar Bastar Kanker : Uttar Bastar Kanker (Kanker)\n",
      "2 Bandipore : Bandipora\n",
      "2 Jamui : Jamul\n",
      "2 Bara Banki : Barabanki\n",
      "2 Leh(Ladakh) : Leh Ladakh\n",
      "2 Kabeerdham : Kabirdham\n",
      "2 Davanagere : Davangere\n",
      "2 Kamrup Metropolitan : Kamrup Metro\n",
      "2 Kodarma : Koderma\n",
      "1 Baudh : Baudh (Boudh)\n",
      "2 Sahibzada Ajit Singh Nagar : Sahibzada Ajit Singh Nagar (S.A.S Nagar)\n",
      "2 Shupiyan : Shopian\n",
      "2 Jaintia Hills : East Jaintia Hills\n",
      "2 Ahmadabad : Ahmedabad\n",
      "2 Lahul & Spiti : Lahul and Spiti\n",
      "1 Bellary : Bellary (Ballari)\n",
      "2 Chikmagalur : Chikkamagaluru\n",
      "2 Nabarangapur : Nabarangpur\n",
      "2 Siddharthnagar : Siddharth Nagar\n",
      "2 Jalor : Jalore\n",
      "2 Khandwa (East Nimar) : Khandwa (East\n",
      "3 Dakshin Bastar Dantewada : Dantewada\n",
      "1 Allahabad : Allahabad (Prayagraj)\n"
     ]
    }
   ],
   "source": [
    "for dist in (set(districts) - set(poverty_districts)):\n",
    "    if dist not in skippable and poverty_districts:\n",
    "        for j in poverty_districts:\n",
    "            if j in districts:\n",
    "                continue\n",
    "            score = fuzz.ratio(dist, j)\n",
    "            if score > 75:\n",
    "                poverty_districts[poverty_districts.index(j)] = dist\n",
    "                print(2,dist,\":\",j)\n",
    "                break\n",
    "            elif j.__contains__(dist):\n",
    "                if score > 50:\n",
    "                    poverty_districts[poverty_districts.index(j)] = dist\n",
    "                    print(1,dist,\":\",j)\n",
    "                    i = i+1\n",
    "                    break\n",
    "            elif dist.__contains__(j):\n",
    "                if score > 50:\n",
    "                    poverty_districts[poverty_districts.index(j)] = dist\n",
    "                    print(3,dist,\":\",j)\n",
    "                    break\n",
    "\n",
    "            \n",
    "# for dist in districts:   \n",
    "#     if dist not in poverty_districts:\n",
    "#         for j in poverty_districts:\n",
    "#             score = fuzz.ratio(dist, j)\n",
    "#             if score > 80:\n",
    "#                 poverty_districts[poverty_districts.index(j)] = dist\n",
    "#                 print(2,dist,j)\n",
    "# \n",
    "\n"
   ],
   "metadata": {
    "collapsed": false,
    "ExecuteTime": {
     "end_time": "2023-12-16T09:24:22.606602100Z",
     "start_time": "2023-12-16T09:24:22.283277100Z"
    }
   },
   "id": "296721eca9c6c9b0"
  },
  {
   "cell_type": "code",
   "execution_count": 2826,
   "outputs": [
    {
     "data": {
      "text/plain": "26"
     },
     "execution_count": 2826,
     "metadata": {},
     "output_type": "execute_result"
    }
   ],
   "source": [
    "len(set(districts) - set(poverty_districts))"
   ],
   "metadata": {
    "collapsed": false,
    "ExecuteTime": {
     "end_time": "2023-12-16T09:24:22.606602100Z",
     "start_time": "2023-12-16T09:24:22.543352400Z"
    }
   },
   "id": "65820f0b2e2c8135"
  },
  {
   "cell_type": "code",
   "execution_count": 2827,
   "outputs": [
    {
     "data": {
      "text/plain": "{'Aurangabad',\n 'Bangalore',\n 'Bangalore Rural',\n 'Belgaum',\n 'Bid',\n 'Bilaspur',\n 'Chittaurgarh',\n 'East District',\n 'Faizabad',\n 'Gurgaon',\n 'Haora',\n 'Hugli',\n 'Kanshiram Nagar',\n 'Koriya',\n 'Muktsar',\n 'Mysore',\n 'North  District',\n 'North Twenty Four Parganas',\n 'Pratapgarh',\n 'Rangareddy',\n 'South District',\n 'South Twenty Four Parganas',\n 'Sri Potti Sriramulu Nellore',\n 'Subarnapur',\n 'West District',\n 'Y.S.R.'}"
     },
     "execution_count": 2827,
     "metadata": {},
     "output_type": "execute_result"
    }
   ],
   "source": [
    "set(districts) - set(poverty_districts)\n",
    "# len(set(districts) - set(poverty_districts))"
   ],
   "metadata": {
    "collapsed": false,
    "ExecuteTime": {
     "end_time": "2023-12-16T09:24:22.606602100Z",
     "start_time": "2023-12-16T09:24:22.547582400Z"
    }
   },
   "id": "c09d7069a12c0cc5"
  },
  {
   "cell_type": "code",
   "execution_count": 2828,
   "outputs": [],
   "source": [
    "district_mapping = {\n",
    "    'Bangalore (Bengaluru Urban)': 'Bangalore',\n",
    "    'Bangalore Rural (Bengaluru Rural )': 'Bangalore Rural',\n",
    "    'Belagavi': 'Belgaum',\n",
    "    'Bid (Beed)': 'Bid',\n",
    "    'Budaun': 'Budaun',\n",
    "    'Chittorgarh': 'Chittaurgarh',\n",
    "    'East': 'East District',\n",
    "    'Faizabad (Ayodhya)': 'Faizabad',\n",
    "    'Gurugram': 'Gurgaon',\n",
    "    'Howrah': 'Haora',\n",
    "    'Hugli (Hooghly)': 'Hugli',\n",
    "    'Korea': 'Koriya',\n",
    "    'Kasganj': 'Kanshiram Nagar',\n",
    "    '(Kadapa)': 'Y.S.R.',\n",
    "    'Muktsar (Sri Muktsar Sahib)': 'Muktsar',\n",
    "    'Mysuru': 'Mysore',\n",
    "    'North Parganas': 'North Twenty Four Parganas',\n",
    "    'Ranga Reddy': 'Rangareddy',\n",
    "    'South Parganas': 'South Twenty Four Parganas',\n",
    "    'South': 'South District',\n",
    "    'Sonepur': 'Subarnapur',\n",
    "    'SPSR Nellore': 'Sri Potti Sriramulu Nellore',\n",
    "    'West': 'West District',\n",
    "    'Yadadri Bhuvanagiri': 'Nzzza'\n",
    "}"
   ],
   "metadata": {
    "collapsed": false,
    "ExecuteTime": {
     "end_time": "2023-12-16T09:24:22.668154100Z",
     "start_time": "2023-12-16T09:24:22.558058200Z"
    }
   },
   "id": "e17471531ec2abf1"
  },
  {
   "cell_type": "code",
   "execution_count": 2829,
   "outputs": [],
   "source": [
    "for item in district_mapping.items():\n",
    "    poverty_districts[poverty_districts.index(item[0])] = item[1]"
   ],
   "metadata": {
    "collapsed": false,
    "ExecuteTime": {
     "end_time": "2023-12-16T09:24:22.668154100Z",
     "start_time": "2023-12-16T09:24:22.564080500Z"
    }
   },
   "id": "4042900250c313dc"
  },
  {
   "cell_type": "code",
   "execution_count": 2830,
   "outputs": [
    {
     "data": {
      "text/plain": "699"
     },
     "execution_count": 2830,
     "metadata": {},
     "output_type": "execute_result"
    }
   ],
   "source": [
    "len(poverty_districts)"
   ],
   "metadata": {
    "collapsed": false,
    "ExecuteTime": {
     "end_time": "2023-12-16T09:24:22.668154100Z",
     "start_time": "2023-12-16T09:24:22.572063100Z"
    }
   },
   "id": "bbe33b311a20788a"
  },
  {
   "cell_type": "code",
   "execution_count": 2831,
   "outputs": [],
   "source": [
    "poverty_df['Districts'] = poverty_districts"
   ],
   "metadata": {
    "collapsed": false,
    "ExecuteTime": {
     "end_time": "2023-12-16T09:24:22.680123100Z",
     "start_time": "2023-12-16T09:24:22.580551300Z"
    }
   },
   "id": "8b8f49bb9ecbcc9"
  },
  {
   "cell_type": "code",
   "execution_count": 2832,
   "outputs": [
    {
     "data": {
      "text/plain": "501    52.33%\n502    36.94%\nName: MPI HCR, dtype: object"
     },
     "execution_count": 2832,
     "metadata": {},
     "output_type": "execute_result"
    }
   ],
   "source": [
    "duplicated.query('Districts == \"Pratapgarh\"')['MPI HCR']"
   ],
   "metadata": {
    "collapsed": false,
    "ExecuteTime": {
     "end_time": "2023-12-16T09:24:22.701375300Z",
     "start_time": "2023-12-16T09:24:22.587270400Z"
    }
   },
   "id": "52af1345325689e6"
  },
  {
   "cell_type": "code",
   "execution_count": 2833,
   "outputs": [
    {
     "name": "stderr",
     "output_type": "stream",
     "text": [
      "C:\\Users\\TAMIM\\AppData\\Local\\Temp\\ipykernel_11892\\997123879.py:3: SettingWithCopyWarning: \n",
      "A value is trying to be set on a copy of a slice from a DataFrame.\n",
      "Try using .loc[row_indexer,col_indexer] = value instead\n",
      "\n",
      "See the caveats in the documentation: https://pandas.pydata.org/pandas-docs/stable/user_guide/indexing.html#returning-a-view-versus-a-copy\n",
      "  selected['MPI HCR'] = values\n"
     ]
    }
   ],
   "source": [
    "selected = df.loc[df['District'] == 'Pratapgarh']\n",
    "values = duplicated.query('Districts == \"Pratapgarh\"')['MPI HCR'].tolist()\n",
    "selected['MPI HCR'] = values\n",
    "selected = selected.drop([172])\n",
    "selected.index = [500000]"
   ],
   "metadata": {
    "collapsed": false,
    "ExecuteTime": {
     "end_time": "2023-12-16T09:24:22.702403100Z",
     "start_time": "2023-12-16T09:24:22.597760900Z"
    }
   },
   "id": "b63389798d1a171d"
  },
  {
   "cell_type": "code",
   "execution_count": 2834,
   "outputs": [],
   "source": [
    "final_df1 = pd.merge(df, poverty_df, left_on='District', right_on='Districts', how='inner')\n",
    "final_df2 = pd.merge(df, duplicated, left_on=['District', 'State'], right_on=['Districts', 'State'], how='inner')"
   ],
   "metadata": {
    "collapsed": false,
    "ExecuteTime": {
     "end_time": "2023-12-16T09:24:22.714343300Z",
     "start_time": "2023-12-16T09:24:22.607599600Z"
    }
   },
   "id": "58d0654a1177c18c"
  },
  {
   "cell_type": "code",
   "execution_count": 2852,
   "outputs": [],
   "source": [
    "test = pd.concat([final_df1, final_df2], ignore_index=True).drop('Districts', axis=1)\n",
    "final_dataset = pd.concat([test, selected], ignore_index=True, verify_integrity=True).sort_values('District').reset_index(drop=True)"
   ],
   "metadata": {
    "collapsed": false,
    "ExecuteTime": {
     "end_time": "2023-12-16T09:27:26.844314400Z",
     "start_time": "2023-12-16T09:27:26.831984500Z"
    }
   },
   "id": "31f0fc42e3f96385"
  },
  {
   "cell_type": "code",
   "execution_count": 18,
   "outputs": [
    {
     "ename": "NameError",
     "evalue": "name 'final_dataset' is not defined",
     "output_type": "error",
     "traceback": [
      "\u001B[1;31m---------------------------------------------------------------------------\u001B[0m",
      "\u001B[1;31mNameError\u001B[0m                                 Traceback (most recent call last)",
      "Cell \u001B[1;32mIn[18], line 1\u001B[0m\n\u001B[1;32m----> 1\u001B[0m \u001B[43mfinal_dataset\u001B[49m\n",
      "\u001B[1;31mNameError\u001B[0m: name 'final_dataset' is not defined"
     ]
    }
   ],
   "source": [
    "final_dataset"
   ],
   "metadata": {
    "collapsed": false,
    "ExecuteTime": {
     "end_time": "2023-12-19T11:35:36.361922300Z",
     "start_time": "2023-12-19T11:35:36.343266Z"
    }
   },
   "id": "f323121eaa635e55"
  },
  {
   "cell_type": "code",
   "execution_count": 21,
   "outputs": [
    {
     "ename": "NameError",
     "evalue": "name 'final_dataset' is not defined",
     "output_type": "error",
     "traceback": [
      "\u001B[1;31m---------------------------------------------------------------------------\u001B[0m",
      "\u001B[1;31mNameError\u001B[0m                                 Traceback (most recent call last)",
      "Cell \u001B[1;32mIn[21], line 1\u001B[0m\n\u001B[1;32m----> 1\u001B[0m \u001B[43mfinal_dataset\u001B[49m\u001B[38;5;241m.\u001B[39mto_csv(\u001B[38;5;124m'\u001B[39m\u001B[38;5;124mdatasets/final_dataset.csv\u001B[39m\u001B[38;5;124m'\u001B[39m, index\u001B[38;5;241m=\u001B[39m\u001B[38;5;28;01mFalse\u001B[39;00m)\n",
      "\u001B[1;31mNameError\u001B[0m: name 'final_dataset' is not defined"
     ]
    }
   ],
   "source": [
    "final_dataset.to_csv('datasets/final_dataset.csv', index=False)"
   ],
   "metadata": {
    "collapsed": false,
    "ExecuteTime": {
     "end_time": "2023-12-19T11:35:39.382824800Z",
     "start_time": "2023-12-19T11:35:39.361881100Z"
    }
   },
   "id": "dffb28efb1419a9d"
  },
  {
   "cell_type": "code",
   "execution_count": 17,
   "outputs": [
    {
     "ename": "NameError",
     "evalue": "name 'final_dataset' is not defined",
     "output_type": "error",
     "traceback": [
      "\u001B[1;31m---------------------------------------------------------------------------\u001B[0m",
      "\u001B[1;31mNameError\u001B[0m                                 Traceback (most recent call last)",
      "Cell \u001B[1;32mIn[17], line 1\u001B[0m\n\u001B[1;32m----> 1\u001B[0m \u001B[43mfinal_dataset\u001B[49m\n",
      "\u001B[1;31mNameError\u001B[0m: name 'final_dataset' is not defined"
     ]
    }
   ],
   "source": [
    "final_dataset"
   ],
   "metadata": {
    "collapsed": false,
    "ExecuteTime": {
     "end_time": "2023-12-19T11:35:34.442059Z",
     "start_time": "2023-12-19T11:35:34.385703200Z"
    }
   },
   "id": "87d2d24630b16a64"
  },
  {
   "cell_type": "code",
   "execution_count": null,
   "outputs": [],
   "source": [],
   "metadata": {
    "collapsed": false
   },
   "id": "be28e28419b3c5a7"
  }
 ],
 "metadata": {
  "kernelspec": {
   "display_name": "Python 3",
   "language": "python",
   "name": "python3"
  },
  "language_info": {
   "codemirror_mode": {
    "name": "ipython",
    "version": 2
   },
   "file_extension": ".py",
   "mimetype": "text/x-python",
   "name": "python",
   "nbconvert_exporter": "python",
   "pygments_lexer": "ipython2",
   "version": "2.7.6"
  }
 },
 "nbformat": 4,
 "nbformat_minor": 5
}
