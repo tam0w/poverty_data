{
 "cells": [
  {
   "cell_type": "markdown",
   "source": [
    "# Examination of Poverty Dynamics through Data Visualization"
   ],
   "metadata": {
    "collapsed": false
   },
   "id": "90fe7e8e4f4c6cec"
  },
  {
   "cell_type": "code",
   "execution_count": 6,
   "outputs": [],
   "source": [
    "import pandas as pd \n",
    "import numpy as np\n",
    "import matplotlib.pyplot as plt\n",
    "import seaborn as sns\n",
    "import os"
   ],
   "metadata": {
    "collapsed": false,
    "ExecuteTime": {
     "end_time": "2023-11-29T16:56:29.123123800Z",
     "start_time": "2023-11-29T16:56:28.070357300Z"
    }
   },
   "id": "initial_id"
  },
  {
   "cell_type": "markdown",
   "source": [
    "## Reading the required datasets"
   ],
   "metadata": {
    "collapsed": false
   },
   "id": "119059892506038b"
  },
  {
   "cell_type": "code",
   "execution_count": 7,
   "outputs": [],
   "source": [
    "dist_data = pd.read_csv(r'datasets/pca-total.csv')\n",
    "dist_data_columns = pd.read_csv(r'datasets/pca-colnames.csv')"
   ],
   "metadata": {
    "collapsed": false,
    "ExecuteTime": {
     "end_time": "2023-11-29T16:56:30.624473100Z",
     "start_time": "2023-11-29T16:56:30.531975200Z"
    }
   },
   "id": "5757af19f5b4b9b5"
  },
  {
   "cell_type": "code",
   "execution_count": 8,
   "outputs": [
    {
     "data": {
      "text/plain": "     State  District     Level                     Name    TRU     TRU1  \\\n0        1         1  DISTRICT                  Kupwara  Total   2379.0   \n1        1         2  DISTRICT                   Badgam  Total   1361.0   \n2        1         3  DISTRICT              Leh(Ladakh)  Total  45110.0   \n3        1         4  DISTRICT                   Kargil  Total  14036.0   \n4        1         5  DISTRICT                    Punch  Total   1674.0   \n..     ...       ...       ...                      ...    ...      ...   \n635     34       636  DISTRICT                     Mahe  Total      9.0   \n636     34       637  DISTRICT                 Karaikal  Total    157.0   \n637     35       638  DISTRICT                 Nicobars  Total   1841.0   \n638     35       639  DISTRICT  North  & Middle Andaman  Total   3736.0   \n639     35       640  DISTRICT            South Andaman  Total   2672.0   \n\n      No_HH   TOT_P   TOT_M   TOT_F  ...  MARG_AL_0_3_F  MARG_HH_0_3_P  \\\n0    113929  870354  474190  396164  ...           1955           1216   \n1    103363  753745  398041  355704  ...           2035           3823   \n2     21909  133487   78971   54516  ...            106             65   \n3     18338  140802   77785   63017  ...            521            263   \n4     90261  476835  251899  224936  ...           2035            948   \n..      ...     ...     ...     ...  ...            ...            ...   \n635    7420   41816   19143   22673  ...              1              1   \n636   49705  200222   97809  102413  ...            383            100   \n637    9288   36842   20727   16115  ...             21            481   \n638   26199  105597   54861   50736  ...            120             30   \n639   59064  238142  127283  110859  ...             63             48   \n\n     MARG_HH_0_3_M  MARG_HH_0_3_F  MARG_OT_0_3_P  MARG_OT_0_3_M  \\\n0              597            619           7369           4727   \n1             1148           2675           4674           2393   \n2               17             48            633            416   \n3               93            170           3887           2920   \n4              243            705           6374           2762   \n..             ...            ...            ...            ...   \n635              0              1            160             78   \n636             17             83           1036            605   \n637            237            244           1346            946   \n638             21              9           1117            697   \n639             24             24           1311            933   \n\n     MARG_OT_0_3_F  NON_WORK_P  NON_WORK_M  NON_WORK_F  \n0             2642      641290      283291      357999  \n1             2281      538879      235463      303416  \n2              217       58408       25706       32702  \n3              967       88929       37946       50983  \n4             3612      315442      134222      181220  \n..             ...         ...         ...         ...  \n635             82       30014       10050       19964  \n636            431      131921       44670       87251  \n637            400       19717        8013       11704  \n638            420       67018       24249       42769  \n639            378      141311       49720       91591  \n\n[640 rows x 91 columns]",
      "text/html": "<div>\n<style scoped>\n    .dataframe tbody tr th:only-of-type {\n        vertical-align: middle;\n    }\n\n    .dataframe tbody tr th {\n        vertical-align: top;\n    }\n\n    .dataframe thead th {\n        text-align: right;\n    }\n</style>\n<table border=\"1\" class=\"dataframe\">\n  <thead>\n    <tr style=\"text-align: right;\">\n      <th></th>\n      <th>State</th>\n      <th>District</th>\n      <th>Level</th>\n      <th>Name</th>\n      <th>TRU</th>\n      <th>TRU1</th>\n      <th>No_HH</th>\n      <th>TOT_P</th>\n      <th>TOT_M</th>\n      <th>TOT_F</th>\n      <th>...</th>\n      <th>MARG_AL_0_3_F</th>\n      <th>MARG_HH_0_3_P</th>\n      <th>MARG_HH_0_3_M</th>\n      <th>MARG_HH_0_3_F</th>\n      <th>MARG_OT_0_3_P</th>\n      <th>MARG_OT_0_3_M</th>\n      <th>MARG_OT_0_3_F</th>\n      <th>NON_WORK_P</th>\n      <th>NON_WORK_M</th>\n      <th>NON_WORK_F</th>\n    </tr>\n  </thead>\n  <tbody>\n    <tr>\n      <th>0</th>\n      <td>1</td>\n      <td>1</td>\n      <td>DISTRICT</td>\n      <td>Kupwara</td>\n      <td>Total</td>\n      <td>2379.0</td>\n      <td>113929</td>\n      <td>870354</td>\n      <td>474190</td>\n      <td>396164</td>\n      <td>...</td>\n      <td>1955</td>\n      <td>1216</td>\n      <td>597</td>\n      <td>619</td>\n      <td>7369</td>\n      <td>4727</td>\n      <td>2642</td>\n      <td>641290</td>\n      <td>283291</td>\n      <td>357999</td>\n    </tr>\n    <tr>\n      <th>1</th>\n      <td>1</td>\n      <td>2</td>\n      <td>DISTRICT</td>\n      <td>Badgam</td>\n      <td>Total</td>\n      <td>1361.0</td>\n      <td>103363</td>\n      <td>753745</td>\n      <td>398041</td>\n      <td>355704</td>\n      <td>...</td>\n      <td>2035</td>\n      <td>3823</td>\n      <td>1148</td>\n      <td>2675</td>\n      <td>4674</td>\n      <td>2393</td>\n      <td>2281</td>\n      <td>538879</td>\n      <td>235463</td>\n      <td>303416</td>\n    </tr>\n    <tr>\n      <th>2</th>\n      <td>1</td>\n      <td>3</td>\n      <td>DISTRICT</td>\n      <td>Leh(Ladakh)</td>\n      <td>Total</td>\n      <td>45110.0</td>\n      <td>21909</td>\n      <td>133487</td>\n      <td>78971</td>\n      <td>54516</td>\n      <td>...</td>\n      <td>106</td>\n      <td>65</td>\n      <td>17</td>\n      <td>48</td>\n      <td>633</td>\n      <td>416</td>\n      <td>217</td>\n      <td>58408</td>\n      <td>25706</td>\n      <td>32702</td>\n    </tr>\n    <tr>\n      <th>3</th>\n      <td>1</td>\n      <td>4</td>\n      <td>DISTRICT</td>\n      <td>Kargil</td>\n      <td>Total</td>\n      <td>14036.0</td>\n      <td>18338</td>\n      <td>140802</td>\n      <td>77785</td>\n      <td>63017</td>\n      <td>...</td>\n      <td>521</td>\n      <td>263</td>\n      <td>93</td>\n      <td>170</td>\n      <td>3887</td>\n      <td>2920</td>\n      <td>967</td>\n      <td>88929</td>\n      <td>37946</td>\n      <td>50983</td>\n    </tr>\n    <tr>\n      <th>4</th>\n      <td>1</td>\n      <td>5</td>\n      <td>DISTRICT</td>\n      <td>Punch</td>\n      <td>Total</td>\n      <td>1674.0</td>\n      <td>90261</td>\n      <td>476835</td>\n      <td>251899</td>\n      <td>224936</td>\n      <td>...</td>\n      <td>2035</td>\n      <td>948</td>\n      <td>243</td>\n      <td>705</td>\n      <td>6374</td>\n      <td>2762</td>\n      <td>3612</td>\n      <td>315442</td>\n      <td>134222</td>\n      <td>181220</td>\n    </tr>\n    <tr>\n      <th>...</th>\n      <td>...</td>\n      <td>...</td>\n      <td>...</td>\n      <td>...</td>\n      <td>...</td>\n      <td>...</td>\n      <td>...</td>\n      <td>...</td>\n      <td>...</td>\n      <td>...</td>\n      <td>...</td>\n      <td>...</td>\n      <td>...</td>\n      <td>...</td>\n      <td>...</td>\n      <td>...</td>\n      <td>...</td>\n      <td>...</td>\n      <td>...</td>\n      <td>...</td>\n      <td>...</td>\n    </tr>\n    <tr>\n      <th>635</th>\n      <td>34</td>\n      <td>636</td>\n      <td>DISTRICT</td>\n      <td>Mahe</td>\n      <td>Total</td>\n      <td>9.0</td>\n      <td>7420</td>\n      <td>41816</td>\n      <td>19143</td>\n      <td>22673</td>\n      <td>...</td>\n      <td>1</td>\n      <td>1</td>\n      <td>0</td>\n      <td>1</td>\n      <td>160</td>\n      <td>78</td>\n      <td>82</td>\n      <td>30014</td>\n      <td>10050</td>\n      <td>19964</td>\n    </tr>\n    <tr>\n      <th>636</th>\n      <td>34</td>\n      <td>637</td>\n      <td>DISTRICT</td>\n      <td>Karaikal</td>\n      <td>Total</td>\n      <td>157.0</td>\n      <td>49705</td>\n      <td>200222</td>\n      <td>97809</td>\n      <td>102413</td>\n      <td>...</td>\n      <td>383</td>\n      <td>100</td>\n      <td>17</td>\n      <td>83</td>\n      <td>1036</td>\n      <td>605</td>\n      <td>431</td>\n      <td>131921</td>\n      <td>44670</td>\n      <td>87251</td>\n    </tr>\n    <tr>\n      <th>637</th>\n      <td>35</td>\n      <td>638</td>\n      <td>DISTRICT</td>\n      <td>Nicobars</td>\n      <td>Total</td>\n      <td>1841.0</td>\n      <td>9288</td>\n      <td>36842</td>\n      <td>20727</td>\n      <td>16115</td>\n      <td>...</td>\n      <td>21</td>\n      <td>481</td>\n      <td>237</td>\n      <td>244</td>\n      <td>1346</td>\n      <td>946</td>\n      <td>400</td>\n      <td>19717</td>\n      <td>8013</td>\n      <td>11704</td>\n    </tr>\n    <tr>\n      <th>638</th>\n      <td>35</td>\n      <td>639</td>\n      <td>DISTRICT</td>\n      <td>North  &amp; Middle Andaman</td>\n      <td>Total</td>\n      <td>3736.0</td>\n      <td>26199</td>\n      <td>105597</td>\n      <td>54861</td>\n      <td>50736</td>\n      <td>...</td>\n      <td>120</td>\n      <td>30</td>\n      <td>21</td>\n      <td>9</td>\n      <td>1117</td>\n      <td>697</td>\n      <td>420</td>\n      <td>67018</td>\n      <td>24249</td>\n      <td>42769</td>\n    </tr>\n    <tr>\n      <th>639</th>\n      <td>35</td>\n      <td>640</td>\n      <td>DISTRICT</td>\n      <td>South Andaman</td>\n      <td>Total</td>\n      <td>2672.0</td>\n      <td>59064</td>\n      <td>238142</td>\n      <td>127283</td>\n      <td>110859</td>\n      <td>...</td>\n      <td>63</td>\n      <td>48</td>\n      <td>24</td>\n      <td>24</td>\n      <td>1311</td>\n      <td>933</td>\n      <td>378</td>\n      <td>141311</td>\n      <td>49720</td>\n      <td>91591</td>\n    </tr>\n  </tbody>\n</table>\n<p>640 rows × 91 columns</p>\n</div>"
     },
     "execution_count": 8,
     "metadata": {},
     "output_type": "execute_result"
    }
   ],
   "source": [
    "dist_data"
   ],
   "metadata": {
    "collapsed": false,
    "ExecuteTime": {
     "end_time": "2023-11-29T16:56:31.569330Z",
     "start_time": "2023-11-29T16:56:31.440144600Z"
    }
   },
   "id": "684b1d07cba61d7e"
  },
  {
   "cell_type": "code",
   "execution_count": null,
   "outputs": [],
   "source": [],
   "metadata": {
    "collapsed": false
   },
   "id": "70ef17420cbd63e4"
  }
 ],
 "metadata": {
  "kernelspec": {
   "display_name": "Python 3",
   "language": "python",
   "name": "python3"
  },
  "language_info": {
   "codemirror_mode": {
    "name": "ipython",
    "version": 2
   },
   "file_extension": ".py",
   "mimetype": "text/x-python",
   "name": "python",
   "nbconvert_exporter": "python",
   "pygments_lexer": "ipython2",
   "version": "2.7.6"
  }
 },
 "nbformat": 4,
 "nbformat_minor": 5
}
